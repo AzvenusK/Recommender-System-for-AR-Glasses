{
 "cells": [
  {
   "cell_type": "code",
   "execution_count": 8,
   "metadata": {
    "tags": []
   },
   "outputs": [],
   "source": [
    "# Data manipulation\n",
    "import numpy as np\n",
    "import pandas as pd\n",
    "pd.options.display.max_rows = 100\n",
    "\n",
    "# Modeling\n",
    "from matrix_factorization import BaselineModel, KernelMF, train_update_test_split\n",
    "from sklearn.metrics import mean_squared_error\n",
    "from sklearn.model_selection import train_test_split\n",
    "\n",
    "# Other\n",
    "import os\n",
    "import random\n",
    "import sys\n",
    "\n",
    "# Reload imported code \n",
    "%load_ext autoreload\n",
    "%autoreload 2\n",
    "\n",
    "# Print all output\n",
    "from IPython.core.interactiveshell import InteractiveShell\n",
    "InteractiveShell.ast_node_interactivity = \"all\"\n",
    "    \n",
    "rand_seed = 2\n",
    "np.random.seed(rand_seed)\n",
    "random.seed(rand_seed)"
   ]
  },
  {
   "cell_type": "markdown",
   "metadata": {},
   "source": [
    "# Load data"
   ]
  },
  {
   "cell_type": "code",
   "execution_count": 9,
   "metadata": {},
   "outputs": [
    {
     "data": {
      "text/html": [
       "<div>\n",
       "<style scoped>\n",
       "    .dataframe tbody tr th:only-of-type {\n",
       "        vertical-align: middle;\n",
       "    }\n",
       "\n",
       "    .dataframe tbody tr th {\n",
       "        vertical-align: top;\n",
       "    }\n",
       "\n",
       "    .dataframe thead th {\n",
       "        text-align: right;\n",
       "    }\n",
       "</style>\n",
       "<table border=\"1\" class=\"dataframe\">\n",
       "  <thead>\n",
       "    <tr style=\"text-align: right;\">\n",
       "      <th></th>\n",
       "      <th>user_id</th>\n",
       "      <th>item_id</th>\n",
       "      <th>rating</th>\n",
       "    </tr>\n",
       "  </thead>\n",
       "  <tbody>\n",
       "    <tr>\n",
       "      <th>0</th>\n",
       "      <td>20221962</td>\n",
       "      <td>108775015</td>\n",
       "      <td>3</td>\n",
       "    </tr>\n",
       "    <tr>\n",
       "      <th>1</th>\n",
       "      <td>20221900</td>\n",
       "      <td>108775044</td>\n",
       "      <td>5</td>\n",
       "    </tr>\n",
       "    <tr>\n",
       "      <th>2</th>\n",
       "      <td>20221969</td>\n",
       "      <td>108775051</td>\n",
       "      <td>4</td>\n",
       "    </tr>\n",
       "    <tr>\n",
       "      <th>3</th>\n",
       "      <td>20222000</td>\n",
       "      <td>110065001</td>\n",
       "      <td>3</td>\n",
       "    </tr>\n",
       "    <tr>\n",
       "      <th>4</th>\n",
       "      <td>20221967</td>\n",
       "      <td>110065002</td>\n",
       "      <td>2</td>\n",
       "    </tr>\n",
       "    <tr>\n",
       "      <th>5</th>\n",
       "      <td>20221908</td>\n",
       "      <td>110065011</td>\n",
       "      <td>2</td>\n",
       "    </tr>\n",
       "    <tr>\n",
       "      <th>6</th>\n",
       "      <td>20221909</td>\n",
       "      <td>111565001</td>\n",
       "      <td>5</td>\n",
       "    </tr>\n",
       "    <tr>\n",
       "      <th>7</th>\n",
       "      <td>20221995</td>\n",
       "      <td>111565003</td>\n",
       "      <td>3</td>\n",
       "    </tr>\n",
       "    <tr>\n",
       "      <th>8</th>\n",
       "      <td>20221968</td>\n",
       "      <td>111586001</td>\n",
       "      <td>1</td>\n",
       "    </tr>\n",
       "    <tr>\n",
       "      <th>9</th>\n",
       "      <td>20221971</td>\n",
       "      <td>111593001</td>\n",
       "      <td>1</td>\n",
       "    </tr>\n",
       "  </tbody>\n",
       "</table>\n",
       "</div>"
      ],
      "text/plain": [
       "    user_id    item_id  rating\n",
       "0  20221962  108775015       3\n",
       "1  20221900  108775044       5\n",
       "2  20221969  108775051       4\n",
       "3  20222000  110065001       3\n",
       "4  20221967  110065002       2\n",
       "5  20221908  110065011       2\n",
       "6  20221909  111565001       5\n",
       "7  20221995  111565003       3\n",
       "8  20221968  111586001       1\n",
       "9  20221971  111593001       1"
      ]
     },
     "execution_count": 9,
     "metadata": {},
     "output_type": "execute_result"
    }
   ],
   "source": [
    "from os import sep\n",
    "from pathlib import Path\n",
    "\n",
    "cols = ['user_id', 'item_id', 'rating']\n",
    "# movie_data = pd.read_csv('../data/ml-1m/ratings.dat', names = cols, sep = '::', usecols=[0, 1, 2], engine='python')\n",
    "def get_project_root() -> Path:\n",
    "    return Path(sys.path[5]).parent.parent.parent.parent\n",
    "\n",
    "# Data location\n",
    "ROOT_DIR = get_project_root()\n",
    "DATA_DIR = os.path.join(ROOT_DIR, 'GitHub/Recommender-System-for-AR-Glasses/data/articles.csv')\n",
    "\n",
    "articles_data = pd.read_csv(DATA_DIR, names = cols, sep=',', usecols=[0, 1, 2], engine='python')\n",
    "\n",
    "X = articles_data[['user_id', 'item_id']]\n",
    "y = articles_data['rating']\n",
    "\n",
    "# Prepare data\n",
    "X_train, X_test, y_train, y_test = train_test_split(X, y, test_size=0.2)\n",
    "\n",
    "# Prepare data for online learning\n",
    "X_train_initial, y_train_initial, X_train_update, y_train_update, X_test_update, y_test_update = train_update_test_split(articles_data, frac_new_users=0.2)\n",
    "\n",
    "articles_data.head(10)"
   ]
  },
  {
   "cell_type": "markdown",
   "metadata": {},
   "source": [
    "# Simple model with global mean"
   ]
  },
  {
   "cell_type": "markdown",
   "metadata": {},
   "source": [
    "This is similar to just the global standard deviation"
   ]
  },
  {
   "cell_type": "code",
   "execution_count": 10,
   "metadata": {
    "tags": []
   },
   "outputs": [
    {
     "name": "stdout",
     "output_type": "stream",
     "text": [
      "\n",
      "Test RMSE: 1.415903\n"
     ]
    }
   ],
   "source": [
    "global_mean = y_train.mean()\n",
    "pred = [global_mean for _ in range(y_test.shape[0])]\n",
    "\n",
    "rmse = mean_squared_error(y_test, pred, squared = False)\n",
    "\n",
    "print(f'\\nTest RMSE: {rmse:4f}')"
   ]
  },
  {
   "cell_type": "markdown",
   "metadata": {},
   "source": [
    "## SGD"
   ]
  },
  {
   "cell_type": "code",
   "execution_count": 11,
   "metadata": {},
   "outputs": [
    {
     "name": "stdout",
     "output_type": "stream",
     "text": [
      "Epoch  1 / 20  -  train_rmse: 1.401482002396977\n",
      "Epoch  2 / 20  -  train_rmse: 1.3870512145729617\n",
      "Epoch  3 / 20  -  train_rmse: 1.3735675982244606\n",
      "Epoch  4 / 20  -  train_rmse: 1.3597916380837078\n",
      "Epoch  5 / 20  -  train_rmse: 1.3466218815476627\n",
      "Epoch  6 / 20  -  train_rmse: 1.3324322044040586\n",
      "Epoch  7 / 20  -  train_rmse: 1.3195425350836039\n",
      "Epoch  8 / 20  -  train_rmse: 1.305982530142275\n",
      "Epoch  9 / 20  -  train_rmse: 1.2923529653462922\n",
      "Epoch  10 / 20  -  train_rmse: 1.2799232330249988\n",
      "Epoch  11 / 20  -  train_rmse: 1.2668564030373042\n",
      "Epoch  12 / 20  -  train_rmse: 1.2548120412928399\n",
      "Epoch  13 / 20  -  train_rmse: 1.241901703914745\n",
      "Epoch  14 / 20  -  train_rmse: 1.2292240795265685\n",
      "Epoch  15 / 20  -  train_rmse: 1.2170179133212535\n",
      "Epoch  16 / 20  -  train_rmse: 1.2052832306709296\n",
      "Epoch  17 / 20  -  train_rmse: 1.1927497362637933\n",
      "Epoch  18 / 20  -  train_rmse: 1.1811533236047884\n",
      "Epoch  19 / 20  -  train_rmse: 1.1687719839066806\n",
      "Epoch  20 / 20  -  train_rmse: 1.1580283346195268\n",
      "\n",
      "Test RMSE: 1.4204\n",
      "CPU times: user 3.35 s, sys: 30.8 ms, total: 3.38 s\n",
      "Wall time: 3.38 s\n"
     ]
    }
   ],
   "source": [
    "%%time\n",
    "\n",
    "baseline_model = BaselineModel(method='sgd', n_epochs = 20, reg = 0.005, lr = 0.01, verbose=1)\n",
    "baseline_model.fit(X_train, y_train)\n",
    "\n",
    "pred = baseline_model.predict(X_test)\n",
    "rmse = mean_squared_error(y_test, pred, squared = False)\n",
    "\n",
    "print(f'\\nTest RMSE: {rmse:.4f}')"
   ]
  },
  {
   "cell_type": "code",
   "execution_count": 15,
   "metadata": {},
   "outputs": [
    {
     "data": {
      "text/html": [
       "<div>\n",
       "<style scoped>\n",
       "    .dataframe tbody tr th:only-of-type {\n",
       "        vertical-align: middle;\n",
       "    }\n",
       "\n",
       "    .dataframe tbody tr th {\n",
       "        vertical-align: top;\n",
       "    }\n",
       "\n",
       "    .dataframe thead th {\n",
       "        text-align: right;\n",
       "    }\n",
       "</style>\n",
       "<table border=\"1\" class=\"dataframe\">\n",
       "  <thead>\n",
       "    <tr style=\"text-align: right;\">\n",
       "      <th></th>\n",
       "      <th>user_id</th>\n",
       "      <th>item_id</th>\n",
       "      <th>rating_pred</th>\n",
       "    </tr>\n",
       "  </thead>\n",
       "  <tbody>\n",
       "    <tr>\n",
       "      <th>31770</th>\n",
       "      <td>20221974</td>\n",
       "      <td>679853011</td>\n",
       "      <td>3.490969</td>\n",
       "    </tr>\n",
       "    <tr>\n",
       "      <th>23343</th>\n",
       "      <td>20221974</td>\n",
       "      <td>866501003</td>\n",
       "      <td>3.490728</td>\n",
       "    </tr>\n",
       "    <tr>\n",
       "      <th>61917</th>\n",
       "      <td>20221974</td>\n",
       "      <td>433444019</td>\n",
       "      <td>3.489604</td>\n",
       "    </tr>\n",
       "    <tr>\n",
       "      <th>79464</th>\n",
       "      <td>20221974</td>\n",
       "      <td>559212002</td>\n",
       "      <td>3.489565</td>\n",
       "    </tr>\n",
       "    <tr>\n",
       "      <th>52634</th>\n",
       "      <td>20221974</td>\n",
       "      <td>467302100</td>\n",
       "      <td>3.489476</td>\n",
       "    </tr>\n",
       "    <tr>\n",
       "      <th>32508</th>\n",
       "      <td>20221974</td>\n",
       "      <td>816355003</td>\n",
       "      <td>3.489393</td>\n",
       "    </tr>\n",
       "    <tr>\n",
       "      <th>62775</th>\n",
       "      <td>20221974</td>\n",
       "      <td>850606010</td>\n",
       "      <td>3.489063</td>\n",
       "    </tr>\n",
       "    <tr>\n",
       "      <th>5770</th>\n",
       "      <td>20221974</td>\n",
       "      <td>573773004</td>\n",
       "      <td>3.488802</td>\n",
       "    </tr>\n",
       "    <tr>\n",
       "      <th>44574</th>\n",
       "      <td>20221974</td>\n",
       "      <td>619350001</td>\n",
       "      <td>3.488752</td>\n",
       "    </tr>\n",
       "    <tr>\n",
       "      <th>32479</th>\n",
       "      <td>20221974</td>\n",
       "      <td>850824001</td>\n",
       "      <td>3.488739</td>\n",
       "    </tr>\n",
       "  </tbody>\n",
       "</table>\n",
       "</div>"
      ],
      "text/plain": [
       "        user_id    item_id  rating_pred\n",
       "31770  20221974  679853011     3.490969\n",
       "23343  20221974  866501003     3.490728\n",
       "61917  20221974  433444019     3.489604\n",
       "79464  20221974  559212002     3.489565\n",
       "52634  20221974  467302100     3.489476\n",
       "32508  20221974  816355003     3.489393\n",
       "62775  20221974  850606010     3.489063\n",
       "5770   20221974  573773004     3.488802\n",
       "44574  20221974  619350001     3.488752\n",
       "32479  20221974  850824001     3.488739"
      ]
     },
     "execution_count": 15,
     "metadata": {},
     "output_type": "execute_result"
    }
   ],
   "source": [
    "baseline_model.recommend(user=20221974)"
   ]
  },
  {
   "cell_type": "markdown",
   "metadata": {},
   "source": [
    "## ALS"
   ]
  },
  {
   "cell_type": "code",
   "execution_count": 16,
   "metadata": {},
   "outputs": [
    {
     "name": "stdout",
     "output_type": "stream",
     "text": [
      "Epoch  1 / 20  -  train_rmse: 0.47094906530057945\n",
      "Epoch  2 / 20  -  train_rmse: 0.4709490655381043\n",
      "Epoch  3 / 20  -  train_rmse: 0.47094906576224427\n",
      "Epoch  4 / 20  -  train_rmse: 0.4709490659407875\n",
      "Epoch  5 / 20  -  train_rmse: 0.47094906607277853\n",
      "Epoch  6 / 20  -  train_rmse: 0.4709490661664554\n",
      "Epoch  7 / 20  -  train_rmse: 0.4709490662314286\n",
      "Epoch  8 / 20  -  train_rmse: 0.4709490662758738\n",
      "Epoch  9 / 20  -  train_rmse: 0.47094906630597677\n",
      "Epoch  10 / 20  -  train_rmse: 0.4709490663262714\n",
      "Epoch  11 / 20  -  train_rmse: 0.4709490663398614\n",
      "Epoch  12 / 20  -  train_rmse: 0.47094906634898975\n",
      "Epoch  13 / 20  -  train_rmse: 0.47094906635509\n",
      "Epoch  14 / 20  -  train_rmse: 0.4709490663591619\n",
      "Epoch  15 / 20  -  train_rmse: 0.4709490663618534\n",
      "Epoch  16 / 20  -  train_rmse: 0.4709490663636705\n",
      "Epoch  17 / 20  -  train_rmse: 0.4709490663648944\n",
      "Epoch  18 / 20  -  train_rmse: 0.4709490663656943\n",
      "Epoch  19 / 20  -  train_rmse: 0.4709490663662296\n",
      "Epoch  20 / 20  -  train_rmse: 0.4709490663665792\n",
      "\n",
      "Test RMSE: 1.4173\n",
      "CPU times: user 950 ms, sys: 4.11 ms, total: 954 ms\n",
      "Wall time: 952 ms\n"
     ]
    }
   ],
   "source": [
    "%%time\n",
    "\n",
    "baseline_model = BaselineModel(method='als', n_epochs = 20, reg = 0.5, verbose=1)\n",
    "baseline_model.fit(X_train, y_train)\n",
    "\n",
    "pred = baseline_model.predict(X_test)\n",
    "rmse = mean_squared_error(y_test, pred, squared = False)\n",
    "\n",
    "print(f'\\nTest RMSE: {rmse:.4f}')"
   ]
  },
  {
   "cell_type": "markdown",
   "metadata": {},
   "source": [
    "# Matrix Factorization"
   ]
  },
  {
   "cell_type": "markdown",
   "metadata": {},
   "source": [
    "## Linear Kernel"
   ]
  },
  {
   "cell_type": "code",
   "execution_count": 17,
   "metadata": {},
   "outputs": [
    {
     "name": "stdout",
     "output_type": "stream",
     "text": [
      "Epoch  1 / 20  -  train_rmse: 1.4122170093602162\n",
      "Epoch  2 / 20  -  train_rmse: 1.4078393219716903\n",
      "Epoch  3 / 20  -  train_rmse: 1.4036543923444809\n",
      "Epoch  4 / 20  -  train_rmse: 1.399546876778612\n",
      "Epoch  5 / 20  -  train_rmse: 1.3954698884184433\n",
      "Epoch  6 / 20  -  train_rmse: 1.3914213148224133\n",
      "Epoch  7 / 20  -  train_rmse: 1.3873628796967643\n",
      "Epoch  8 / 20  -  train_rmse: 1.3832899823336153\n",
      "Epoch  9 / 20  -  train_rmse: 1.3791809999933626\n",
      "Epoch  10 / 20  -  train_rmse: 1.3750248114788381\n",
      "Epoch  11 / 20  -  train_rmse: 1.3708037475692072\n",
      "Epoch  12 / 20  -  train_rmse: 1.366502267330937\n",
      "Epoch  13 / 20  -  train_rmse: 1.3621124298345768\n",
      "Epoch  14 / 20  -  train_rmse: 1.357612875402347\n",
      "Epoch  15 / 20  -  train_rmse: 1.3529890896267813\n",
      "Epoch  16 / 20  -  train_rmse: 1.3482354512289825\n",
      "Epoch  17 / 20  -  train_rmse: 1.3433300936749246\n",
      "Epoch  18 / 20  -  train_rmse: 1.3382590891069834\n",
      "Epoch  19 / 20  -  train_rmse: 1.3330103244646048\n",
      "Epoch  20 / 20  -  train_rmse: 1.327573728527801\n",
      "\n",
      "Test RMSE: 1.4172\n",
      "CPU times: user 2.36 s, sys: 20.5 ms, total: 2.38 s\n",
      "Wall time: 2.41 s\n"
     ]
    }
   ],
   "source": [
    "%%time \n",
    "matrix_fact = KernelMF(n_epochs = 20, n_factors = 100, verbose = 1, lr = 0.001, reg = 0.005)\n",
    "matrix_fact.fit(X_train, y_train)\n",
    "\n",
    "pred = matrix_fact.predict(X_test)\n",
    "rmse = mean_squared_error(y_test, pred, squared = False)\n",
    "\n",
    "print(f'\\nTest RMSE: {rmse:.4f}')"
   ]
  },
  {
   "cell_type": "markdown",
   "metadata": {},
   "source": [
    "## Getting list of recommendations for a user"
   ]
  },
  {
   "cell_type": "code",
   "execution_count": 18,
   "metadata": {},
   "outputs": [
    {
     "data": {
      "text/html": [
       "<div>\n",
       "<style scoped>\n",
       "    .dataframe tbody tr th:only-of-type {\n",
       "        vertical-align: middle;\n",
       "    }\n",
       "\n",
       "    .dataframe tbody tr th {\n",
       "        vertical-align: top;\n",
       "    }\n",
       "\n",
       "    .dataframe thead th {\n",
       "        text-align: right;\n",
       "    }\n",
       "</style>\n",
       "<table border=\"1\" class=\"dataframe\">\n",
       "  <thead>\n",
       "    <tr style=\"text-align: right;\">\n",
       "      <th></th>\n",
       "      <th>user_id</th>\n",
       "      <th>item_id</th>\n",
       "      <th>rating_pred</th>\n",
       "    </tr>\n",
       "  </thead>\n",
       "  <tbody>\n",
       "    <tr>\n",
       "      <th>8330</th>\n",
       "      <td>20221974</td>\n",
       "      <td>600544002</td>\n",
       "      <td>3.707782</td>\n",
       "    </tr>\n",
       "    <tr>\n",
       "      <th>49366</th>\n",
       "      <td>20221974</td>\n",
       "      <td>557157002</td>\n",
       "      <td>3.672905</td>\n",
       "    </tr>\n",
       "    <tr>\n",
       "      <th>3018</th>\n",
       "      <td>20221974</td>\n",
       "      <td>905853001</td>\n",
       "      <td>3.664849</td>\n",
       "    </tr>\n",
       "    <tr>\n",
       "      <th>43702</th>\n",
       "      <td>20221974</td>\n",
       "      <td>546260001</td>\n",
       "      <td>3.655980</td>\n",
       "    </tr>\n",
       "    <tr>\n",
       "      <th>52436</th>\n",
       "      <td>20221974</td>\n",
       "      <td>869870001</td>\n",
       "      <td>3.650100</td>\n",
       "    </tr>\n",
       "    <tr>\n",
       "      <th>46619</th>\n",
       "      <td>20221974</td>\n",
       "      <td>730454062</td>\n",
       "      <td>3.633433</td>\n",
       "    </tr>\n",
       "    <tr>\n",
       "      <th>7526</th>\n",
       "      <td>20221974</td>\n",
       "      <td>507854004</td>\n",
       "      <td>3.626926</td>\n",
       "    </tr>\n",
       "    <tr>\n",
       "      <th>74220</th>\n",
       "      <td>20221974</td>\n",
       "      <td>903861002</td>\n",
       "      <td>3.620899</td>\n",
       "    </tr>\n",
       "    <tr>\n",
       "      <th>33802</th>\n",
       "      <td>20221974</td>\n",
       "      <td>570474033</td>\n",
       "      <td>3.615735</td>\n",
       "    </tr>\n",
       "    <tr>\n",
       "      <th>34469</th>\n",
       "      <td>20221974</td>\n",
       "      <td>665647001</td>\n",
       "      <td>3.593459</td>\n",
       "    </tr>\n",
       "  </tbody>\n",
       "</table>\n",
       "</div>"
      ],
      "text/plain": [
       "        user_id    item_id  rating_pred\n",
       "8330   20221974  600544002     3.707782\n",
       "49366  20221974  557157002     3.672905\n",
       "3018   20221974  905853001     3.664849\n",
       "43702  20221974  546260001     3.655980\n",
       "52436  20221974  869870001     3.650100\n",
       "46619  20221974  730454062     3.633433\n",
       "7526   20221974  507854004     3.626926\n",
       "74220  20221974  903861002     3.620899\n",
       "33802  20221974  570474033     3.615735\n",
       "34469  20221974  665647001     3.593459"
      ]
     },
     "execution_count": 18,
     "metadata": {},
     "output_type": "execute_result"
    }
   ],
   "source": [
    "user = 20221974\n",
    "items_known = X_train.query('user_id == @user')['item_id']\n",
    "matrix_fact.recommend(user=user, items_known=items_known)"
   ]
  },
  {
   "cell_type": "markdown",
   "metadata": {},
   "source": [
    "## Sigmoid kernel"
   ]
  },
  {
   "cell_type": "code",
   "execution_count": 20,
   "metadata": {},
   "outputs": [
    {
     "name": "stdout",
     "output_type": "stream",
     "text": [
      "Epoch  1 / 20  -  train_rmse: 2.034792630875378\n",
      "Epoch  2 / 20  -  train_rmse: 1.5318584776476023\n",
      "Epoch  3 / 20  -  train_rmse: 1.4033918191980177\n",
      "Epoch  4 / 20  -  train_rmse: 1.3884784260797114\n",
      "Epoch  5 / 20  -  train_rmse: 1.3780557089526222\n",
      "Epoch  6 / 20  -  train_rmse: 1.3680000917976793\n",
      "Epoch  7 / 20  -  train_rmse: 1.3580014591178764\n",
      "Epoch  8 / 20  -  train_rmse: 1.3478728614874431\n",
      "Epoch  9 / 20  -  train_rmse: 1.3373014725655539\n",
      "Epoch  10 / 20  -  train_rmse: 1.3260128233132566\n",
      "Epoch  11 / 20  -  train_rmse: 1.3143317123425526\n",
      "Epoch  12 / 20  -  train_rmse: 1.3019648574207934\n",
      "Epoch  13 / 20  -  train_rmse: 1.2886580312886176\n",
      "Epoch  14 / 20  -  train_rmse: 1.2748030645867108\n",
      "Epoch  15 / 20  -  train_rmse: 1.2595485753419104\n",
      "Epoch  16 / 20  -  train_rmse: 1.2431010010396197\n",
      "Epoch  17 / 20  -  train_rmse: 1.2261144136825413\n",
      "Epoch  18 / 20  -  train_rmse: 1.2074606273114024\n",
      "Epoch  19 / 20  -  train_rmse: 1.1877955759790588\n",
      "Epoch  20 / 20  -  train_rmse: 1.166826126931909\n",
      "\n",
      "Test RMSE: 1.4192\n",
      "CPU times: user 2.51 s, sys: 7.94 ms, total: 2.52 s\n",
      "Wall time: 2.54 s\n"
     ]
    }
   ],
   "source": [
    "%%time \n",
    "matrix_fact = KernelMF(n_epochs = 20, n_factors = 100, verbose = 1, lr = 0.01, reg = 0.005, kernel='sigmoid')\n",
    "matrix_fact.fit(X_train, y_train)\n",
    "\n",
    "pred = matrix_fact.predict(X_test)\n",
    "rmse = mean_squared_error(y_test, pred, squared = False)\n",
    "\n",
    "print(f'\\nTest RMSE: {rmse:.4f}')"
   ]
  },
  {
   "cell_type": "markdown",
   "metadata": {},
   "source": [
    "## RBF Kernel"
   ]
  },
  {
   "cell_type": "code",
   "execution_count": 21,
   "metadata": {},
   "outputs": [
    {
     "name": "stdout",
     "output_type": "stream",
     "text": [
      "Epoch  1 / 20  -  train_rmse: 1.4404052710497923\n",
      "Epoch  2 / 20  -  train_rmse: 1.4133103054671263\n",
      "Epoch  3 / 20  -  train_rmse: 1.3872343284092121\n",
      "Epoch  4 / 20  -  train_rmse: 1.365868715040777\n",
      "Epoch  5 / 20  -  train_rmse: 1.3437564744255523\n",
      "Epoch  6 / 20  -  train_rmse: 1.3165578608407875\n",
      "Epoch  7 / 20  -  train_rmse: 1.2991979515712953\n",
      "Epoch  8 / 20  -  train_rmse: 1.2736172769858207\n",
      "Epoch  9 / 20  -  train_rmse: 1.2548833430519848\n",
      "Epoch  10 / 20  -  train_rmse: 1.2361580261311385\n",
      "Epoch  11 / 20  -  train_rmse: 1.214890274643896\n",
      "Epoch  12 / 20  -  train_rmse: 1.1947179586333139\n",
      "Epoch  13 / 20  -  train_rmse: 1.1702155401759273\n",
      "Epoch  14 / 20  -  train_rmse: 1.1523408878864134\n",
      "Epoch  15 / 20  -  train_rmse: 1.137530659887114\n",
      "Epoch  16 / 20  -  train_rmse: 1.1211523301727286\n",
      "Epoch  17 / 20  -  train_rmse: 1.1010582912392204\n",
      "Epoch  18 / 20  -  train_rmse: 1.082337332436458\n",
      "Epoch  19 / 20  -  train_rmse: 1.0688448300640963\n",
      "Epoch  20 / 20  -  train_rmse: 1.0576183805577954\n",
      "\n",
      "Test RMSE: 1.5164\n",
      "CPU times: user 3.13 s, sys: 12.3 ms, total: 3.14 s\n",
      "Wall time: 3.13 s\n"
     ]
    }
   ],
   "source": [
    "%%time \n",
    "matrix_fact = KernelMF(n_epochs = 20, n_factors = 100, verbose = 1, lr = 0.5, reg = 0.005, kernel='rbf')\n",
    "matrix_fact.fit(X_train, y_train)\n",
    "\n",
    "pred = matrix_fact.predict(X_test)\n",
    "rmse = mean_squared_error(y_test, pred, squared = False)\n",
    "\n",
    "print(f'\\nTest RMSE: {rmse:.4f}')"
   ]
  },
  {
   "cell_type": "markdown",
   "metadata": {},
   "source": [
    "# Scikit-learn compatability"
   ]
  },
  {
   "cell_type": "code",
   "execution_count": 22,
   "metadata": {},
   "outputs": [
    {
     "name": "stdout",
     "output_type": "stream",
     "text": [
      "Fitting 5 folds for each of 81 candidates, totalling 405 fits\n"
     ]
    },
    {
     "data": {
      "text/plain": [
       "GridSearchCV(cv=5, estimator=KernelMF(gamma=0.01, verbose=0), n_jobs=-1,\n",
       "             param_grid={'kernel': ['linear', 'sigmoid', 'rbf'],\n",
       "                         'n_epochs': [10, 20, 50], 'n_factors': [10, 20, 50],\n",
       "                         'reg': [0, 0.005, 0.1]},\n",
       "             scoring='neg_root_mean_squared_error', verbose=1)"
      ]
     },
     "execution_count": 22,
     "metadata": {},
     "output_type": "execute_result"
    }
   ],
   "source": [
    "from sklearn.model_selection import GridSearchCV, ParameterGrid\n",
    "\n",
    "param_grid = {\n",
    "    'kernel': ['linear', 'sigmoid', 'rbf'],\n",
    "    'n_factors': [10, 20, 50],\n",
    "    'n_epochs': [10, 20, 50],\n",
    "    'reg': [0, 0.005, 0.1]\n",
    "}\n",
    "\n",
    "grid_search = GridSearchCV(KernelMF(verbose=0), scoring = 'neg_root_mean_squared_error', param_grid=param_grid, n_jobs=-1, cv=5, verbose=1)\n",
    "grid_search.fit(X_train, y_train)"
   ]
  },
  {
   "cell_type": "code",
   "execution_count": 23,
   "metadata": {},
   "outputs": [
    {
     "data": {
      "text/plain": [
       "-1.414701153390991"
      ]
     },
     "execution_count": 23,
     "metadata": {},
     "output_type": "execute_result"
    },
    {
     "data": {
      "text/plain": [
       "{'kernel': 'linear', 'n_epochs': 50, 'n_factors': 10, 'reg': 0.1}"
      ]
     },
     "execution_count": 23,
     "metadata": {},
     "output_type": "execute_result"
    }
   ],
   "source": [
    "grid_search.best_score_\n",
    "grid_search.best_params_"
   ]
  }
 ],
 "metadata": {
  "interpreter": {
   "hash": "916dbcbb3f70747c44a77c7bcd40155683ae19c65e1c03b4aa3499c5328201f1"
  },
  "kernelspec": {
   "display_name": "Python [conda env:recommend]",
   "language": "python",
   "name": "python3"
  },
  "language_info": {
   "codemirror_mode": {
    "name": "ipython",
    "version": 3
   },
   "file_extension": ".py",
   "mimetype": "text/x-python",
   "name": "python",
   "nbconvert_exporter": "python",
   "pygments_lexer": "ipython3",
   "version": "3.8.10"
  },
  "toc-autonumbering": true,
  "toc-showcode": false,
  "toc-showmarkdowntxt": false,
  "toc-showtags": false
 },
 "nbformat": 4,
 "nbformat_minor": 4
}
