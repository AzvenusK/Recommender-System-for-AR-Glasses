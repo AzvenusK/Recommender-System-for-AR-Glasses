{
 "cells": [
  {
   "cell_type": "code",
   "execution_count": 7,
   "metadata": {
    "tags": []
   },
   "outputs": [
    {
     "name": "stdout",
     "output_type": "stream",
     "text": [
      "The autoreload extension is already loaded. To reload it, use:\n",
      "  %reload_ext autoreload\n"
     ]
    }
   ],
   "source": [
    "# Data manipulation\n",
    "import numpy as np\n",
    "import pandas as pd\n",
    "pd.options.display.max_rows = 100\n",
    "\n",
    "# Modeling\n",
    "from matrix_factorization import BaselineModel, KernelMF, train_update_test_split\n",
    "from sklearn.metrics import mean_squared_error\n",
    "from sklearn.model_selection import train_test_split\n",
    "\n",
    "# Other\n",
    "import os\n",
    "import random\n",
    "import sys\n",
    "\n",
    "# Reload imported code \n",
    "%load_ext autoreload\n",
    "%autoreload 2\n",
    "\n",
    "# Print all output\n",
    "from IPython.core.interactiveshell import InteractiveShell\n",
    "InteractiveShell.ast_node_interactivity = \"all\"\n",
    "    \n",
    "rand_seed = 2\n",
    "np.random.seed(rand_seed)\n",
    "random.seed(rand_seed)"
   ]
  },
  {
   "cell_type": "markdown",
   "metadata": {},
   "source": [
    "# Load data"
   ]
  },
  {
   "cell_type": "code",
   "execution_count": 8,
   "metadata": {},
   "outputs": [
    {
     "data": {
      "text/html": [
       "<div>\n",
       "<style scoped>\n",
       "    .dataframe tbody tr th:only-of-type {\n",
       "        vertical-align: middle;\n",
       "    }\n",
       "\n",
       "    .dataframe tbody tr th {\n",
       "        vertical-align: top;\n",
       "    }\n",
       "\n",
       "    .dataframe thead th {\n",
       "        text-align: right;\n",
       "    }\n",
       "</style>\n",
       "<table border=\"1\" class=\"dataframe\">\n",
       "  <thead>\n",
       "    <tr style=\"text-align: right;\">\n",
       "      <th></th>\n",
       "      <th>user_id</th>\n",
       "      <th>item_id</th>\n",
       "      <th>rating</th>\n",
       "    </tr>\n",
       "  </thead>\n",
       "  <tbody>\n",
       "    <tr>\n",
       "      <th>0</th>\n",
       "      <td>20221962</td>\n",
       "      <td>108775015</td>\n",
       "      <td>3</td>\n",
       "    </tr>\n",
       "    <tr>\n",
       "      <th>1</th>\n",
       "      <td>20221900</td>\n",
       "      <td>108775044</td>\n",
       "      <td>5</td>\n",
       "    </tr>\n",
       "    <tr>\n",
       "      <th>2</th>\n",
       "      <td>20221969</td>\n",
       "      <td>108775051</td>\n",
       "      <td>4</td>\n",
       "    </tr>\n",
       "    <tr>\n",
       "      <th>3</th>\n",
       "      <td>20222000</td>\n",
       "      <td>110065001</td>\n",
       "      <td>3</td>\n",
       "    </tr>\n",
       "    <tr>\n",
       "      <th>4</th>\n",
       "      <td>20221967</td>\n",
       "      <td>110065002</td>\n",
       "      <td>2</td>\n",
       "    </tr>\n",
       "    <tr>\n",
       "      <th>5</th>\n",
       "      <td>20221908</td>\n",
       "      <td>110065011</td>\n",
       "      <td>2</td>\n",
       "    </tr>\n",
       "    <tr>\n",
       "      <th>6</th>\n",
       "      <td>20221909</td>\n",
       "      <td>111565001</td>\n",
       "      <td>5</td>\n",
       "    </tr>\n",
       "    <tr>\n",
       "      <th>7</th>\n",
       "      <td>20221995</td>\n",
       "      <td>111565003</td>\n",
       "      <td>3</td>\n",
       "    </tr>\n",
       "    <tr>\n",
       "      <th>8</th>\n",
       "      <td>20221968</td>\n",
       "      <td>111586001</td>\n",
       "      <td>1</td>\n",
       "    </tr>\n",
       "    <tr>\n",
       "      <th>9</th>\n",
       "      <td>20221971</td>\n",
       "      <td>111593001</td>\n",
       "      <td>1</td>\n",
       "    </tr>\n",
       "  </tbody>\n",
       "</table>\n",
       "</div>"
      ],
      "text/plain": [
       "    user_id    item_id  rating\n",
       "0  20221962  108775015       3\n",
       "1  20221900  108775044       5\n",
       "2  20221969  108775051       4\n",
       "3  20222000  110065001       3\n",
       "4  20221967  110065002       2\n",
       "5  20221908  110065011       2\n",
       "6  20221909  111565001       5\n",
       "7  20221995  111565003       3\n",
       "8  20221968  111586001       1\n",
       "9  20221971  111593001       1"
      ]
     },
     "execution_count": 8,
     "metadata": {},
     "output_type": "execute_result"
    }
   ],
   "source": [
    "from os import sep\n",
    "from pathlib import Path\n",
    "\n",
    "cols = ['user_id', 'item_id', 'rating']\n",
    "# movie_data = pd.read_csv('../data/ml-1m/ratings.dat', names = cols, sep = '::', usecols=[0, 1, 2], engine='python')\n",
    "def get_project_root() -> Path:\n",
    "    return Path(sys.path[5]).parent.parent.parent.parent\n",
    "\n",
    "# Data location\n",
    "ROOT_DIR = get_project_root()\n",
    "DATA_DIR = os.path.join(ROOT_DIR, 'GitHub/Recommender-System-for-AR-Glasses/data/articles.csv')\n",
    "\n",
    "articles_data = pd.read_csv(DATA_DIR, names = cols, sep=',', usecols=[0, 1, 2], engine='python')\n",
    "\n",
    "X = articles_data[['user_id', 'item_id']]\n",
    "y = articles_data['rating']\n",
    "\n",
    "# Prepare data\n",
    "X_train, X_test, y_train, y_test = train_test_split(X, y, test_size=0.2)\n",
    "\n",
    "# Prepare data for online learning\n",
    "X_train_initial, y_train_initial, X_train_update, y_train_update, X_test_update, y_test_update = train_update_test_split(articles_data, frac_new_users=0.2)\n",
    "\n",
    "articles_data.head(10)"
   ]
  },
  {
   "cell_type": "markdown",
   "metadata": {},
   "source": [
    "# Simple model with global mean"
   ]
  },
  {
   "cell_type": "markdown",
   "metadata": {},
   "source": [
    "This is similar to just the global standard deviation"
   ]
  },
  {
   "cell_type": "code",
   "execution_count": 9,
   "metadata": {
    "tags": []
   },
   "outputs": [
    {
     "name": "stdout",
     "output_type": "stream",
     "text": [
      "\n",
      "Test RMSE: 1.415903\n"
     ]
    }
   ],
   "source": [
    "global_mean = y_train.mean()\n",
    "pred = [global_mean for _ in range(y_test.shape[0])]\n",
    "\n",
    "rmse = mean_squared_error(y_test, pred, squared = False)\n",
    "\n",
    "print(f'\\nTest RMSE: {rmse:4f}')"
   ]
  },
  {
   "cell_type": "markdown",
   "metadata": {},
   "source": [
    "# Baseline Model with biases"
   ]
  },
  {
   "cell_type": "markdown",
   "metadata": {},
   "source": [
    "## SGD"
   ]
  },
  {
   "cell_type": "code",
   "execution_count": 10,
   "metadata": {},
   "outputs": [
    {
     "name": "stdout",
     "output_type": "stream",
     "text": [
      "Epoch  1 / 20  -  train_rmse: 1.4011274435741392\n",
      "Epoch  2 / 20  -  train_rmse: 1.386989015580367\n",
      "Epoch  3 / 20  -  train_rmse: 1.3741066710224317\n",
      "Epoch  4 / 20  -  train_rmse: 1.3597191351389968\n",
      "Epoch  5 / 20  -  train_rmse: 1.3463720029514243\n",
      "Epoch  6 / 20  -  train_rmse: 1.3330942547873512\n",
      "Epoch  7 / 20  -  train_rmse: 1.3191398207693656\n",
      "Epoch  8 / 20  -  train_rmse: 1.306012105019405\n",
      "Epoch  9 / 20  -  train_rmse: 1.2936890081223673\n",
      "Epoch  10 / 20  -  train_rmse: 1.2801392685183155\n",
      "Epoch  11 / 20  -  train_rmse: 1.2671343469994643\n",
      "Epoch  12 / 20  -  train_rmse: 1.2538964767801288\n",
      "Epoch  13 / 20  -  train_rmse: 1.2422700405382372\n",
      "Epoch  14 / 20  -  train_rmse: 1.2293134237674488\n",
      "Epoch  15 / 20  -  train_rmse: 1.2169975162463587\n",
      "Epoch  16 / 20  -  train_rmse: 1.2050689822192133\n",
      "Epoch  17 / 20  -  train_rmse: 1.1929785856320319\n",
      "Epoch  18 / 20  -  train_rmse: 1.18168061405053\n",
      "Epoch  19 / 20  -  train_rmse: 1.169825190952408\n",
      "Epoch  20 / 20  -  train_rmse: 1.157406706956025\n",
      "\n",
      "Test RMSE: 1.4187\n",
      "CPU times: user 3.66 s, sys: 30.7 ms, total: 3.7 s\n",
      "Wall time: 4.94 s\n"
     ]
    }
   ],
   "source": [
    "%%time\n",
    "\n",
    "baseline_model = BaselineModel(method='sgd', n_epochs = 20, reg = 0.005, lr = 0.01, verbose=1)\n",
    "baseline_model.fit(X_train, y_train)\n",
    "\n",
    "pred = baseline_model.predict(X_test)\n",
    "rmse = mean_squared_error(y_test, pred, squared = False)\n",
    "\n",
    "print(f'\\nTest RMSE: {rmse:.4f}')"
   ]
  },
  {
   "cell_type": "code",
   "execution_count": 11,
   "metadata": {},
   "outputs": [
    {
     "data": {
      "text/html": [
       "<div>\n",
       "<style scoped>\n",
       "    .dataframe tbody tr th:only-of-type {\n",
       "        vertical-align: middle;\n",
       "    }\n",
       "\n",
       "    .dataframe tbody tr th {\n",
       "        vertical-align: top;\n",
       "    }\n",
       "\n",
       "    .dataframe thead th {\n",
       "        text-align: right;\n",
       "    }\n",
       "</style>\n",
       "<table border=\"1\" class=\"dataframe\">\n",
       "  <thead>\n",
       "    <tr style=\"text-align: right;\">\n",
       "      <th></th>\n",
       "      <th>user_id</th>\n",
       "      <th>item_id</th>\n",
       "      <th>rating_pred</th>\n",
       "    </tr>\n",
       "  </thead>\n",
       "  <tbody>\n",
       "    <tr>\n",
       "      <th>48274</th>\n",
       "      <td>200</td>\n",
       "      <td>708819001</td>\n",
       "      <td>3.405449</td>\n",
       "    </tr>\n",
       "    <tr>\n",
       "      <th>65474</th>\n",
       "      <td>200</td>\n",
       "      <td>708929001</td>\n",
       "      <td>3.404338</td>\n",
       "    </tr>\n",
       "    <tr>\n",
       "      <th>43901</th>\n",
       "      <td>200</td>\n",
       "      <td>703399001</td>\n",
       "      <td>3.403797</td>\n",
       "    </tr>\n",
       "    <tr>\n",
       "      <th>4517</th>\n",
       "      <td>200</td>\n",
       "      <td>689011020</td>\n",
       "      <td>3.403069</td>\n",
       "    </tr>\n",
       "    <tr>\n",
       "      <th>28707</th>\n",
       "      <td>200</td>\n",
       "      <td>740376001</td>\n",
       "      <td>3.402414</td>\n",
       "    </tr>\n",
       "    <tr>\n",
       "      <th>31250</th>\n",
       "      <td>200</td>\n",
       "      <td>753031018</td>\n",
       "      <td>3.402290</td>\n",
       "    </tr>\n",
       "    <tr>\n",
       "      <th>8888</th>\n",
       "      <td>200</td>\n",
       "      <td>688665001</td>\n",
       "      <td>3.401903</td>\n",
       "    </tr>\n",
       "    <tr>\n",
       "      <th>58561</th>\n",
       "      <td>200</td>\n",
       "      <td>821029005</td>\n",
       "      <td>3.401846</td>\n",
       "    </tr>\n",
       "    <tr>\n",
       "      <th>48134</th>\n",
       "      <td>200</td>\n",
       "      <td>832298002</td>\n",
       "      <td>3.401714</td>\n",
       "    </tr>\n",
       "    <tr>\n",
       "      <th>22985</th>\n",
       "      <td>200</td>\n",
       "      <td>679633013</td>\n",
       "      <td>3.401622</td>\n",
       "    </tr>\n",
       "  </tbody>\n",
       "</table>\n",
       "</div>"
      ],
      "text/plain": [
       "       user_id    item_id  rating_pred\n",
       "48274      200  708819001     3.405449\n",
       "65474      200  708929001     3.404338\n",
       "43901      200  703399001     3.403797\n",
       "4517       200  689011020     3.403069\n",
       "28707      200  740376001     3.402414\n",
       "31250      200  753031018     3.402290\n",
       "8888       200  688665001     3.401903\n",
       "58561      200  821029005     3.401846\n",
       "48134      200  832298002     3.401714\n",
       "22985      200  679633013     3.401622"
      ]
     },
     "execution_count": 11,
     "metadata": {},
     "output_type": "execute_result"
    }
   ],
   "source": [
    "baseline_model.recommend(user=200)"
   ]
  },
  {
   "cell_type": "markdown",
   "metadata": {},
   "source": [
    "## ALS"
   ]
  },
  {
   "cell_type": "code",
   "execution_count": 12,
   "metadata": {},
   "outputs": [
    {
     "name": "stdout",
     "output_type": "stream",
     "text": [
      "Epoch  1 / 20  -  train_rmse: 0.47094906530058106\n",
      "Epoch  2 / 20  -  train_rmse: 0.4709490655381012\n",
      "Epoch  3 / 20  -  train_rmse: 0.4709490657622446\n",
      "Epoch  4 / 20  -  train_rmse: 0.4709490659407924\n",
      "Epoch  5 / 20  -  train_rmse: 0.47094906607277515\n",
      "Epoch  6 / 20  -  train_rmse: 0.47094906616645693\n",
      "Epoch  7 / 20  -  train_rmse: 0.4709490662314252\n",
      "Epoch  8 / 20  -  train_rmse: 0.47094906627587346\n",
      "Epoch  9 / 20  -  train_rmse: 0.4709490663059758\n",
      "Epoch  10 / 20  -  train_rmse: 0.4709490663262714\n",
      "Epoch  11 / 20  -  train_rmse: 0.47094906633986494\n",
      "Epoch  12 / 20  -  train_rmse: 0.4709490663489901\n",
      "Epoch  13 / 20  -  train_rmse: 0.4709490663550933\n",
      "Epoch  14 / 20  -  train_rmse: 0.4709490663591601\n",
      "Epoch  15 / 20  -  train_rmse: 0.4709490663618534\n",
      "Epoch  16 / 20  -  train_rmse: 0.47094906636366834\n",
      "Epoch  17 / 20  -  train_rmse: 0.47094906636489386\n",
      "Epoch  18 / 20  -  train_rmse: 0.4709490663656941\n",
      "Epoch  19 / 20  -  train_rmse: 0.47094906636622946\n",
      "Epoch  20 / 20  -  train_rmse: 0.4709490663665786\n",
      "\n",
      "Test RMSE: 1.4173\n",
      "CPU times: user 1.08 s, sys: 3.68 ms, total: 1.08 s\n",
      "Wall time: 1.08 s\n"
     ]
    }
   ],
   "source": [
    "%%time\n",
    "\n",
    "baseline_model = BaselineModel(method='als', n_epochs = 20, reg = 0.5, verbose=1)\n",
    "baseline_model.fit(X_train, y_train)\n",
    "\n",
    "pred = baseline_model.predict(X_test)\n",
    "rmse = mean_squared_error(y_test, pred, squared = False)\n",
    "\n",
    "print(f'\\nTest RMSE: {rmse:.4f}')"
   ]
  },
  {
   "cell_type": "markdown",
   "metadata": {},
   "source": [
    "## Updating with new users"
   ]
  },
  {
   "cell_type": "code",
   "execution_count": 13,
   "metadata": {
    "tags": []
   },
   "outputs": [
    {
     "name": "stdout",
     "output_type": "stream",
     "text": [
      "Epoch  1 / 20  -  train_rmse: 1.4011495325071892\n",
      "Epoch  2 / 20  -  train_rmse: 1.3874114856207294\n",
      "Epoch  3 / 20  -  train_rmse: 1.374461090817333\n",
      "Epoch  4 / 20  -  train_rmse: 1.3601996355619361\n",
      "Epoch  5 / 20  -  train_rmse: 1.3459340746260209\n",
      "Epoch  6 / 20  -  train_rmse: 1.332405583032106\n",
      "Epoch  7 / 20  -  train_rmse: 1.3197538949287686\n",
      "Epoch  8 / 20  -  train_rmse: 1.3061436522939511\n",
      "Epoch  9 / 20  -  train_rmse: 1.293577403770846\n",
      "Epoch  10 / 20  -  train_rmse: 1.2803975467850504\n",
      "Epoch  11 / 20  -  train_rmse: 1.2664956530964686\n",
      "Epoch  12 / 20  -  train_rmse: 1.2552180863441194\n",
      "Epoch  13 / 20  -  train_rmse: 1.2422349882383388\n",
      "Epoch  14 / 20  -  train_rmse: 1.22998737947407\n",
      "Epoch  15 / 20  -  train_rmse: 1.2175040686403602\n",
      "Epoch  16 / 20  -  train_rmse: 1.2055842537078365\n",
      "Epoch  17 / 20  -  train_rmse: 1.1935775806853288\n",
      "Epoch  18 / 20  -  train_rmse: 1.181603724048166\n",
      "Epoch  19 / 20  -  train_rmse: 1.1704417256587467\n",
      "Epoch  20 / 20  -  train_rmse: 1.1590808338034393\n"
     ]
    },
    {
     "data": {
      "text/plain": [
       "BaselineModel(n_epochs=20, reg=0.05)"
      ]
     },
     "execution_count": 13,
     "metadata": {},
     "output_type": "execute_result"
    }
   ],
   "source": [
    "baseline_model = BaselineModel(method='sgd', n_epochs = 20, lr=0.01, reg = 0.05, verbose=1)\n",
    "baseline_model.fit(X_train_initial, y_train_initial)"
   ]
  },
  {
   "cell_type": "code",
   "execution_count": 14,
   "metadata": {
    "tags": []
   },
   "outputs": [
    {
     "ename": "ZeroDivisionError",
     "evalue": "division by zero",
     "output_type": "error",
     "traceback": [
      "\u001b[0;31m---------------------------------------------------------------------------\u001b[0m",
      "\u001b[0;31mZeroDivisionError\u001b[0m                         Traceback (most recent call last)",
      "\u001b[0;32m<timed exec>\u001b[0m in \u001b[0;36m<module>\u001b[0;34m\u001b[0m\n",
      "\u001b[0;32m~/.local/lib/python3.8/site-packages/matrix_factorization/baseline_model.py\u001b[0m in \u001b[0;36mupdate_users\u001b[0;34m(self, X, y, lr, n_epochs, verbose)\u001b[0m\n\u001b[1;32m    166\u001b[0m \u001b[0;34m\u001b[0m\u001b[0m\n\u001b[1;32m    167\u001b[0m         \u001b[0;31m# Estimate new bias parameter\u001b[0m\u001b[0;34m\u001b[0m\u001b[0;34m\u001b[0m\u001b[0;34m\u001b[0m\u001b[0m\n\u001b[0;32m--> 168\u001b[0;31m         self.user_biases, _, self.train_rmse = _sgd(\n\u001b[0m\u001b[1;32m    169\u001b[0m             \u001b[0mX\u001b[0m\u001b[0;34m=\u001b[0m\u001b[0mX\u001b[0m\u001b[0;34m.\u001b[0m\u001b[0mto_numpy\u001b[0m\u001b[0;34m(\u001b[0m\u001b[0;34m)\u001b[0m\u001b[0;34m,\u001b[0m\u001b[0;34m\u001b[0m\u001b[0;34m\u001b[0m\u001b[0m\n\u001b[1;32m    170\u001b[0m             \u001b[0mglobal_mean\u001b[0m\u001b[0;34m=\u001b[0m\u001b[0mself\u001b[0m\u001b[0;34m.\u001b[0m\u001b[0mglobal_mean\u001b[0m\u001b[0;34m,\u001b[0m\u001b[0;34m\u001b[0m\u001b[0;34m\u001b[0m\u001b[0m\n",
      "\u001b[0;31mZeroDivisionError\u001b[0m: division by zero"
     ]
    }
   ],
   "source": [
    "%%time\n",
    "baseline_model.update_users(X_train_update, y_train_update, n_epochs=20, lr=0.001, verbose=1)\n",
    "pred = baseline_model.predict(X_test_update)\n",
    "rmse = mean_squared_error(y_test_update, pred, squared = False)\n",
    "\n",
    "print(f'\\nTest RMSE: {rmse:.4f}')"
   ]
  },
  {
   "cell_type": "markdown",
   "metadata": {},
   "source": [
    "# Matrix Factorization"
   ]
  },
  {
   "cell_type": "markdown",
   "metadata": {},
   "source": [
    "## Linear Kernel"
   ]
  },
  {
   "cell_type": "code",
   "execution_count": 15,
   "metadata": {},
   "outputs": [
    {
     "name": "stdout",
     "output_type": "stream",
     "text": [
      "Epoch  1 / 20  -  train_rmse: 1.4127113230156965\n",
      "Epoch  2 / 20  -  train_rmse: 1.4083688748520442\n",
      "Epoch  3 / 20  -  train_rmse: 1.4042322386006874\n",
      "Epoch  4 / 20  -  train_rmse: 1.4001763570871428\n",
      "Epoch  5 / 20  -  train_rmse: 1.3961589314593192\n",
      "Epoch  6 / 20  -  train_rmse: 1.3921590160261632\n",
      "Epoch  7 / 20  -  train_rmse: 1.3881638645615362\n",
      "Epoch  8 / 20  -  train_rmse: 1.384153288404297\n",
      "Epoch  9 / 20  -  train_rmse: 1.3801095685675124\n",
      "Epoch  10 / 20  -  train_rmse: 1.3760164483182475\n",
      "Epoch  11 / 20  -  train_rmse: 1.3718712390684389\n",
      "Epoch  12 / 20  -  train_rmse: 1.3676460617818222\n",
      "Epoch  13 / 20  -  train_rmse: 1.3633292934705727\n",
      "Epoch  14 / 20  -  train_rmse: 1.3589135668778145\n",
      "Epoch  15 / 20  -  train_rmse: 1.3543730059512582\n",
      "Epoch  16 / 20  -  train_rmse: 1.3497116251810957\n",
      "Epoch  17 / 20  -  train_rmse: 1.3449007380814215\n",
      "Epoch  18 / 20  -  train_rmse: 1.3399343049319732\n",
      "Epoch  19 / 20  -  train_rmse: 1.3347912374962099\n",
      "Epoch  20 / 20  -  train_rmse: 1.32946641388386\n",
      "\n",
      "Test RMSE: 1.4172\n",
      "CPU times: user 7.66 s, sys: 38 ms, total: 7.7 s\n",
      "Wall time: 7.82 s\n"
     ]
    }
   ],
   "source": [
    "%%time \n",
    "matrix_fact = KernelMF(n_epochs = 20, n_factors = 100, verbose = 1, lr = 0.001, reg = 0.005)\n",
    "matrix_fact.fit(X_train, y_train)\n",
    "\n",
    "pred = matrix_fact.predict(X_test)\n",
    "rmse = mean_squared_error(y_test, pred, squared = False)\n",
    "\n",
    "print(f'\\nTest RMSE: {rmse:.4f}')"
   ]
  },
  {
   "cell_type": "markdown",
   "metadata": {},
   "source": [
    "## Getting list of recommendations for a user"
   ]
  },
  {
   "cell_type": "code",
   "execution_count": 16,
   "metadata": {},
   "outputs": [
    {
     "data": {
      "text/html": [
       "<div>\n",
       "<style scoped>\n",
       "    .dataframe tbody tr th:only-of-type {\n",
       "        vertical-align: middle;\n",
       "    }\n",
       "\n",
       "    .dataframe tbody tr th {\n",
       "        vertical-align: top;\n",
       "    }\n",
       "\n",
       "    .dataframe thead th {\n",
       "        text-align: right;\n",
       "    }\n",
       "</style>\n",
       "<table border=\"1\" class=\"dataframe\">\n",
       "  <thead>\n",
       "    <tr style=\"text-align: right;\">\n",
       "      <th></th>\n",
       "      <th>user_id</th>\n",
       "      <th>item_id</th>\n",
       "      <th>rating_pred</th>\n",
       "    </tr>\n",
       "  </thead>\n",
       "  <tbody>\n",
       "    <tr>\n",
       "      <th>22797</th>\n",
       "      <td>200</td>\n",
       "      <td>834315001</td>\n",
       "      <td>3.058648</td>\n",
       "    </tr>\n",
       "    <tr>\n",
       "      <th>83370</th>\n",
       "      <td>200</td>\n",
       "      <td>872126001</td>\n",
       "      <td>3.056058</td>\n",
       "    </tr>\n",
       "    <tr>\n",
       "      <th>12899</th>\n",
       "      <td>200</td>\n",
       "      <td>655250001</td>\n",
       "      <td>3.055993</td>\n",
       "    </tr>\n",
       "    <tr>\n",
       "      <th>70107</th>\n",
       "      <td>200</td>\n",
       "      <td>737491001</td>\n",
       "      <td>3.055764</td>\n",
       "    </tr>\n",
       "    <tr>\n",
       "      <th>29682</th>\n",
       "      <td>200</td>\n",
       "      <td>544290036</td>\n",
       "      <td>3.055595</td>\n",
       "    </tr>\n",
       "    <tr>\n",
       "      <th>47764</th>\n",
       "      <td>200</td>\n",
       "      <td>743822002</td>\n",
       "      <td>3.055588</td>\n",
       "    </tr>\n",
       "    <tr>\n",
       "      <th>71361</th>\n",
       "      <td>200</td>\n",
       "      <td>517678006</td>\n",
       "      <td>3.055586</td>\n",
       "    </tr>\n",
       "    <tr>\n",
       "      <th>54441</th>\n",
       "      <td>200</td>\n",
       "      <td>567424028</td>\n",
       "      <td>3.055436</td>\n",
       "    </tr>\n",
       "    <tr>\n",
       "      <th>129</th>\n",
       "      <td>200</td>\n",
       "      <td>763743002</td>\n",
       "      <td>3.055396</td>\n",
       "    </tr>\n",
       "    <tr>\n",
       "      <th>71120</th>\n",
       "      <td>200</td>\n",
       "      <td>821023001</td>\n",
       "      <td>3.055275</td>\n",
       "    </tr>\n",
       "  </tbody>\n",
       "</table>\n",
       "</div>"
      ],
      "text/plain": [
       "       user_id    item_id  rating_pred\n",
       "22797      200  834315001     3.058648\n",
       "83370      200  872126001     3.056058\n",
       "12899      200  655250001     3.055993\n",
       "70107      200  737491001     3.055764\n",
       "29682      200  544290036     3.055595\n",
       "47764      200  743822002     3.055588\n",
       "71361      200  517678006     3.055586\n",
       "54441      200  567424028     3.055436\n",
       "129        200  763743002     3.055396\n",
       "71120      200  821023001     3.055275"
      ]
     },
     "execution_count": 16,
     "metadata": {},
     "output_type": "execute_result"
    }
   ],
   "source": [
    "user = 200\n",
    "items_known = X_train.query('user_id == @user')['item_id']\n",
    "matrix_fact.recommend(user=user, items_known=items_known)"
   ]
  },
  {
   "cell_type": "markdown",
   "metadata": {},
   "source": [
    "## Updating with new users"
   ]
  },
  {
   "cell_type": "code",
   "execution_count": 17,
   "metadata": {},
   "outputs": [
    {
     "name": "stdout",
     "output_type": "stream",
     "text": [
      "Epoch  1 / 20  -  train_rmse: 1.4118712541036114\n",
      "Epoch  2 / 20  -  train_rmse: 1.407556351702785\n",
      "Epoch  3 / 20  -  train_rmse: 1.4033906178814701\n",
      "Epoch  4 / 20  -  train_rmse: 1.3993062357808406\n",
      "Epoch  5 / 20  -  train_rmse: 1.3952715157441846\n",
      "Epoch  6 / 20  -  train_rmse: 1.391236233687564\n",
      "Epoch  7 / 20  -  train_rmse: 1.3872079942625861\n",
      "Epoch  8 / 20  -  train_rmse: 1.3831311975831788\n",
      "Epoch  9 / 20  -  train_rmse: 1.3790273783841651\n",
      "Epoch  10 / 20  -  train_rmse: 1.374858336998315\n",
      "Epoch  11 / 20  -  train_rmse: 1.3706027753200907\n",
      "Epoch  12 / 20  -  train_rmse: 1.3662501775819536\n",
      "Epoch  13 / 20  -  train_rmse: 1.3617800122546369\n",
      "Epoch  14 / 20  -  train_rmse: 1.3571733744577277\n",
      "Epoch  15 / 20  -  train_rmse: 1.3524255089916217\n",
      "Epoch  16 / 20  -  train_rmse: 1.3474931646337411\n",
      "Epoch  17 / 20  -  train_rmse: 1.342369499360486\n",
      "Epoch  18 / 20  -  train_rmse: 1.3370508838263426\n",
      "Epoch  19 / 20  -  train_rmse: 1.33151503288784\n",
      "Epoch  20 / 20  -  train_rmse: 1.3257228825026273\n"
     ]
    },
    {
     "data": {
      "text/plain": [
       "KernelMF(gamma=0.01, lr=0.001, n_epochs=20, reg=0.005)"
      ]
     },
     "execution_count": 17,
     "metadata": {},
     "output_type": "execute_result"
    }
   ],
   "source": [
    "matrix_fact = KernelMF(n_epochs = 20, n_factors = 100, verbose = 1, lr = 0.001, reg = 0.005)\n",
    "matrix_fact.fit(X_train_initial, y_train_initial)"
   ]
  },
  {
   "cell_type": "code",
   "execution_count": 18,
   "metadata": {},
   "outputs": [
    {
     "ename": "ZeroDivisionError",
     "evalue": "division by zero",
     "output_type": "error",
     "traceback": [
      "\u001b[0;31m---------------------------------------------------------------------------\u001b[0m",
      "\u001b[0;31mZeroDivisionError\u001b[0m                         Traceback (most recent call last)",
      "\u001b[0;32m<timed exec>\u001b[0m in \u001b[0;36m<module>\u001b[0;34m\u001b[0m\n",
      "\u001b[0;32m~/.local/lib/python3.8/site-packages/matrix_factorization/kernel_matrix_factorization.py\u001b[0m in \u001b[0;36mupdate_users\u001b[0;34m(self, X, y, lr, n_epochs, verbose)\u001b[0m\n\u001b[1;32m    217\u001b[0m             \u001b[0mself\u001b[0m\u001b[0;34m.\u001b[0m\u001b[0mitem_biases\u001b[0m\u001b[0;34m,\u001b[0m\u001b[0;34m\u001b[0m\u001b[0;34m\u001b[0m\u001b[0m\n\u001b[1;32m    218\u001b[0m             \u001b[0mself\u001b[0m\u001b[0;34m.\u001b[0m\u001b[0mtrain_rmse\u001b[0m\u001b[0;34m,\u001b[0m\u001b[0;34m\u001b[0m\u001b[0;34m\u001b[0m\u001b[0m\n\u001b[0;32m--> 219\u001b[0;31m         \u001b[0;34m)\u001b[0m \u001b[0;34m=\u001b[0m \u001b[0m_sgd\u001b[0m\u001b[0;34m(\u001b[0m\u001b[0;34m\u001b[0m\u001b[0;34m\u001b[0m\u001b[0m\n\u001b[0m\u001b[1;32m    220\u001b[0m             \u001b[0mX\u001b[0m\u001b[0;34m=\u001b[0m\u001b[0mX\u001b[0m\u001b[0;34m.\u001b[0m\u001b[0mto_numpy\u001b[0m\u001b[0;34m(\u001b[0m\u001b[0;34m)\u001b[0m\u001b[0;34m,\u001b[0m\u001b[0;34m\u001b[0m\u001b[0;34m\u001b[0m\u001b[0m\n\u001b[1;32m    221\u001b[0m             \u001b[0mglobal_mean\u001b[0m\u001b[0;34m=\u001b[0m\u001b[0mself\u001b[0m\u001b[0;34m.\u001b[0m\u001b[0mglobal_mean\u001b[0m\u001b[0;34m,\u001b[0m\u001b[0;34m\u001b[0m\u001b[0;34m\u001b[0m\u001b[0m\n",
      "\u001b[0;31mZeroDivisionError\u001b[0m: division by zero"
     ]
    }
   ],
   "source": [
    "%%time\n",
    "# Update model with new users\n",
    "matrix_fact.update_users(X_train_update, y_train_update, lr=0.001, n_epochs=20, verbose=1)\n",
    "pred = matrix_fact.predict(X_test_update)\n",
    "rmse = mean_squared_error(y_test_update, pred, squared = False)\n",
    "\n",
    "print(f'\\nTest RMSE: {rmse:.4f}')"
   ]
  },
  {
   "cell_type": "markdown",
   "metadata": {},
   "source": [
    "## Sigmoid kernel"
   ]
  },
  {
   "cell_type": "code",
   "execution_count": 19,
   "metadata": {},
   "outputs": [
    {
     "name": "stdout",
     "output_type": "stream",
     "text": [
      "Epoch  1 / 20  -  train_rmse: 2.034874188183689\n",
      "Epoch  2 / 20  -  train_rmse: 1.5311895298273337\n",
      "Epoch  3 / 20  -  train_rmse: 1.4023132743573083\n",
      "Epoch  4 / 20  -  train_rmse: 1.388054913055482\n",
      "Epoch  5 / 20  -  train_rmse: 1.377821945114798\n",
      "Epoch  6 / 20  -  train_rmse: 1.368017370514043\n",
      "Epoch  7 / 20  -  train_rmse: 1.3576458272390048\n",
      "Epoch  8 / 20  -  train_rmse: 1.3475068120787372\n",
      "Epoch  9 / 20  -  train_rmse: 1.3371314887985375\n",
      "Epoch  10 / 20  -  train_rmse: 1.3258812553472845\n",
      "Epoch  11 / 20  -  train_rmse: 1.3141354643389607\n",
      "Epoch  12 / 20  -  train_rmse: 1.3015771853612135\n",
      "Epoch  13 / 20  -  train_rmse: 1.288642896578567\n",
      "Epoch  14 / 20  -  train_rmse: 1.2743876656553663\n",
      "Epoch  15 / 20  -  train_rmse: 1.259227777390685\n",
      "Epoch  16 / 20  -  train_rmse: 1.2428412046116812\n",
      "Epoch  17 / 20  -  train_rmse: 1.225428999577081\n",
      "Epoch  18 / 20  -  train_rmse: 1.206715257982113\n",
      "Epoch  19 / 20  -  train_rmse: 1.1871076327358439\n",
      "Epoch  20 / 20  -  train_rmse: 1.1658576809341021\n",
      "\n",
      "Test RMSE: 1.4186\n",
      "CPU times: user 2.53 s, sys: 36.2 ms, total: 2.56 s\n",
      "Wall time: 2.55 s\n"
     ]
    }
   ],
   "source": [
    "%%time \n",
    "matrix_fact = KernelMF(n_epochs = 20, n_factors = 100, verbose = 1, lr = 0.01, reg = 0.005, kernel='sigmoid')\n",
    "matrix_fact.fit(X_train, y_train)\n",
    "\n",
    "pred = matrix_fact.predict(X_test)\n",
    "rmse = mean_squared_error(y_test, pred, squared = False)\n",
    "\n",
    "print(f'\\nTest RMSE: {rmse:.4f}')"
   ]
  },
  {
   "cell_type": "markdown",
   "metadata": {},
   "source": [
    "## RBF Kernel"
   ]
  },
  {
   "cell_type": "code",
   "execution_count": 20,
   "metadata": {},
   "outputs": [
    {
     "name": "stdout",
     "output_type": "stream",
     "text": [
      "Epoch  1 / 20  -  train_rmse: 1.4425974069665348\n",
      "Epoch  2 / 20  -  train_rmse: 1.415180736944855\n",
      "Epoch  3 / 20  -  train_rmse: 1.387397542224782\n",
      "Epoch  4 / 20  -  train_rmse: 1.3660038724996897\n",
      "Epoch  5 / 20  -  train_rmse: 1.3468149880008755\n",
      "Epoch  6 / 20  -  train_rmse: 1.323789237229002\n",
      "Epoch  7 / 20  -  train_rmse: 1.298225695599849\n",
      "Epoch  8 / 20  -  train_rmse: 1.2761348945782167\n",
      "Epoch  9 / 20  -  train_rmse: 1.2584338594785796\n",
      "Epoch  10 / 20  -  train_rmse: 1.2316621239239225\n",
      "Epoch  11 / 20  -  train_rmse: 1.2143760213007737\n",
      "Epoch  12 / 20  -  train_rmse: 1.1937051448465525\n",
      "Epoch  13 / 20  -  train_rmse: 1.1722761186357922\n",
      "Epoch  14 / 20  -  train_rmse: 1.15537748490193\n",
      "Epoch  15 / 20  -  train_rmse: 1.1375102551208551\n",
      "Epoch  16 / 20  -  train_rmse: 1.125084739529759\n",
      "Epoch  17 / 20  -  train_rmse: 1.098260454402989\n",
      "Epoch  18 / 20  -  train_rmse: 1.09027575294519\n",
      "Epoch  19 / 20  -  train_rmse: 1.072670558729096\n",
      "Epoch  20 / 20  -  train_rmse: 1.05931781311627\n",
      "\n",
      "Test RMSE: 1.5180\n",
      "CPU times: user 3.45 s, sys: 15.6 ms, total: 3.46 s\n",
      "Wall time: 3.46 s\n"
     ]
    }
   ],
   "source": [
    "%%time \n",
    "matrix_fact = KernelMF(n_epochs = 20, n_factors = 100, verbose = 1, lr = 0.5, reg = 0.005, kernel='rbf')\n",
    "matrix_fact.fit(X_train, y_train)\n",
    "\n",
    "pred = matrix_fact.predict(X_test)\n",
    "rmse = mean_squared_error(y_test, pred, squared = False)\n",
    "\n",
    "print(f'\\nTest RMSE: {rmse:.4f}')"
   ]
  },
  {
   "cell_type": "markdown",
   "metadata": {},
   "source": [
    "# Scikit-learn compatability"
   ]
  },
  {
   "cell_type": "code",
   "execution_count": 21,
   "metadata": {},
   "outputs": [
    {
     "name": "stdout",
     "output_type": "stream",
     "text": [
      "Fitting 5 folds for each of 81 candidates, totalling 405 fits\n"
     ]
    },
    {
     "data": {
      "text/plain": [
       "GridSearchCV(cv=5, estimator=KernelMF(gamma=0.01, verbose=0), n_jobs=-1,\n",
       "             param_grid={'kernel': ['linear', 'sigmoid', 'rbf'],\n",
       "                         'n_epochs': [10, 20, 50], 'n_factors': [10, 20, 50],\n",
       "                         'reg': [0, 0.005, 0.1]},\n",
       "             scoring='neg_root_mean_squared_error', verbose=1)"
      ]
     },
     "execution_count": 21,
     "metadata": {},
     "output_type": "execute_result"
    }
   ],
   "source": [
    "from sklearn.model_selection import GridSearchCV, ParameterGrid\n",
    "\n",
    "param_grid = {\n",
    "    'kernel': ['linear', 'sigmoid', 'rbf'],\n",
    "    'n_factors': [10, 20, 50],\n",
    "    'n_epochs': [10, 20, 50],\n",
    "    'reg': [0, 0.005, 0.1]\n",
    "}\n",
    "\n",
    "grid_search = GridSearchCV(KernelMF(verbose=0), scoring = 'neg_root_mean_squared_error', param_grid=param_grid, n_jobs=-1, cv=5, verbose=1)\n",
    "grid_search.fit(X_train, y_train)"
   ]
  },
  {
   "cell_type": "code",
   "execution_count": 22,
   "metadata": {},
   "outputs": [
    {
     "data": {
      "text/plain": [
       "-1.4146688688019728"
      ]
     },
     "execution_count": 22,
     "metadata": {},
     "output_type": "execute_result"
    },
    {
     "data": {
      "text/plain": [
       "{'kernel': 'linear', 'n_epochs': 50, 'n_factors': 20, 'reg': 0.1}"
      ]
     },
     "execution_count": 22,
     "metadata": {},
     "output_type": "execute_result"
    }
   ],
   "source": [
    "grid_search.best_score_\n",
    "grid_search.best_params_"
   ]
  }
 ],
 "metadata": {
  "interpreter": {
   "hash": "916dbcbb3f70747c44a77c7bcd40155683ae19c65e1c03b4aa3499c5328201f1"
  },
  "kernelspec": {
   "display_name": "Python [conda env:recommend]",
   "language": "python",
   "name": "python3"
  },
  "language_info": {
   "codemirror_mode": {
    "name": "ipython",
    "version": 3
   },
   "file_extension": ".py",
   "mimetype": "text/x-python",
   "name": "python",
   "nbconvert_exporter": "python",
   "pygments_lexer": "ipython3",
   "version": "3.8.10"
  },
  "toc-autonumbering": true,
  "toc-showcode": false,
  "toc-showmarkdowntxt": false,
  "toc-showtags": false
 },
 "nbformat": 4,
 "nbformat_minor": 4
}
