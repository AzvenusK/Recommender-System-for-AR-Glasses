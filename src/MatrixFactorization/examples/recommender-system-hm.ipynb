{
 "cells": [
  {
   "cell_type": "code",
   "execution_count": 39,
   "metadata": {
    "tags": []
   },
   "outputs": [
    {
     "name": "stdout",
     "output_type": "stream",
     "text": [
      "The autoreload extension is already loaded. To reload it, use:\n",
      "  %reload_ext autoreload\n"
     ]
    }
   ],
   "source": [
    "# Data manipulation\n",
    "import numpy as np\n",
    "import pandas as pd\n",
    "pd.options.display.max_rows = 100\n",
    "\n",
    "# Modeling\n",
    "from matrix_factorization import BaselineModel, KernelMF, train_update_test_split\n",
    "from sklearn.metrics import mean_squared_error\n",
    "from sklearn.model_selection import train_test_split\n",
    "\n",
    "# Other\n",
    "import os\n",
    "import random\n",
    "import sys\n",
    "\n",
    "# Reload imported code \n",
    "%load_ext autoreload\n",
    "%autoreload 2\n",
    "\n",
    "# Print all output\n",
    "from IPython.core.interactiveshell import InteractiveShell\n",
    "InteractiveShell.ast_node_interactivity = \"all\"\n",
    "    \n",
    "rand_seed = 2\n",
    "np.random.seed(rand_seed)\n",
    "random.seed(rand_seed)"
   ]
  },
  {
   "cell_type": "markdown",
   "metadata": {},
   "source": [
    "# Load data"
   ]
  },
  {
   "cell_type": "code",
   "execution_count": 40,
   "metadata": {},
   "outputs": [
    {
     "data": {
      "text/html": [
       "<div>\n",
       "<style scoped>\n",
       "    .dataframe tbody tr th:only-of-type {\n",
       "        vertical-align: middle;\n",
       "    }\n",
       "\n",
       "    .dataframe tbody tr th {\n",
       "        vertical-align: top;\n",
       "    }\n",
       "\n",
       "    .dataframe thead th {\n",
       "        text-align: right;\n",
       "    }\n",
       "</style>\n",
       "<table border=\"1\" class=\"dataframe\">\n",
       "  <thead>\n",
       "    <tr style=\"text-align: right;\">\n",
       "      <th></th>\n",
       "      <th>user_id</th>\n",
       "      <th>item_id</th>\n",
       "      <th>rating</th>\n",
       "    </tr>\n",
       "  </thead>\n",
       "  <tbody>\n",
       "    <tr>\n",
       "      <th>0</th>\n",
       "      <td>20221918</td>\n",
       "      <td>108775015</td>\n",
       "      <td>5</td>\n",
       "    </tr>\n",
       "    <tr>\n",
       "      <th>1</th>\n",
       "      <td>20221967</td>\n",
       "      <td>108775044</td>\n",
       "      <td>2</td>\n",
       "    </tr>\n",
       "    <tr>\n",
       "      <th>2</th>\n",
       "      <td>20221954</td>\n",
       "      <td>108775051</td>\n",
       "      <td>3</td>\n",
       "    </tr>\n",
       "    <tr>\n",
       "      <th>3</th>\n",
       "      <td>20221958</td>\n",
       "      <td>110065001</td>\n",
       "      <td>1</td>\n",
       "    </tr>\n",
       "    <tr>\n",
       "      <th>4</th>\n",
       "      <td>20221950</td>\n",
       "      <td>110065002</td>\n",
       "      <td>4</td>\n",
       "    </tr>\n",
       "    <tr>\n",
       "      <th>5</th>\n",
       "      <td>20221942</td>\n",
       "      <td>110065011</td>\n",
       "      <td>3</td>\n",
       "    </tr>\n",
       "    <tr>\n",
       "      <th>6</th>\n",
       "      <td>20221933</td>\n",
       "      <td>111565001</td>\n",
       "      <td>2</td>\n",
       "    </tr>\n",
       "    <tr>\n",
       "      <th>7</th>\n",
       "      <td>20221905</td>\n",
       "      <td>111565003</td>\n",
       "      <td>5</td>\n",
       "    </tr>\n",
       "    <tr>\n",
       "      <th>8</th>\n",
       "      <td>20221908</td>\n",
       "      <td>111586001</td>\n",
       "      <td>4</td>\n",
       "    </tr>\n",
       "    <tr>\n",
       "      <th>9</th>\n",
       "      <td>20221929</td>\n",
       "      <td>111593001</td>\n",
       "      <td>1</td>\n",
       "    </tr>\n",
       "  </tbody>\n",
       "</table>\n",
       "</div>"
      ],
      "text/plain": [
       "    user_id    item_id  rating\n",
       "0  20221918  108775015       5\n",
       "1  20221967  108775044       2\n",
       "2  20221954  108775051       3\n",
       "3  20221958  110065001       1\n",
       "4  20221950  110065002       4\n",
       "5  20221942  110065011       3\n",
       "6  20221933  111565001       2\n",
       "7  20221905  111565003       5\n",
       "8  20221908  111586001       4\n",
       "9  20221929  111593001       1"
      ]
     },
     "execution_count": 40,
     "metadata": {},
     "output_type": "execute_result"
    },
    {
     "data": {
      "text/html": [
       "<div>\n",
       "<style scoped>\n",
       "    .dataframe tbody tr th:only-of-type {\n",
       "        vertical-align: middle;\n",
       "    }\n",
       "\n",
       "    .dataframe tbody tr th {\n",
       "        vertical-align: top;\n",
       "    }\n",
       "\n",
       "    .dataframe thead th {\n",
       "        text-align: right;\n",
       "    }\n",
       "</style>\n",
       "<table border=\"1\" class=\"dataframe\">\n",
       "  <thead>\n",
       "    <tr style=\"text-align: right;\">\n",
       "      <th></th>\n",
       "      <th>category</th>\n",
       "      <th>color</th>\n",
       "    </tr>\n",
       "  </thead>\n",
       "  <tbody>\n",
       "    <tr>\n",
       "      <th>0</th>\n",
       "      <td>Vest top</td>\n",
       "      <td>Black</td>\n",
       "    </tr>\n",
       "    <tr>\n",
       "      <th>1</th>\n",
       "      <td>Vest top</td>\n",
       "      <td>White</td>\n",
       "    </tr>\n",
       "    <tr>\n",
       "      <th>2</th>\n",
       "      <td>Vest top</td>\n",
       "      <td>White</td>\n",
       "    </tr>\n",
       "    <tr>\n",
       "      <th>3</th>\n",
       "      <td>Bra</td>\n",
       "      <td>Black</td>\n",
       "    </tr>\n",
       "    <tr>\n",
       "      <th>4</th>\n",
       "      <td>Bra</td>\n",
       "      <td>White</td>\n",
       "    </tr>\n",
       "    <tr>\n",
       "      <th>5</th>\n",
       "      <td>Bra</td>\n",
       "      <td>Beige</td>\n",
       "    </tr>\n",
       "    <tr>\n",
       "      <th>6</th>\n",
       "      <td>Underwear Tights</td>\n",
       "      <td>Black</td>\n",
       "    </tr>\n",
       "    <tr>\n",
       "      <th>7</th>\n",
       "      <td>Socks</td>\n",
       "      <td>Beige</td>\n",
       "    </tr>\n",
       "    <tr>\n",
       "      <th>8</th>\n",
       "      <td>Leggings/Tights</td>\n",
       "      <td>Black</td>\n",
       "    </tr>\n",
       "    <tr>\n",
       "      <th>9</th>\n",
       "      <td>Underwear Tights</td>\n",
       "      <td>Black</td>\n",
       "    </tr>\n",
       "  </tbody>\n",
       "</table>\n",
       "</div>"
      ],
      "text/plain": [
       "           category  color\n",
       "0          Vest top  Black\n",
       "1          Vest top  White\n",
       "2          Vest top  White\n",
       "3               Bra  Black\n",
       "4               Bra  White\n",
       "5               Bra  Beige\n",
       "6  Underwear Tights  Black\n",
       "7             Socks  Beige\n",
       "8   Leggings/Tights  Black\n",
       "9  Underwear Tights  Black"
      ]
     },
     "execution_count": 40,
     "metadata": {},
     "output_type": "execute_result"
    }
   ],
   "source": [
    "from os import sep\n",
    "from pathlib import Path\n",
    "\n",
    "cols = ['user_id', 'item_id', 'rating', 'category','color']\n",
    "# movie_data = pd.read_csv('../data/ml-1m/ratings.dat', names = cols, sep = '::', usecols=[0, 1, 2], engine='python')\n",
    "def get_project_root() -> Path:\n",
    "    return Path(sys.path[5]).parent.parent.parent.parent\n",
    "\n",
    "# Data location\n",
    "ROOT_DIR = get_project_root()\n",
    "DATA_DIR = os.path.join(ROOT_DIR, 'GitHub/Recommender-System-for-AR-Glasses/data/articles.csv')\n",
    "\n",
    "articles_data = pd.read_csv(DATA_DIR, names = cols, sep=',', usecols=[0, 1, 2, 6, 15], engine='python')\n",
    "\n",
    "X = articles_data[['user_id', 'item_id']]\n",
    "y = articles_data['rating']\n",
    "\n",
    "# Prepare data\n",
    "X_train, X_test, y_train, y_test = train_test_split(X, y, test_size=0.2)\n",
    "\n",
    "# Prepare data for online learning\n",
    "X_train_initial, y_train_initial, X_train_update, y_train_update, X_test_update, y_test_update = train_update_test_split(articles_data, frac_new_users=0.2)\n",
    "\n",
    "articles_data.head(10)"
   ]
  },
  {
   "cell_type": "markdown",
   "metadata": {},
   "source": [
    "# Simple model with global mean"
   ]
  },
  {
   "cell_type": "markdown",
   "metadata": {},
   "source": [
    "This is similar to just the global standard deviation"
   ]
  },
  {
   "cell_type": "code",
   "execution_count": 26,
   "metadata": {
    "tags": []
   },
   "outputs": [
    {
     "name": "stdout",
     "output_type": "stream",
     "text": [
      "\n",
      "Test RMSE: 1.415936\n"
     ]
    }
   ],
   "source": [
    "global_mean = y_train.mean()\n",
    "pred = [global_mean for _ in range(y_test.shape[0])]\n",
    "\n",
    "rmse = mean_squared_error(y_test, pred, squared = False)\n",
    "\n",
    "print(f'\\nTest RMSE: {rmse:4f}')"
   ]
  },
  {
   "cell_type": "markdown",
   "metadata": {},
   "source": [
    "## SGD"
   ]
  },
  {
   "cell_type": "code",
   "execution_count": 27,
   "metadata": {},
   "outputs": [
    {
     "name": "stdout",
     "output_type": "stream",
     "text": [
      "Epoch  1 / 20  -  train_rmse: 1.4020229690614137\n",
      "Epoch  2 / 20  -  train_rmse: 1.3876686782701726\n",
      "Epoch  3 / 20  -  train_rmse: 1.3738152258499443\n",
      "Epoch  4 / 20  -  train_rmse: 1.3598321743680402\n",
      "Epoch  5 / 20  -  train_rmse: 1.34683370106335\n",
      "Epoch  6 / 20  -  train_rmse: 1.332715236671701\n",
      "Epoch  7 / 20  -  train_rmse: 1.31960957562715\n",
      "Epoch  8 / 20  -  train_rmse: 1.3057486768660436\n",
      "Epoch  9 / 20  -  train_rmse: 1.2940027838010086\n",
      "Epoch  10 / 20  -  train_rmse: 1.2809063363406434\n",
      "Epoch  11 / 20  -  train_rmse: 1.2679835169201474\n",
      "Epoch  12 / 20  -  train_rmse: 1.255245096321815\n",
      "Epoch  13 / 20  -  train_rmse: 1.2432664933687965\n",
      "Epoch  14 / 20  -  train_rmse: 1.229997961635302\n",
      "Epoch  15 / 20  -  train_rmse: 1.2179612913549678\n",
      "Epoch  16 / 20  -  train_rmse: 1.205747307687648\n",
      "Epoch  17 / 20  -  train_rmse: 1.1933579513027155\n",
      "Epoch  18 / 20  -  train_rmse: 1.181791530585119\n",
      "Epoch  19 / 20  -  train_rmse: 1.1700159382694257\n",
      "Epoch  20 / 20  -  train_rmse: 1.158355969618671\n",
      "\n",
      "Test RMSE: 1.4193\n",
      "CPU times: user 743 ms, sys: 11.9 ms, total: 755 ms\n",
      "Wall time: 752 ms\n"
     ]
    }
   ],
   "source": [
    "%%time\n",
    "\n",
    "baseline_model = BaselineModel(method='sgd', n_epochs = 20, reg = 0.005, lr = 0.01, verbose=1)\n",
    "baseline_model.fit(X_train, y_train)\n",
    "\n",
    "pred = baseline_model.predict(X_test)\n",
    "rmse = mean_squared_error(y_test, pred, squared = False)\n",
    "\n",
    "print(f'\\nTest RMSE: {rmse:.4f}')"
   ]
  },
  {
   "cell_type": "code",
   "execution_count": 38,
   "metadata": {},
   "outputs": [
    {
     "data": {
      "text/html": [
       "<div>\n",
       "<style scoped>\n",
       "    .dataframe tbody tr th:only-of-type {\n",
       "        vertical-align: middle;\n",
       "    }\n",
       "\n",
       "    .dataframe tbody tr th {\n",
       "        vertical-align: top;\n",
       "    }\n",
       "\n",
       "    .dataframe thead th {\n",
       "        text-align: right;\n",
       "    }\n",
       "</style>\n",
       "<table border=\"1\" class=\"dataframe\">\n",
       "  <thead>\n",
       "    <tr style=\"text-align: right;\">\n",
       "      <th></th>\n",
       "      <th>user_id</th>\n",
       "      <th>item_id</th>\n",
       "      <th>rating_pred</th>\n",
       "    </tr>\n",
       "  </thead>\n",
       "  <tbody>\n",
       "    <tr>\n",
       "      <th>67130</th>\n",
       "      <td>20221974</td>\n",
       "      <td>681111012</td>\n",
       "      <td>4.339756</td>\n",
       "    </tr>\n",
       "    <tr>\n",
       "      <th>26112</th>\n",
       "      <td>20221974</td>\n",
       "      <td>622966014</td>\n",
       "      <td>4.339756</td>\n",
       "    </tr>\n",
       "    <tr>\n",
       "      <th>68936</th>\n",
       "      <td>20221974</td>\n",
       "      <td>678571012</td>\n",
       "      <td>4.339756</td>\n",
       "    </tr>\n",
       "    <tr>\n",
       "      <th>59551</th>\n",
       "      <td>20221974</td>\n",
       "      <td>600229026</td>\n",
       "      <td>4.339756</td>\n",
       "    </tr>\n",
       "    <tr>\n",
       "      <th>10539</th>\n",
       "      <td>20221974</td>\n",
       "      <td>666006005</td>\n",
       "      <td>4.339756</td>\n",
       "    </tr>\n",
       "    <tr>\n",
       "      <th>22077</th>\n",
       "      <td>20221974</td>\n",
       "      <td>796794002</td>\n",
       "      <td>4.339756</td>\n",
       "    </tr>\n",
       "    <tr>\n",
       "      <th>47702</th>\n",
       "      <td>20221974</td>\n",
       "      <td>678260005</td>\n",
       "      <td>4.339756</td>\n",
       "    </tr>\n",
       "    <tr>\n",
       "      <th>10594</th>\n",
       "      <td>20221974</td>\n",
       "      <td>821018002</td>\n",
       "      <td>4.339756</td>\n",
       "    </tr>\n",
       "    <tr>\n",
       "      <th>10472</th>\n",
       "      <td>20221974</td>\n",
       "      <td>809074002</td>\n",
       "      <td>4.339756</td>\n",
       "    </tr>\n",
       "    <tr>\n",
       "      <th>65445</th>\n",
       "      <td>20221974</td>\n",
       "      <td>737777001</td>\n",
       "      <td>4.339756</td>\n",
       "    </tr>\n",
       "  </tbody>\n",
       "</table>\n",
       "</div>"
      ],
      "text/plain": [
       "        user_id    item_id  rating_pred\n",
       "67130  20221974  681111012     4.339756\n",
       "26112  20221974  622966014     4.339756\n",
       "68936  20221974  678571012     4.339756\n",
       "59551  20221974  600229026     4.339756\n",
       "10539  20221974  666006005     4.339756\n",
       "22077  20221974  796794002     4.339756\n",
       "47702  20221974  678260005     4.339756\n",
       "10594  20221974  821018002     4.339756\n",
       "10472  20221974  809074002     4.339756\n",
       "65445  20221974  737777001     4.339756"
      ]
     },
     "execution_count": 38,
     "metadata": {},
     "output_type": "execute_result"
    }
   ],
   "source": [
    "baseline_model.recommend(user=20221974)"
   ]
  },
  {
   "cell_type": "markdown",
   "metadata": {},
   "source": [
    "## ALS"
   ]
  },
  {
   "cell_type": "code",
   "execution_count": 29,
   "metadata": {},
   "outputs": [
    {
     "name": "stdout",
     "output_type": "stream",
     "text": [
      "Epoch  1 / 20  -  train_rmse: 0.47110718469516555\n",
      "Epoch  2 / 20  -  train_rmse: 0.47110718491518583\n",
      "Epoch  3 / 20  -  train_rmse: 0.47110718512281335\n",
      "Epoch  4 / 20  -  train_rmse: 0.4711071852882583\n",
      "Epoch  5 / 20  -  train_rmse: 0.4711071854104981\n",
      "Epoch  6 / 20  -  train_rmse: 0.4711071854972952\n",
      "Epoch  7 / 20  -  train_rmse: 0.4711071855574756\n",
      "Epoch  8 / 20  -  train_rmse: 0.47110718559863374\n",
      "Epoch  9 / 20  -  train_rmse: 0.4711071856265367\n",
      "Epoch  10 / 20  -  train_rmse: 0.4711071856453203\n",
      "Epoch  11 / 20  -  train_rmse: 0.4711071856579312\n",
      "Epoch  12 / 20  -  train_rmse: 0.47110718566638377\n",
      "Epoch  13 / 20  -  train_rmse: 0.4711071856720197\n",
      "Epoch  14 / 20  -  train_rmse: 0.4711071856758107\n",
      "Epoch  15 / 20  -  train_rmse: 0.4711071856783053\n",
      "Epoch  16 / 20  -  train_rmse: 0.47110718567998444\n",
      "Epoch  17 / 20  -  train_rmse: 0.4711071856811095\n",
      "Epoch  18 / 20  -  train_rmse: 0.4711071856818524\n",
      "Epoch  19 / 20  -  train_rmse: 0.4711071856823407\n",
      "Epoch  20 / 20  -  train_rmse: 0.4711071856826673\n",
      "\n",
      "Test RMSE: 1.4171\n",
      "CPU times: user 237 ms, sys: 266 µs, total: 238 ms\n",
      "Wall time: 238 ms\n"
     ]
    }
   ],
   "source": [
    "%%time\n",
    "\n",
    "baseline_model = BaselineModel(method='als', n_epochs = 20, reg = 0.5, verbose=1)\n",
    "baseline_model.fit(X_train, y_train)\n",
    "\n",
    "pred = baseline_model.predict(X_test)\n",
    "rmse = mean_squared_error(y_test, pred, squared = False)\n",
    "\n",
    "print(f'\\nTest RMSE: {rmse:.4f}')"
   ]
  },
  {
   "cell_type": "markdown",
   "metadata": {},
   "source": [
    "# Matrix Factorization"
   ]
  },
  {
   "cell_type": "markdown",
   "metadata": {},
   "source": [
    "## Linear Kernel"
   ]
  },
  {
   "cell_type": "code",
   "execution_count": 30,
   "metadata": {},
   "outputs": [
    {
     "name": "stdout",
     "output_type": "stream",
     "text": [
      "Epoch  1 / 20  -  train_rmse: 1.4123422525795397\n",
      "Epoch  2 / 20  -  train_rmse: 1.4079901290403019\n",
      "Epoch  3 / 20  -  train_rmse: 1.4038397838714407\n",
      "Epoch  4 / 20  -  train_rmse: 1.3997664791766085\n",
      "Epoch  5 / 20  -  train_rmse: 1.3957175861403615\n",
      "Epoch  6 / 20  -  train_rmse: 1.39168817817266\n",
      "Epoch  7 / 20  -  train_rmse: 1.3876544655348892\n",
      "Epoch  8 / 20  -  train_rmse: 1.3836006792600155\n",
      "Epoch  9 / 20  -  train_rmse: 1.3795078695737297\n",
      "Epoch  10 / 20  -  train_rmse: 1.3753694521839754\n",
      "Epoch  11 / 20  -  train_rmse: 1.371160938221507\n",
      "Epoch  12 / 20  -  train_rmse: 1.3668790604488068\n",
      "Epoch  13 / 20  -  train_rmse: 1.3624936158160827\n",
      "Epoch  14 / 20  -  train_rmse: 1.3580033482390952\n",
      "Epoch  15 / 20  -  train_rmse: 1.3533937929471138\n",
      "Epoch  16 / 20  -  train_rmse: 1.3486467833874654\n",
      "Epoch  17 / 20  -  train_rmse: 1.3437479205282943\n",
      "Epoch  18 / 20  -  train_rmse: 1.3386826849169062\n",
      "Epoch  19 / 20  -  train_rmse: 1.3334356784527925\n",
      "Epoch  20 / 20  -  train_rmse: 1.3280001644902102\n",
      "\n",
      "Test RMSE: 1.4171\n",
      "CPU times: user 2.42 s, sys: 40.1 ms, total: 2.46 s\n",
      "Wall time: 2.45 s\n"
     ]
    }
   ],
   "source": [
    "%%time \n",
    "matrix_fact = KernelMF(n_epochs = 20, n_factors = 100, verbose = 1, lr = 0.001, reg = 0.005)\n",
    "matrix_fact.fit(X_train, y_train)\n",
    "\n",
    "pred = matrix_fact.predict(X_test)\n",
    "rmse = mean_squared_error(y_test, pred, squared = False)\n",
    "\n",
    "print(f'\\nTest RMSE: {rmse:.4f}')"
   ]
  },
  {
   "cell_type": "markdown",
   "metadata": {},
   "source": [
    "## Getting list of recommendations for a user"
   ]
  },
  {
   "cell_type": "code",
   "execution_count": 31,
   "metadata": {},
   "outputs": [
    {
     "data": {
      "text/html": [
       "<div>\n",
       "<style scoped>\n",
       "    .dataframe tbody tr th:only-of-type {\n",
       "        vertical-align: middle;\n",
       "    }\n",
       "\n",
       "    .dataframe tbody tr th {\n",
       "        vertical-align: top;\n",
       "    }\n",
       "\n",
       "    .dataframe thead th {\n",
       "        text-align: right;\n",
       "    }\n",
       "</style>\n",
       "<table border=\"1\" class=\"dataframe\">\n",
       "  <thead>\n",
       "    <tr style=\"text-align: right;\">\n",
       "      <th></th>\n",
       "      <th>user_id</th>\n",
       "      <th>item_id</th>\n",
       "      <th>rating_pred</th>\n",
       "    </tr>\n",
       "  </thead>\n",
       "  <tbody>\n",
       "    <tr>\n",
       "      <th>80599</th>\n",
       "      <td>20221974</td>\n",
       "      <td>656677012</td>\n",
       "      <td>3.509661</td>\n",
       "    </tr>\n",
       "    <tr>\n",
       "      <th>24988</th>\n",
       "      <td>20221974</td>\n",
       "      <td>567728001</td>\n",
       "      <td>3.500327</td>\n",
       "    </tr>\n",
       "    <tr>\n",
       "      <th>48142</th>\n",
       "      <td>20221974</td>\n",
       "      <td>664871001</td>\n",
       "      <td>3.490327</td>\n",
       "    </tr>\n",
       "    <tr>\n",
       "      <th>9080</th>\n",
       "      <td>20221974</td>\n",
       "      <td>747696001</td>\n",
       "      <td>3.485060</td>\n",
       "    </tr>\n",
       "    <tr>\n",
       "      <th>42604</th>\n",
       "      <td>20221974</td>\n",
       "      <td>401020001</td>\n",
       "      <td>3.483425</td>\n",
       "    </tr>\n",
       "    <tr>\n",
       "      <th>40668</th>\n",
       "      <td>20221974</td>\n",
       "      <td>548111010</td>\n",
       "      <td>3.480262</td>\n",
       "    </tr>\n",
       "    <tr>\n",
       "      <th>63374</th>\n",
       "      <td>20221974</td>\n",
       "      <td>637515010</td>\n",
       "      <td>3.479864</td>\n",
       "    </tr>\n",
       "    <tr>\n",
       "      <th>791</th>\n",
       "      <td>20221974</td>\n",
       "      <td>891050002</td>\n",
       "      <td>3.471648</td>\n",
       "    </tr>\n",
       "    <tr>\n",
       "      <th>8258</th>\n",
       "      <td>20221974</td>\n",
       "      <td>902508001</td>\n",
       "      <td>3.458801</td>\n",
       "    </tr>\n",
       "    <tr>\n",
       "      <th>3333</th>\n",
       "      <td>20221974</td>\n",
       "      <td>715828005</td>\n",
       "      <td>3.453540</td>\n",
       "    </tr>\n",
       "  </tbody>\n",
       "</table>\n",
       "</div>"
      ],
      "text/plain": [
       "        user_id    item_id  rating_pred\n",
       "80599  20221974  656677012     3.509661\n",
       "24988  20221974  567728001     3.500327\n",
       "48142  20221974  664871001     3.490327\n",
       "9080   20221974  747696001     3.485060\n",
       "42604  20221974  401020001     3.483425\n",
       "40668  20221974  548111010     3.480262\n",
       "63374  20221974  637515010     3.479864\n",
       "791    20221974  891050002     3.471648\n",
       "8258   20221974  902508001     3.458801\n",
       "3333   20221974  715828005     3.453540"
      ]
     },
     "execution_count": 31,
     "metadata": {},
     "output_type": "execute_result"
    }
   ],
   "source": [
    "user = 20221974\n",
    "items_known = X_train.query('user_id == @user')['item_id']\n",
    "matrix_fact.recommend(user=user, items_known=items_known)"
   ]
  },
  {
   "cell_type": "markdown",
   "metadata": {},
   "source": [
    "## Sigmoid kernel"
   ]
  },
  {
   "cell_type": "code",
   "execution_count": 32,
   "metadata": {},
   "outputs": [
    {
     "name": "stdout",
     "output_type": "stream",
     "text": [
      "Epoch  1 / 20  -  train_rmse: 2.034817956838736\n",
      "Epoch  2 / 20  -  train_rmse: 1.5263551071137147\n",
      "Epoch  3 / 20  -  train_rmse: 1.4032789295442796\n",
      "Epoch  4 / 20  -  train_rmse: 1.3890578138330538\n",
      "Epoch  5 / 20  -  train_rmse: 1.378604524755767\n",
      "Epoch  6 / 20  -  train_rmse: 1.3688567318940805\n",
      "Epoch  7 / 20  -  train_rmse: 1.3586792672025598\n",
      "Epoch  8 / 20  -  train_rmse: 1.3484580652286358\n",
      "Epoch  9 / 20  -  train_rmse: 1.337836468306542\n",
      "Epoch  10 / 20  -  train_rmse: 1.326897341985218\n",
      "Epoch  11 / 20  -  train_rmse: 1.315147598137661\n",
      "Epoch  12 / 20  -  train_rmse: 1.3027353715144516\n",
      "Epoch  13 / 20  -  train_rmse: 1.2895141597240152\n",
      "Epoch  14 / 20  -  train_rmse: 1.2754253590874913\n",
      "Epoch  15 / 20  -  train_rmse: 1.260425641090361\n",
      "Epoch  16 / 20  -  train_rmse: 1.2438950967386315\n",
      "Epoch  17 / 20  -  train_rmse: 1.2269820165574754\n",
      "Epoch  18 / 20  -  train_rmse: 1.2084137423972772\n",
      "Epoch  19 / 20  -  train_rmse: 1.1886975410947411\n",
      "Epoch  20 / 20  -  train_rmse: 1.1676851959750638\n",
      "\n",
      "Test RMSE: 1.4178\n",
      "CPU times: user 2.5 s, sys: 12 ms, total: 2.51 s\n",
      "Wall time: 2.5 s\n"
     ]
    }
   ],
   "source": [
    "%%time \n",
    "matrix_fact = KernelMF(n_epochs = 20, n_factors = 100, verbose = 1, lr = 0.01, reg = 0.005, kernel='sigmoid')\n",
    "matrix_fact.fit(X_train, y_train)\n",
    "\n",
    "pred = matrix_fact.predict(X_test)\n",
    "rmse = mean_squared_error(y_test, pred, squared = False)\n",
    "\n",
    "print(f'\\nTest RMSE: {rmse:.4f}')"
   ]
  },
  {
   "cell_type": "markdown",
   "metadata": {},
   "source": [
    "## RBF Kernel"
   ]
  },
  {
   "cell_type": "code",
   "execution_count": 33,
   "metadata": {},
   "outputs": [
    {
     "name": "stdout",
     "output_type": "stream",
     "text": [
      "Epoch  1 / 20  -  train_rmse: 1.4413356532514567\n",
      "Epoch  2 / 20  -  train_rmse: 1.4154050770262954\n",
      "Epoch  3 / 20  -  train_rmse: 1.392121538131348\n",
      "Epoch  4 / 20  -  train_rmse: 1.3740825408844348\n",
      "Epoch  5 / 20  -  train_rmse: 1.351693120215384\n",
      "Epoch  6 / 20  -  train_rmse: 1.32244456718193\n",
      "Epoch  7 / 20  -  train_rmse: 1.2979135920417963\n",
      "Epoch  8 / 20  -  train_rmse: 1.2804791523446284\n",
      "Epoch  9 / 20  -  train_rmse: 1.258898521265899\n",
      "Epoch  10 / 20  -  train_rmse: 1.2362757367776251\n",
      "Epoch  11 / 20  -  train_rmse: 1.2120430136670712\n",
      "Epoch  12 / 20  -  train_rmse: 1.1947973631923807\n",
      "Epoch  13 / 20  -  train_rmse: 1.1736099599162642\n",
      "Epoch  14 / 20  -  train_rmse: 1.157576679020673\n",
      "Epoch  15 / 20  -  train_rmse: 1.1385495787523745\n",
      "Epoch  16 / 20  -  train_rmse: 1.124833637549907\n",
      "Epoch  17 / 20  -  train_rmse: 1.1017896713304083\n",
      "Epoch  18 / 20  -  train_rmse: 1.088208391594635\n",
      "Epoch  19 / 20  -  train_rmse: 1.071778958957508\n",
      "Epoch  20 / 20  -  train_rmse: 1.0535579166256774\n",
      "\n",
      "Test RMSE: 1.5017\n",
      "CPU times: user 3.2 s, sys: 11.9 ms, total: 3.21 s\n",
      "Wall time: 3.2 s\n"
     ]
    }
   ],
   "source": [
    "%%time \n",
    "matrix_fact = KernelMF(n_epochs = 20, n_factors = 100, verbose = 1, lr = 0.5, reg = 0.005, kernel='rbf')\n",
    "matrix_fact.fit(X_train, y_train)\n",
    "\n",
    "pred = matrix_fact.predict(X_test)\n",
    "rmse = mean_squared_error(y_test, pred, squared = False)\n",
    "\n",
    "print(f'\\nTest RMSE: {rmse:.4f}')"
   ]
  },
  {
   "cell_type": "markdown",
   "metadata": {},
   "source": [
    "# Scikit-learn compatability"
   ]
  },
  {
   "cell_type": "code",
   "execution_count": 34,
   "metadata": {},
   "outputs": [
    {
     "name": "stdout",
     "output_type": "stream",
     "text": [
      "Fitting 5 folds for each of 81 candidates, totalling 405 fits\n"
     ]
    },
    {
     "data": {
      "text/plain": [
       "GridSearchCV(cv=5, estimator=KernelMF(gamma=0.01, verbose=0), n_jobs=-1,\n",
       "             param_grid={'kernel': ['linear', 'sigmoid', 'rbf'],\n",
       "                         'n_epochs': [10, 20, 50], 'n_factors': [10, 20, 50],\n",
       "                         'reg': [0, 0.005, 0.1]},\n",
       "             scoring='neg_root_mean_squared_error', verbose=1)"
      ]
     },
     "execution_count": 34,
     "metadata": {},
     "output_type": "execute_result"
    }
   ],
   "source": [
    "from sklearn.model_selection import GridSearchCV, ParameterGrid\n",
    "\n",
    "param_grid = {\n",
    "    'kernel': ['linear', 'sigmoid', 'rbf'],\n",
    "    'n_factors': [10, 20, 50],\n",
    "    'n_epochs': [10, 20, 50],\n",
    "    'reg': [0, 0.005, 0.1]\n",
    "}\n",
    "\n",
    "grid_search = GridSearchCV(KernelMF(verbose=0), scoring = 'neg_root_mean_squared_error', param_grid=param_grid, n_jobs=-1, cv=5, verbose=1)\n",
    "grid_search.fit(X_train, y_train)"
   ]
  },
  {
   "cell_type": "code",
   "execution_count": 35,
   "metadata": {},
   "outputs": [
    {
     "data": {
      "text/plain": [
       "-1.4151348248236668"
      ]
     },
     "execution_count": 35,
     "metadata": {},
     "output_type": "execute_result"
    },
    {
     "data": {
      "text/plain": [
       "{'kernel': 'linear', 'n_epochs': 50, 'n_factors': 50, 'reg': 0.1}"
      ]
     },
     "execution_count": 35,
     "metadata": {},
     "output_type": "execute_result"
    }
   ],
   "source": [
    "grid_search.best_score_\n",
    "grid_search.best_params_"
   ]
  }
 ],
 "metadata": {
  "interpreter": {
   "hash": "916dbcbb3f70747c44a77c7bcd40155683ae19c65e1c03b4aa3499c5328201f1"
  },
  "kernelspec": {
   "display_name": "Python [conda env:recommend]",
   "language": "python",
   "name": "python3"
  },
  "language_info": {
   "codemirror_mode": {
    "name": "ipython",
    "version": 3
   },
   "file_extension": ".py",
   "mimetype": "text/x-python",
   "name": "python",
   "nbconvert_exporter": "python",
   "pygments_lexer": "ipython3",
   "version": "3.8.10"
  },
  "toc-autonumbering": true,
  "toc-showcode": false,
  "toc-showmarkdowntxt": false,
  "toc-showtags": false
 },
 "nbformat": 4,
 "nbformat_minor": 4
}
