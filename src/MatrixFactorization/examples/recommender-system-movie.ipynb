{
 "cells": [
  {
   "cell_type": "code",
   "execution_count": 1,
   "metadata": {
    "tags": []
   },
   "outputs": [],
   "source": [
    "# Data manipulation\n",
    "import numpy as np\n",
    "import pandas as pd\n",
    "pd.options.display.max_rows = 100\n",
    "\n",
    "# Modeling\n",
    "from matrix_factorization import BaselineModel, KernelMF, train_update_test_split\n",
    "from sklearn.metrics import mean_squared_error\n",
    "from sklearn.model_selection import train_test_split\n",
    "\n",
    "# Other\n",
    "import os\n",
    "import random\n",
    "import sys\n",
    "\n",
    "# Reload imported code \n",
    "%load_ext autoreload\n",
    "%autoreload 2\n",
    "\n",
    "# Print all output\n",
    "from IPython.core.interactiveshell import InteractiveShell\n",
    "InteractiveShell.ast_node_interactivity = \"all\"\n",
    "    \n",
    "rand_seed = 2\n",
    "np.random.seed(rand_seed)\n",
    "random.seed(rand_seed)"
   ]
  },
  {
   "cell_type": "markdown",
   "metadata": {},
   "source": [
    "# Load data"
   ]
  },
  {
   "cell_type": "markdown",
   "metadata": {},
   "source": [
    "**Movie data found here https://grouplens.org/datasets/movielens/**"
   ]
  },
  {
   "cell_type": "code",
   "execution_count": 10,
   "metadata": {},
   "outputs": [
    {
     "data": {
      "text/html": [
       "<div>\n",
       "<style scoped>\n",
       "    .dataframe tbody tr th:only-of-type {\n",
       "        vertical-align: middle;\n",
       "    }\n",
       "\n",
       "    .dataframe tbody tr th {\n",
       "        vertical-align: top;\n",
       "    }\n",
       "\n",
       "    .dataframe thead th {\n",
       "        text-align: right;\n",
       "    }\n",
       "</style>\n",
       "<table border=\"1\" class=\"dataframe\">\n",
       "  <thead>\n",
       "    <tr style=\"text-align: right;\">\n",
       "      <th></th>\n",
       "      <th>user_id</th>\n",
       "      <th>item_id</th>\n",
       "      <th>rating</th>\n",
       "    </tr>\n",
       "  </thead>\n",
       "  <tbody>\n",
       "    <tr>\n",
       "      <th>0</th>\n",
       "      <td>196</td>\n",
       "      <td>242</td>\n",
       "      <td>3</td>\n",
       "    </tr>\n",
       "    <tr>\n",
       "      <th>1</th>\n",
       "      <td>186</td>\n",
       "      <td>302</td>\n",
       "      <td>3</td>\n",
       "    </tr>\n",
       "    <tr>\n",
       "      <th>2</th>\n",
       "      <td>22</td>\n",
       "      <td>377</td>\n",
       "      <td>1</td>\n",
       "    </tr>\n",
       "    <tr>\n",
       "      <th>3</th>\n",
       "      <td>244</td>\n",
       "      <td>51</td>\n",
       "      <td>2</td>\n",
       "    </tr>\n",
       "    <tr>\n",
       "      <th>4</th>\n",
       "      <td>166</td>\n",
       "      <td>346</td>\n",
       "      <td>1</td>\n",
       "    </tr>\n",
       "    <tr>\n",
       "      <th>5</th>\n",
       "      <td>298</td>\n",
       "      <td>474</td>\n",
       "      <td>4</td>\n",
       "    </tr>\n",
       "    <tr>\n",
       "      <th>6</th>\n",
       "      <td>115</td>\n",
       "      <td>265</td>\n",
       "      <td>2</td>\n",
       "    </tr>\n",
       "    <tr>\n",
       "      <th>7</th>\n",
       "      <td>253</td>\n",
       "      <td>465</td>\n",
       "      <td>5</td>\n",
       "    </tr>\n",
       "    <tr>\n",
       "      <th>8</th>\n",
       "      <td>305</td>\n",
       "      <td>451</td>\n",
       "      <td>3</td>\n",
       "    </tr>\n",
       "    <tr>\n",
       "      <th>9</th>\n",
       "      <td>6</td>\n",
       "      <td>86</td>\n",
       "      <td>3</td>\n",
       "    </tr>\n",
       "  </tbody>\n",
       "</table>\n",
       "</div>"
      ],
      "text/plain": [
       "   user_id  item_id  rating\n",
       "0      196      242       3\n",
       "1      186      302       3\n",
       "2       22      377       1\n",
       "3      244       51       2\n",
       "4      166      346       1\n",
       "5      298      474       4\n",
       "6      115      265       2\n",
       "7      253      465       5\n",
       "8      305      451       3\n",
       "9        6       86       3"
      ]
     },
     "execution_count": 10,
     "metadata": {},
     "output_type": "execute_result"
    }
   ],
   "source": [
    "from pathlib import Path\n",
    "\n",
    "cols = ['user_id', 'item_id', 'rating', 'timestamp']\n",
    "# movie_data = pd.read_csv('../data/ml-1m/ratings.dat', names = cols, sep = '::', usecols=[0, 1, 2], engine='python')\n",
    "def get_project_root() -> Path:\n",
    "    return Path(sys.path[5]).parent.parent.parent.parent\n",
    "\n",
    "# Data location\n",
    "ROOT_DIR = get_project_root()\n",
    "DATA_DIR = os.path.join(ROOT_DIR, 'GitHub/Recommender-System-for-AR-Glasses/data/ml-100k/u.data')\n",
    "\n",
    "movie_data = pd.read_csv(DATA_DIR, names = cols, sep = '\\t', usecols=[0, 1, 2], engine='python')\n",
    "\n",
    "X = movie_data[['user_id', 'item_id']]\n",
    "y = movie_data['rating']\n",
    "\n",
    "# Prepare data\n",
    "X_train, X_test, y_train, y_test = train_test_split(X, y, test_size=0.2)\n",
    "\n",
    "# Prepare data for online learning\n",
    "X_train_initial, y_train_initial, X_train_update, y_train_update, X_test_update, y_test_update = train_update_test_split(movie_data, frac_new_users=0.2)\n",
    "\n",
    "movie_data.head(10)"
   ]
  },
  {
   "cell_type": "markdown",
   "metadata": {},
   "source": [
    "# Simple model with global mean"
   ]
  },
  {
   "cell_type": "markdown",
   "metadata": {},
   "source": [
    "This is similar to just the global standard deviation"
   ]
  },
  {
   "cell_type": "code",
   "execution_count": 9,
   "metadata": {
    "tags": []
   },
   "outputs": [
    {
     "name": "stdout",
     "output_type": "stream",
     "text": [
      "\n",
      "Test RMSE: 1.120652\n"
     ]
    }
   ],
   "source": [
    "global_mean = y_train.mean()\n",
    "pred = [global_mean for _ in range(y_test.shape[0])]\n",
    "\n",
    "rmse = mean_squared_error(y_test, pred, squared = False)\n",
    "\n",
    "print(f'\\nTest RMSE: {rmse:4f}')"
   ]
  },
  {
   "cell_type": "markdown",
   "metadata": {},
   "source": [
    "# Baseline Model with biases"
   ]
  },
  {
   "cell_type": "markdown",
   "metadata": {},
   "source": [
    "## SGD"
   ]
  },
  {
   "cell_type": "code",
   "execution_count": 8,
   "metadata": {},
   "outputs": [
    {
     "name": "stdout",
     "output_type": "stream",
     "text": [
      "Epoch  1 / 20  -  train_rmse: 0.9683172826185533\n",
      "Epoch  2 / 20  -  train_rmse: 0.9451415019565567\n",
      "Epoch  3 / 20  -  train_rmse: 0.9351303325117791\n",
      "Epoch  4 / 20  -  train_rmse: 0.9296055993119998\n",
      "Epoch  5 / 20  -  train_rmse: 0.9259708272936896\n",
      "Epoch  6 / 20  -  train_rmse: 0.9236709816113429\n",
      "Epoch  7 / 20  -  train_rmse: 0.9218615631410583\n",
      "Epoch  8 / 20  -  train_rmse: 0.9204950753984653\n",
      "Epoch  9 / 20  -  train_rmse: 0.919795403994173\n",
      "Epoch  10 / 20  -  train_rmse: 0.9189174163881855\n",
      "Epoch  11 / 20  -  train_rmse: 0.9184914381519012\n",
      "Epoch  12 / 20  -  train_rmse: 0.917986208579641\n",
      "Epoch  13 / 20  -  train_rmse: 0.9176079181387055\n",
      "Epoch  14 / 20  -  train_rmse: 0.917261538700951\n",
      "Epoch  15 / 20  -  train_rmse: 0.9170046482676864\n",
      "Epoch  16 / 20  -  train_rmse: 0.9168164383929871\n",
      "Epoch  17 / 20  -  train_rmse: 0.916527192748887\n",
      "Epoch  18 / 20  -  train_rmse: 0.9163887670520774\n",
      "Epoch  19 / 20  -  train_rmse: 0.9161326153111765\n",
      "Epoch  20 / 20  -  train_rmse: 0.9160051739197278\n",
      "\n",
      "Test RMSE: 0.9295\n",
      "CPU times: user 539 ms, sys: 3.87 ms, total: 543 ms\n",
      "Wall time: 544 ms\n"
     ]
    }
   ],
   "source": [
    "%%time\n",
    "\n",
    "baseline_model = BaselineModel(method='sgd', n_epochs = 20, reg = 0.005, lr = 0.01, verbose=1)\n",
    "baseline_model.fit(X_train, y_train)\n",
    "\n",
    "pred = baseline_model.predict(X_test)\n",
    "rmse = mean_squared_error(y_test, pred, squared = False)\n",
    "\n",
    "print(f'\\nTest RMSE: {rmse:.4f}')"
   ]
  },
  {
   "cell_type": "code",
   "execution_count": 6,
   "metadata": {},
   "outputs": [
    {
     "data": {
      "text/html": [
       "<div>\n",
       "<style scoped>\n",
       "    .dataframe tbody tr th:only-of-type {\n",
       "        vertical-align: middle;\n",
       "    }\n",
       "\n",
       "    .dataframe tbody tr th {\n",
       "        vertical-align: top;\n",
       "    }\n",
       "\n",
       "    .dataframe thead th {\n",
       "        text-align: right;\n",
       "    }\n",
       "</style>\n",
       "<table border=\"1\" class=\"dataframe\">\n",
       "  <thead>\n",
       "    <tr style=\"text-align: right;\">\n",
       "      <th></th>\n",
       "      <th>user_id</th>\n",
       "      <th>item_id</th>\n",
       "      <th>rating_pred</th>\n",
       "    </tr>\n",
       "  </thead>\n",
       "  <tbody>\n",
       "    <tr>\n",
       "      <th>388</th>\n",
       "      <td>200</td>\n",
       "      <td>408</td>\n",
       "      <td>5.0</td>\n",
       "    </tr>\n",
       "    <tr>\n",
       "      <th>212</th>\n",
       "      <td>200</td>\n",
       "      <td>169</td>\n",
       "      <td>5.0</td>\n",
       "    </tr>\n",
       "    <tr>\n",
       "      <th>790</th>\n",
       "      <td>200</td>\n",
       "      <td>114</td>\n",
       "      <td>5.0</td>\n",
       "    </tr>\n",
       "    <tr>\n",
       "      <th>338</th>\n",
       "      <td>200</td>\n",
       "      <td>64</td>\n",
       "      <td>5.0</td>\n",
       "    </tr>\n",
       "    <tr>\n",
       "      <th>281</th>\n",
       "      <td>200</td>\n",
       "      <td>483</td>\n",
       "      <td>5.0</td>\n",
       "    </tr>\n",
       "    <tr>\n",
       "      <th>726</th>\n",
       "      <td>200</td>\n",
       "      <td>513</td>\n",
       "      <td>5.0</td>\n",
       "    </tr>\n",
       "    <tr>\n",
       "      <th>188</th>\n",
       "      <td>200</td>\n",
       "      <td>178</td>\n",
       "      <td>5.0</td>\n",
       "    </tr>\n",
       "    <tr>\n",
       "      <th>378</th>\n",
       "      <td>200</td>\n",
       "      <td>318</td>\n",
       "      <td>5.0</td>\n",
       "    </tr>\n",
       "    <tr>\n",
       "      <th>988</th>\n",
       "      <td>200</td>\n",
       "      <td>1449</td>\n",
       "      <td>5.0</td>\n",
       "    </tr>\n",
       "    <tr>\n",
       "      <th>54</th>\n",
       "      <td>200</td>\n",
       "      <td>603</td>\n",
       "      <td>5.0</td>\n",
       "    </tr>\n",
       "  </tbody>\n",
       "</table>\n",
       "</div>"
      ],
      "text/plain": [
       "     user_id  item_id  rating_pred\n",
       "388      200      408          5.0\n",
       "212      200      169          5.0\n",
       "790      200      114          5.0\n",
       "338      200       64          5.0\n",
       "281      200      483          5.0\n",
       "726      200      513          5.0\n",
       "188      200      178          5.0\n",
       "378      200      318          5.0\n",
       "988      200     1449          5.0\n",
       "54       200      603          5.0"
      ]
     },
     "execution_count": 6,
     "metadata": {},
     "output_type": "execute_result"
    }
   ],
   "source": [
    "baseline_model.recommend(user=200)"
   ]
  },
  {
   "cell_type": "markdown",
   "metadata": {},
   "source": [
    "## ALS"
   ]
  },
  {
   "cell_type": "code",
   "execution_count": 7,
   "metadata": {},
   "outputs": [
    {
     "name": "stdout",
     "output_type": "stream",
     "text": [
      "Epoch  1 / 20  -  train_rmse: 0.9312489364350157\n",
      "Epoch  2 / 20  -  train_rmse: 0.9144875214764501\n",
      "Epoch  3 / 20  -  train_rmse: 0.9134856911195807\n",
      "Epoch  4 / 20  -  train_rmse: 0.9133800448918423\n",
      "Epoch  5 / 20  -  train_rmse: 0.9133615794862777\n",
      "Epoch  6 / 20  -  train_rmse: 0.9133565857003941\n",
      "Epoch  7 / 20  -  train_rmse: 0.9133544601244424\n",
      "Epoch  8 / 20  -  train_rmse: 0.9133531004630441\n",
      "Epoch  9 / 20  -  train_rmse: 0.9133519902067218\n",
      "Epoch  10 / 20  -  train_rmse: 0.9133509792033206\n",
      "Epoch  11 / 20  -  train_rmse: 0.9133500175542733\n",
      "Epoch  12 / 20  -  train_rmse: 0.9133490869495551\n",
      "Epoch  13 / 20  -  train_rmse: 0.9133481801287349\n",
      "Epoch  14 / 20  -  train_rmse: 0.9133472939684136\n",
      "Epoch  15 / 20  -  train_rmse: 0.9133464269599311\n",
      "Epoch  16 / 20  -  train_rmse: 0.9133455782426871\n",
      "Epoch  17 / 20  -  train_rmse: 0.9133447472230197\n",
      "Epoch  18 / 20  -  train_rmse: 0.9133439334215674\n",
      "Epoch  19 / 20  -  train_rmse: 0.9133431364114416\n",
      "Epoch  20 / 20  -  train_rmse: 0.9133423557930989\n",
      "\n",
      "Test RMSE: 0.9294\n",
      "CPU times: user 972 ms, sys: 7.96 ms, total: 980 ms\n",
      "Wall time: 990 ms\n"
     ]
    }
   ],
   "source": [
    "%%time\n",
    "\n",
    "baseline_model = BaselineModel(method='als', n_epochs = 20, reg = 0.5, verbose=1)\n",
    "baseline_model.fit(X_train, y_train)\n",
    "\n",
    "pred = baseline_model.predict(X_test)\n",
    "rmse = mean_squared_error(y_test, pred, squared = False)\n",
    "\n",
    "print(f'\\nTest RMSE: {rmse:.4f}')"
   ]
  },
  {
   "cell_type": "markdown",
   "metadata": {},
   "source": [
    "## Updating with new users"
   ]
  },
  {
   "cell_type": "code",
   "execution_count": 25,
   "metadata": {
    "tags": []
   },
   "outputs": [
    {
     "name": "stdout",
     "output_type": "stream",
     "text": [
      "Epoch  1 / 20  -  train_rmse: 0.9645834840497174\n",
      "Epoch  2 / 20  -  train_rmse: 0.9426788664353346\n",
      "Epoch  3 / 20  -  train_rmse: 0.933173020480211\n",
      "Epoch  4 / 20  -  train_rmse: 0.9280176538178754\n",
      "Epoch  5 / 20  -  train_rmse: 0.9247053572523148\n",
      "Epoch  6 / 20  -  train_rmse: 0.9225146819558325\n",
      "Epoch  7 / 20  -  train_rmse: 0.9210361429343735\n",
      "Epoch  8 / 20  -  train_rmse: 0.9197183131436016\n",
      "Epoch  9 / 20  -  train_rmse: 0.918955811904028\n",
      "Epoch  10 / 20  -  train_rmse: 0.9183187677881147\n",
      "Epoch  11 / 20  -  train_rmse: 0.9176959231504462\n",
      "Epoch  12 / 20  -  train_rmse: 0.9172373977398547\n",
      "Epoch  13 / 20  -  train_rmse: 0.916948425669373\n",
      "Epoch  14 / 20  -  train_rmse: 0.916834745181247\n",
      "Epoch  15 / 20  -  train_rmse: 0.9164204070644032\n",
      "Epoch  16 / 20  -  train_rmse: 0.9159426707035059\n",
      "Epoch  17 / 20  -  train_rmse: 0.9159168764283033\n",
      "Epoch  18 / 20  -  train_rmse: 0.9156423327116029\n",
      "Epoch  19 / 20  -  train_rmse: 0.9154243585445992\n",
      "Epoch  20 / 20  -  train_rmse: 0.9151920735377486\n"
     ]
    },
    {
     "data": {
      "text/plain": [
       "BaselineModel(n_epochs=20, reg=0.05)"
      ]
     },
     "execution_count": 25,
     "metadata": {},
     "output_type": "execute_result"
    }
   ],
   "source": [
    "baseline_model = BaselineModel(method='sgd', n_epochs = 20, lr=0.01, reg = 0.05, verbose=1)\n",
    "baseline_model.fit(X_train_initial, y_train_initial)"
   ]
  },
  {
   "cell_type": "code",
   "execution_count": 26,
   "metadata": {
    "tags": []
   },
   "outputs": [
    {
     "name": "stdout",
     "output_type": "stream",
     "text": [
      "Epoch  1 / 20  -  train_rmse: 1.0193834108666215\n",
      "Epoch  2 / 20  -  train_rmse: 1.0026683697314376\n",
      "Epoch  3 / 20  -  train_rmse: 0.9901769439761929\n",
      "Epoch  4 / 20  -  train_rmse: 0.9806875040857721\n",
      "Epoch  5 / 20  -  train_rmse: 0.9733817252991642\n",
      "Epoch  6 / 20  -  train_rmse: 0.9676198632538002\n",
      "Epoch  7 / 20  -  train_rmse: 0.9630161417527313\n",
      "Epoch  8 / 20  -  train_rmse: 0.9592313887131018\n",
      "Epoch  9 / 20  -  train_rmse: 0.9561021149525532\n",
      "Epoch  10 / 20  -  train_rmse: 0.9534711264024373\n",
      "Epoch  11 / 20  -  train_rmse: 0.951223273997874\n",
      "Epoch  12 / 20  -  train_rmse: 0.9492759622280281\n",
      "Epoch  13 / 20  -  train_rmse: 0.9475704516646841\n",
      "Epoch  14 / 20  -  train_rmse: 0.9460696594124194\n",
      "Epoch  15 / 20  -  train_rmse: 0.944740807364359\n",
      "Epoch  16 / 20  -  train_rmse: 0.9435485728661793\n",
      "Epoch  17 / 20  -  train_rmse: 0.9424704089146838\n",
      "Epoch  18 / 20  -  train_rmse: 0.9414923539812922\n",
      "Epoch  19 / 20  -  train_rmse: 0.9406025165004821\n",
      "Epoch  20 / 20  -  train_rmse: 0.9397942459342439\n",
      "\n",
      "Test RMSE: 0.9489\n",
      "CPU times: user 774 ms, sys: 5.48 ms, total: 780 ms\n",
      "Wall time: 781 ms\n"
     ]
    }
   ],
   "source": [
    "%%time\n",
    "baseline_model.update_users(X_train_update, y_train_update, n_epochs=20, lr=0.001, verbose=1)\n",
    "pred = baseline_model.predict(X_test_update)\n",
    "rmse = mean_squared_error(y_test_update, pred, squared = False)\n",
    "\n",
    "print(f'\\nTest RMSE: {rmse:.4f}')"
   ]
  },
  {
   "cell_type": "markdown",
   "metadata": {},
   "source": [
    "# Matrix Factorization"
   ]
  },
  {
   "cell_type": "markdown",
   "metadata": {},
   "source": [
    "## Linear Kernel"
   ]
  },
  {
   "cell_type": "code",
   "execution_count": 27,
   "metadata": {},
   "outputs": [
    {
     "name": "stdout",
     "output_type": "stream",
     "text": [
      "Epoch  1 / 20  -  train_rmse: 1.0801507140404096\n",
      "Epoch  2 / 20  -  train_rmse: 1.0473656907296969\n",
      "Epoch  3 / 20  -  train_rmse: 1.0244903630628588\n",
      "Epoch  4 / 20  -  train_rmse: 1.0075296857656224\n",
      "Epoch  5 / 20  -  train_rmse: 0.9942603284722936\n",
      "Epoch  6 / 20  -  train_rmse: 0.9835111632439683\n",
      "Epoch  7 / 20  -  train_rmse: 0.974526337601326\n",
      "Epoch  8 / 20  -  train_rmse: 0.966819553088186\n",
      "Epoch  9 / 20  -  train_rmse: 0.9600696133965093\n",
      "Epoch  10 / 20  -  train_rmse: 0.9540596630998097\n",
      "Epoch  11 / 20  -  train_rmse: 0.9486193990632841\n",
      "Epoch  12 / 20  -  train_rmse: 0.943639892522998\n",
      "Epoch  13 / 20  -  train_rmse: 0.9390311757853279\n",
      "Epoch  14 / 20  -  train_rmse: 0.9347239917770873\n",
      "Epoch  15 / 20  -  train_rmse: 0.9306733049109561\n",
      "Epoch  16 / 20  -  train_rmse: 0.9268335313250561\n",
      "Epoch  17 / 20  -  train_rmse: 0.9231712688864916\n",
      "Epoch  18 / 20  -  train_rmse: 0.9196596911866853\n",
      "Epoch  19 / 20  -  train_rmse: 0.9162768688316496\n",
      "Epoch  20 / 20  -  train_rmse: 0.9130027554530633\n",
      "\n",
      "Test RMSE: 0.9534\n",
      "CPU times: user 6.81 s, sys: 10.1 ms, total: 6.82 s\n",
      "Wall time: 6.82 s\n"
     ]
    }
   ],
   "source": [
    "%%time \n",
    "matrix_fact = KernelMF(n_epochs = 20, n_factors = 100, verbose = 1, lr = 0.001, reg = 0.005)\n",
    "matrix_fact.fit(X_train, y_train)\n",
    "\n",
    "pred = matrix_fact.predict(X_test)\n",
    "rmse = mean_squared_error(y_test, pred, squared = False)\n",
    "\n",
    "print(f'\\nTest RMSE: {rmse:.4f}')"
   ]
  },
  {
   "cell_type": "markdown",
   "metadata": {},
   "source": [
    "## Getting list of recommendations for a user"
   ]
  },
  {
   "cell_type": "code",
   "execution_count": 28,
   "metadata": {},
   "outputs": [
    {
     "data": {
      "text/html": [
       "<div>\n",
       "<style scoped>\n",
       "    .dataframe tbody tr th:only-of-type {\n",
       "        vertical-align: middle;\n",
       "    }\n",
       "\n",
       "    .dataframe tbody tr th {\n",
       "        vertical-align: top;\n",
       "    }\n",
       "\n",
       "    .dataframe thead th {\n",
       "        text-align: right;\n",
       "    }\n",
       "</style>\n",
       "<table border=\"1\" class=\"dataframe\">\n",
       "  <thead>\n",
       "    <tr style=\"text-align: right;\">\n",
       "      <th></th>\n",
       "      <th>user_id</th>\n",
       "      <th>item_id</th>\n",
       "      <th>rating_pred</th>\n",
       "    </tr>\n",
       "  </thead>\n",
       "  <tbody>\n",
       "    <tr>\n",
       "      <th>37</th>\n",
       "      <td>200</td>\n",
       "      <td>64</td>\n",
       "      <td>5.000000</td>\n",
       "    </tr>\n",
       "    <tr>\n",
       "      <th>242</th>\n",
       "      <td>200</td>\n",
       "      <td>357</td>\n",
       "      <td>4.953400</td>\n",
       "    </tr>\n",
       "    <tr>\n",
       "      <th>11</th>\n",
       "      <td>200</td>\n",
       "      <td>127</td>\n",
       "      <td>4.915417</td>\n",
       "    </tr>\n",
       "    <tr>\n",
       "      <th>61</th>\n",
       "      <td>200</td>\n",
       "      <td>272</td>\n",
       "      <td>4.904673</td>\n",
       "    </tr>\n",
       "    <tr>\n",
       "      <th>395</th>\n",
       "      <td>200</td>\n",
       "      <td>480</td>\n",
       "      <td>4.838068</td>\n",
       "    </tr>\n",
       "    <tr>\n",
       "      <th>710</th>\n",
       "      <td>200</td>\n",
       "      <td>479</td>\n",
       "      <td>4.836338</td>\n",
       "    </tr>\n",
       "    <tr>\n",
       "      <th>275</th>\n",
       "      <td>200</td>\n",
       "      <td>12</td>\n",
       "      <td>4.816772</td>\n",
       "    </tr>\n",
       "    <tr>\n",
       "      <th>655</th>\n",
       "      <td>200</td>\n",
       "      <td>427</td>\n",
       "      <td>4.809603</td>\n",
       "    </tr>\n",
       "    <tr>\n",
       "      <th>55</th>\n",
       "      <td>200</td>\n",
       "      <td>511</td>\n",
       "      <td>4.804514</td>\n",
       "    </tr>\n",
       "    <tr>\n",
       "      <th>17</th>\n",
       "      <td>200</td>\n",
       "      <td>100</td>\n",
       "      <td>4.799981</td>\n",
       "    </tr>\n",
       "  </tbody>\n",
       "</table>\n",
       "</div>"
      ],
      "text/plain": [
       "     user_id  item_id  rating_pred\n",
       "37       200       64     5.000000\n",
       "242      200      357     4.953400\n",
       "11       200      127     4.915417\n",
       "61       200      272     4.904673\n",
       "395      200      480     4.838068\n",
       "710      200      479     4.836338\n",
       "275      200       12     4.816772\n",
       "655      200      427     4.809603\n",
       "55       200      511     4.804514\n",
       "17       200      100     4.799981"
      ]
     },
     "execution_count": 28,
     "metadata": {},
     "output_type": "execute_result"
    }
   ],
   "source": [
    "user = 200\n",
    "items_known = X_train.query('user_id == @user')['item_id']\n",
    "matrix_fact.recommend(user=user, items_known=items_known)"
   ]
  },
  {
   "cell_type": "markdown",
   "metadata": {},
   "source": [
    "## Updating with new users"
   ]
  },
  {
   "cell_type": "code",
   "execution_count": 29,
   "metadata": {},
   "outputs": [
    {
     "name": "stdout",
     "output_type": "stream",
     "text": [
      "Epoch  1 / 20  -  train_rmse: 1.070532534908358\n",
      "Epoch  2 / 20  -  train_rmse: 1.0382550814888798\n",
      "Epoch  3 / 20  -  train_rmse: 1.016223567186231\n",
      "Epoch  4 / 20  -  train_rmse: 0.9999259150734995\n",
      "Epoch  5 / 20  -  train_rmse: 0.9872230783607883\n",
      "Epoch  6 / 20  -  train_rmse: 0.9769180735139289\n",
      "Epoch  7 / 20  -  train_rmse: 0.9682961252963588\n",
      "Epoch  8 / 20  -  train_rmse: 0.960892150084995\n",
      "Epoch  9 / 20  -  train_rmse: 0.9543918379200625\n",
      "Epoch  10 / 20  -  train_rmse: 0.9485783384518195\n",
      "Epoch  11 / 20  -  train_rmse: 0.9433061637143006\n",
      "Epoch  12 / 20  -  train_rmse: 0.938463263379901\n",
      "Epoch  13 / 20  -  train_rmse: 0.9339650936805841\n",
      "Epoch  14 / 20  -  train_rmse: 0.929751847441957\n",
      "Epoch  15 / 20  -  train_rmse: 0.9257716553695285\n",
      "Epoch  16 / 20  -  train_rmse: 0.9219882225437939\n",
      "Epoch  17 / 20  -  train_rmse: 0.9183672795894445\n",
      "Epoch  18 / 20  -  train_rmse: 0.9148850583690756\n",
      "Epoch  19 / 20  -  train_rmse: 0.9115196571475493\n",
      "Epoch  20 / 20  -  train_rmse: 0.908250954121005\n"
     ]
    },
    {
     "data": {
      "text/plain": [
       "KernelMF(gamma=0.01, lr=0.001, n_epochs=20, reg=0.005)"
      ]
     },
     "execution_count": 29,
     "metadata": {},
     "output_type": "execute_result"
    }
   ],
   "source": [
    "matrix_fact = KernelMF(n_epochs = 20, n_factors = 100, verbose = 1, lr = 0.001, reg = 0.005)\n",
    "matrix_fact.fit(X_train_initial, y_train_initial)"
   ]
  },
  {
   "cell_type": "code",
   "execution_count": 30,
   "metadata": {},
   "outputs": [
    {
     "name": "stdout",
     "output_type": "stream",
     "text": [
      "Epoch  1 / 20  -  train_rmse: 1.0398438867441708\n",
      "Epoch  2 / 20  -  train_rmse: 1.0205298587191887\n",
      "Epoch  3 / 20  -  train_rmse: 1.005898944918304\n",
      "Epoch  4 / 20  -  train_rmse: 0.9946117622294945\n",
      "Epoch  5 / 20  -  train_rmse: 0.9857161215586545\n",
      "Epoch  6 / 20  -  train_rmse: 0.9786001978027283\n",
      "Epoch  7 / 20  -  train_rmse: 0.9727637689370116\n",
      "Epoch  8 / 20  -  train_rmse: 0.9678744440780326\n",
      "Epoch  9 / 20  -  train_rmse: 0.9636880571681337\n",
      "Epoch  10 / 20  -  train_rmse: 0.9600473744304538\n",
      "Epoch  11 / 20  -  train_rmse: 0.9568149961083536\n",
      "Epoch  12 / 20  -  train_rmse: 0.9539207501908638\n",
      "Epoch  13 / 20  -  train_rmse: 0.9512885302329018\n",
      "Epoch  14 / 20  -  train_rmse: 0.948871075478375\n",
      "Epoch  15 / 20  -  train_rmse: 0.9466215968349229\n",
      "Epoch  16 / 20  -  train_rmse: 0.944521169925318\n",
      "Epoch  17 / 20  -  train_rmse: 0.9425495193083304\n",
      "Epoch  18 / 20  -  train_rmse: 0.9406793049352827\n",
      "Epoch  19 / 20  -  train_rmse: 0.9388980542556391\n",
      "Epoch  20 / 20  -  train_rmse: 0.9371930705136422\n",
      "\n",
      "Test RMSE: 0.9677\n",
      "CPU times: user 2.92 s, sys: 7.75 ms, total: 2.93 s\n",
      "Wall time: 2.93 s\n"
     ]
    }
   ],
   "source": [
    "%%time\n",
    "# Update model with new users\n",
    "matrix_fact.update_users(X_train_update, y_train_update, lr=0.001, n_epochs=20, verbose=1)\n",
    "pred = matrix_fact.predict(X_test_update)\n",
    "rmse = mean_squared_error(y_test_update, pred, squared = False)\n",
    "\n",
    "print(f'\\nTest RMSE: {rmse:.4f}')"
   ]
  },
  {
   "cell_type": "markdown",
   "metadata": {},
   "source": [
    "## Sigmoid kernel"
   ]
  },
  {
   "cell_type": "code",
   "execution_count": 31,
   "metadata": {},
   "outputs": [
    {
     "name": "stdout",
     "output_type": "stream",
     "text": [
      "Epoch  1 / 20  -  train_rmse: 1.7254822848969822\n",
      "Epoch  2 / 20  -  train_rmse: 1.7003142751671472\n",
      "Epoch  3 / 20  -  train_rmse: 1.6622203537201186\n",
      "Epoch  4 / 20  -  train_rmse: 1.6210896054829982\n",
      "Epoch  5 / 20  -  train_rmse: 1.5755969696853245\n",
      "Epoch  6 / 20  -  train_rmse: 1.523358785200969\n",
      "Epoch  7 / 20  -  train_rmse: 1.4657473625381845\n",
      "Epoch  8 / 20  -  train_rmse: 1.4093923649123679\n",
      "Epoch  9 / 20  -  train_rmse: 1.3583786284889912\n",
      "Epoch  10 / 20  -  train_rmse: 1.31328765777303\n",
      "Epoch  11 / 20  -  train_rmse: 1.2739093163622697\n",
      "Epoch  12 / 20  -  train_rmse: 1.2392970315419771\n",
      "Epoch  13 / 20  -  train_rmse: 1.208703438927833\n",
      "Epoch  14 / 20  -  train_rmse: 1.1813865082019266\n",
      "Epoch  15 / 20  -  train_rmse: 1.1569240600214343\n",
      "Epoch  16 / 20  -  train_rmse: 1.1348499849610996\n",
      "Epoch  17 / 20  -  train_rmse: 1.1148490243653801\n",
      "Epoch  18 / 20  -  train_rmse: 1.0966084892109254\n",
      "Epoch  19 / 20  -  train_rmse: 1.0798441263248728\n",
      "Epoch  20 / 20  -  train_rmse: 1.0642930986094383\n",
      "\n",
      "Test RMSE: 1.1111\n",
      "CPU times: user 1.26 s, sys: 4.08 ms, total: 1.27 s\n",
      "Wall time: 1.26 s\n"
     ]
    }
   ],
   "source": [
    "%%time \n",
    "matrix_fact = KernelMF(n_epochs = 20, n_factors = 100, verbose = 1, lr = 0.01, reg = 0.005, kernel='sigmoid')\n",
    "matrix_fact.fit(X_train, y_train)\n",
    "\n",
    "pred = matrix_fact.predict(X_test)\n",
    "rmse = mean_squared_error(y_test, pred, squared = False)\n",
    "\n",
    "print(f'\\nTest RMSE: {rmse:.4f}')"
   ]
  },
  {
   "cell_type": "markdown",
   "metadata": {},
   "source": [
    "## RBF Kernel"
   ]
  },
  {
   "cell_type": "code",
   "execution_count": 32,
   "metadata": {},
   "outputs": [
    {
     "name": "stdout",
     "output_type": "stream",
     "text": [
      "Epoch  1 / 20  -  train_rmse: 1.261401461583481\n",
      "Epoch  2 / 20  -  train_rmse: 1.1104716789657518\n",
      "Epoch  3 / 20  -  train_rmse: 1.0459651301525494\n",
      "Epoch  4 / 20  -  train_rmse: 1.0041015731544418\n",
      "Epoch  5 / 20  -  train_rmse: 0.9753249911384554\n",
      "Epoch  6 / 20  -  train_rmse: 0.9521809987806821\n",
      "Epoch  7 / 20  -  train_rmse: 0.9348266703462532\n",
      "Epoch  8 / 20  -  train_rmse: 0.9221728325529471\n",
      "Epoch  9 / 20  -  train_rmse: 0.91201479599359\n",
      "Epoch  10 / 20  -  train_rmse: 0.9051753845440291\n",
      "Epoch  11 / 20  -  train_rmse: 0.9010243233985498\n",
      "Epoch  12 / 20  -  train_rmse: 0.8937243429616951\n",
      "Epoch  13 / 20  -  train_rmse: 0.8907050590546616\n",
      "Epoch  14 / 20  -  train_rmse: 0.8886879944704423\n",
      "Epoch  15 / 20  -  train_rmse: 0.8866428135120862\n",
      "Epoch  16 / 20  -  train_rmse: 0.8848659594433683\n",
      "Epoch  17 / 20  -  train_rmse: 0.8845182030522712\n",
      "Epoch  18 / 20  -  train_rmse: 0.8833204790414565\n",
      "Epoch  19 / 20  -  train_rmse: 0.8817838515145145\n",
      "Epoch  20 / 20  -  train_rmse: 0.8808931018319694\n",
      "\n",
      "Test RMSE: 0.9679\n",
      "CPU times: user 2.06 s, sys: 8.19 ms, total: 2.07 s\n",
      "Wall time: 2.06 s\n"
     ]
    }
   ],
   "source": [
    "%%time \n",
    "matrix_fact = KernelMF(n_epochs = 20, n_factors = 100, verbose = 1, lr = 0.5, reg = 0.005, kernel='rbf')\n",
    "matrix_fact.fit(X_train, y_train)\n",
    "\n",
    "pred = matrix_fact.predict(X_test)\n",
    "rmse = mean_squared_error(y_test, pred, squared = False)\n",
    "\n",
    "print(f'\\nTest RMSE: {rmse:.4f}')"
   ]
  },
  {
   "cell_type": "markdown",
   "metadata": {},
   "source": [
    "# Scikit-learn compatability"
   ]
  },
  {
   "cell_type": "code",
   "execution_count": 33,
   "metadata": {},
   "outputs": [
    {
     "name": "stdout",
     "output_type": "stream",
     "text": [
      "Fitting 5 folds for each of 81 candidates, totalling 405 fits\n"
     ]
    },
    {
     "data": {
      "text/plain": [
       "GridSearchCV(cv=5, estimator=KernelMF(gamma=0.01, verbose=0), n_jobs=-1,\n",
       "             param_grid={'kernel': ['linear', 'sigmoid', 'rbf'],\n",
       "                         'n_epochs': [10, 20, 50], 'n_factors': [10, 20, 50],\n",
       "                         'reg': [0, 0.005, 0.1]},\n",
       "             scoring='neg_root_mean_squared_error', verbose=1)"
      ]
     },
     "execution_count": 33,
     "metadata": {},
     "output_type": "execute_result"
    }
   ],
   "source": [
    "from sklearn.model_selection import GridSearchCV, ParameterGrid\n",
    "\n",
    "param_grid = {\n",
    "    'kernel': ['linear', 'sigmoid', 'rbf'],\n",
    "    'n_factors': [10, 20, 50],\n",
    "    'n_epochs': [10, 20, 50],\n",
    "    'reg': [0, 0.005, 0.1]\n",
    "}\n",
    "\n",
    "grid_search = GridSearchCV(KernelMF(verbose=0), scoring = 'neg_root_mean_squared_error', param_grid=param_grid, n_jobs=-1, cv=5, verbose=1)\n",
    "grid_search.fit(X_train, y_train)"
   ]
  },
  {
   "cell_type": "code",
   "execution_count": 34,
   "metadata": {},
   "outputs": [
    {
     "data": {
      "text/plain": [
       "-0.9257614456485126"
      ]
     },
     "execution_count": 34,
     "metadata": {},
     "output_type": "execute_result"
    },
    {
     "data": {
      "text/plain": [
       "{'kernel': 'linear', 'n_epochs': 50, 'n_factors': 50, 'reg': 0.1}"
      ]
     },
     "execution_count": 34,
     "metadata": {},
     "output_type": "execute_result"
    }
   ],
   "source": [
    "grid_search.best_score_\n",
    "grid_search.best_params_"
   ]
  }
 ],
 "metadata": {
  "interpreter": {
   "hash": "916dbcbb3f70747c44a77c7bcd40155683ae19c65e1c03b4aa3499c5328201f1"
  },
  "kernelspec": {
   "display_name": "Python [conda env:recommend]",
   "language": "python",
   "name": "python3"
  },
  "language_info": {
   "codemirror_mode": {
    "name": "ipython",
    "version": 3
   },
   "file_extension": ".py",
   "mimetype": "text/x-python",
   "name": "python",
   "nbconvert_exporter": "python",
   "pygments_lexer": "ipython3",
   "version": "3.8.10"
  },
  "toc-autonumbering": true,
  "toc-showcode": false,
  "toc-showmarkdowntxt": false,
  "toc-showtags": false
 },
 "nbformat": 4,
 "nbformat_minor": 4
}
