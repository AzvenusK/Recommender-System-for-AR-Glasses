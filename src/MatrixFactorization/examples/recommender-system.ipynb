{
 "cells": [
  {
   "cell_type": "code",
   "execution_count": 1,
   "metadata": {
    "tags": []
   },
   "outputs": [],
   "source": [
    "# Data manipulation\n",
    "import numpy as np\n",
    "import pandas as pd\n",
    "pd.options.display.max_rows = 100\n",
    "\n",
    "# Modeling\n",
    "from matrix_factorization import BaselineModel, KernelMF, train_update_test_split\n",
    "from sklearn.metrics import mean_squared_error\n",
    "from sklearn.model_selection import train_test_split\n",
    "\n",
    "# Other\n",
    "import os\n",
    "import random\n",
    "import sys\n",
    "\n",
    "# Reload imported code \n",
    "%load_ext autoreload\n",
    "%autoreload 2\n",
    "\n",
    "# Print all output\n",
    "from IPython.core.interactiveshell import InteractiveShell\n",
    "InteractiveShell.ast_node_interactivity = \"all\"\n",
    "    \n",
    "rand_seed = 2\n",
    "np.random.seed(rand_seed)\n",
    "random.seed(rand_seed)"
   ]
  },
  {
   "cell_type": "markdown",
   "metadata": {},
   "source": [
    "# Load data"
   ]
  },
  {
   "cell_type": "markdown",
   "metadata": {},
   "source": [
    "**Movie data found here https://grouplens.org/datasets/movielens/**"
   ]
  },
  {
   "cell_type": "code",
   "execution_count": 2,
   "metadata": {},
   "outputs": [
    {
     "data": {
      "text/html": [
       "<div>\n",
       "<style scoped>\n",
       "    .dataframe tbody tr th:only-of-type {\n",
       "        vertical-align: middle;\n",
       "    }\n",
       "\n",
       "    .dataframe tbody tr th {\n",
       "        vertical-align: top;\n",
       "    }\n",
       "\n",
       "    .dataframe thead th {\n",
       "        text-align: right;\n",
       "    }\n",
       "</style>\n",
       "<table border=\"1\" class=\"dataframe\">\n",
       "  <thead>\n",
       "    <tr style=\"text-align: right;\">\n",
       "      <th></th>\n",
       "      <th>user_id</th>\n",
       "      <th>item_id</th>\n",
       "      <th>rating</th>\n",
       "    </tr>\n",
       "  </thead>\n",
       "  <tbody>\n",
       "    <tr>\n",
       "      <th>0</th>\n",
       "      <td>196</td>\n",
       "      <td>242</td>\n",
       "      <td>3</td>\n",
       "    </tr>\n",
       "    <tr>\n",
       "      <th>1</th>\n",
       "      <td>186</td>\n",
       "      <td>302</td>\n",
       "      <td>3</td>\n",
       "    </tr>\n",
       "    <tr>\n",
       "      <th>2</th>\n",
       "      <td>22</td>\n",
       "      <td>377</td>\n",
       "      <td>1</td>\n",
       "    </tr>\n",
       "    <tr>\n",
       "      <th>3</th>\n",
       "      <td>244</td>\n",
       "      <td>51</td>\n",
       "      <td>2</td>\n",
       "    </tr>\n",
       "    <tr>\n",
       "      <th>4</th>\n",
       "      <td>166</td>\n",
       "      <td>346</td>\n",
       "      <td>1</td>\n",
       "    </tr>\n",
       "    <tr>\n",
       "      <th>5</th>\n",
       "      <td>298</td>\n",
       "      <td>474</td>\n",
       "      <td>4</td>\n",
       "    </tr>\n",
       "    <tr>\n",
       "      <th>6</th>\n",
       "      <td>115</td>\n",
       "      <td>265</td>\n",
       "      <td>2</td>\n",
       "    </tr>\n",
       "    <tr>\n",
       "      <th>7</th>\n",
       "      <td>253</td>\n",
       "      <td>465</td>\n",
       "      <td>5</td>\n",
       "    </tr>\n",
       "    <tr>\n",
       "      <th>8</th>\n",
       "      <td>305</td>\n",
       "      <td>451</td>\n",
       "      <td>3</td>\n",
       "    </tr>\n",
       "    <tr>\n",
       "      <th>9</th>\n",
       "      <td>6</td>\n",
       "      <td>86</td>\n",
       "      <td>3</td>\n",
       "    </tr>\n",
       "  </tbody>\n",
       "</table>\n",
       "</div>"
      ],
      "text/plain": [
       "   user_id  item_id  rating\n",
       "0      196      242       3\n",
       "1      186      302       3\n",
       "2       22      377       1\n",
       "3      244       51       2\n",
       "4      166      346       1\n",
       "5      298      474       4\n",
       "6      115      265       2\n",
       "7      253      465       5\n",
       "8      305      451       3\n",
       "9        6       86       3"
      ]
     },
     "execution_count": 2,
     "metadata": {},
     "output_type": "execute_result"
    }
   ],
   "source": [
    "cols = ['user_id', 'item_id', 'rating', 'timestamp']\n",
    "# movie_data = pd.read_csv('../data/ml-1m/ratings.dat', names = cols, sep = '::', usecols=[0, 1, 2], engine='python')\n",
    "movie_data = pd.read_csv('../data/ml-100k/u.data', names = cols, sep = '\\t', usecols=[0, 1, 2], engine='python')\n",
    "\n",
    "X = movie_data[['user_id', 'item_id']]\n",
    "y = movie_data['rating']\n",
    "\n",
    "# Prepare data\n",
    "X_train, X_test, y_train, y_test = train_test_split(X, y, test_size=0.2)\n",
    "\n",
    "# Prepare data for online learning\n",
    "X_train_initial, y_train_initial, X_train_update, y_train_update, X_test_update, y_test_update = train_update_test_split(movie_data, frac_new_users=0.2)\n",
    "\n",
    "movie_data.head(10)"
   ]
  },
  {
   "cell_type": "markdown",
   "metadata": {},
   "source": [
    "# Simple model with global mean"
   ]
  },
  {
   "cell_type": "markdown",
   "metadata": {},
   "source": [
    "This is similar to just the global standard deviation"
   ]
  },
  {
   "cell_type": "code",
   "execution_count": 3,
   "metadata": {
    "tags": []
   },
   "outputs": [
    {
     "name": "stdout",
     "output_type": "stream",
     "text": [
      "\n",
      "Test RMSE: 1.120652\n"
     ]
    }
   ],
   "source": [
    "global_mean = y_train.mean()\n",
    "pred = [global_mean for _ in range(y_test.shape[0])]\n",
    "\n",
    "rmse = mean_squared_error(y_test, pred, squared = False)\n",
    "\n",
    "print(f'\\nTest RMSE: {rmse:4f}')"
   ]
  },
  {
   "cell_type": "markdown",
   "metadata": {},
   "source": [
    "# Baseline Model with biases"
   ]
  },
  {
   "cell_type": "markdown",
   "metadata": {},
   "source": [
    "## SGD"
   ]
  },
  {
   "cell_type": "code",
   "execution_count": 4,
   "metadata": {},
   "outputs": [
    {
     "name": "stdout",
     "output_type": "stream",
     "text": [
      "Epoch  1 / 20  -  train_rmse: 0.9685443987174238\n",
      "Epoch  2 / 20  -  train_rmse: 0.945448032425675\n",
      "Epoch  3 / 20  -  train_rmse: 0.9350744230954693\n",
      "Epoch  4 / 20  -  train_rmse: 0.9294774771346712\n",
      "Epoch  5 / 20  -  train_rmse: 0.9258635943145475\n",
      "Epoch  6 / 20  -  train_rmse: 0.9235995589398913\n",
      "Epoch  7 / 20  -  train_rmse: 0.9218589129974872\n",
      "Epoch  8 / 20  -  train_rmse: 0.9205752967946901\n",
      "Epoch  9 / 20  -  train_rmse: 0.9197497680553437\n",
      "Epoch  10 / 20  -  train_rmse: 0.9189075470532244\n",
      "Epoch  11 / 20  -  train_rmse: 0.9184605627485326\n",
      "Epoch  12 / 20  -  train_rmse: 0.9180274072268116\n",
      "Epoch  13 / 20  -  train_rmse: 0.9174771346162836\n",
      "Epoch  14 / 20  -  train_rmse: 0.9172615435062336\n",
      "Epoch  15 / 20  -  train_rmse: 0.9169118664096015\n",
      "Epoch  16 / 20  -  train_rmse: 0.916762599540885\n",
      "Epoch  17 / 20  -  train_rmse: 0.9165916401686293\n",
      "Epoch  18 / 20  -  train_rmse: 0.9164009881488299\n",
      "Epoch  19 / 20  -  train_rmse: 0.9161039428103391\n",
      "Epoch  20 / 20  -  train_rmse: 0.9160441667784996\n",
      "\n",
      "Test RMSE: 0.9298\n",
      "Wall time: 3.25 s\n"
     ]
    }
   ],
   "source": [
    "%%time\n",
    "\n",
    "baseline_model = BaselineModel(method='sgd', n_epochs = 20, reg = 0.005, lr = 0.01, verbose=1)\n",
    "baseline_model.fit(X_train, y_train)\n",
    "\n",
    "pred = baseline_model.predict(X_test)\n",
    "rmse = mean_squared_error(y_test, pred, squared = False)\n",
    "\n",
    "print(f'\\nTest RMSE: {rmse:.4f}')"
   ]
  },
  {
   "cell_type": "code",
   "execution_count": 5,
   "metadata": {},
   "outputs": [
    {
     "data": {
      "text/html": [
       "<div>\n",
       "<style scoped>\n",
       "    .dataframe tbody tr th:only-of-type {\n",
       "        vertical-align: middle;\n",
       "    }\n",
       "\n",
       "    .dataframe tbody tr th {\n",
       "        vertical-align: top;\n",
       "    }\n",
       "\n",
       "    .dataframe thead th {\n",
       "        text-align: right;\n",
       "    }\n",
       "</style>\n",
       "<table border=\"1\" class=\"dataframe\">\n",
       "  <thead>\n",
       "    <tr style=\"text-align: right;\">\n",
       "      <th></th>\n",
       "      <th>user_id</th>\n",
       "      <th>item_id</th>\n",
       "      <th>rating_pred</th>\n",
       "    </tr>\n",
       "  </thead>\n",
       "  <tbody>\n",
       "    <tr>\n",
       "      <th>378</th>\n",
       "      <td>200</td>\n",
       "      <td>318</td>\n",
       "      <td>5.0</td>\n",
       "    </tr>\n",
       "    <tr>\n",
       "      <th>457</th>\n",
       "      <td>200</td>\n",
       "      <td>357</td>\n",
       "      <td>5.0</td>\n",
       "    </tr>\n",
       "    <tr>\n",
       "      <th>388</th>\n",
       "      <td>200</td>\n",
       "      <td>408</td>\n",
       "      <td>5.0</td>\n",
       "    </tr>\n",
       "    <tr>\n",
       "      <th>988</th>\n",
       "      <td>200</td>\n",
       "      <td>1449</td>\n",
       "      <td>5.0</td>\n",
       "    </tr>\n",
       "    <tr>\n",
       "      <th>281</th>\n",
       "      <td>200</td>\n",
       "      <td>483</td>\n",
       "      <td>5.0</td>\n",
       "    </tr>\n",
       "    <tr>\n",
       "      <th>790</th>\n",
       "      <td>200</td>\n",
       "      <td>114</td>\n",
       "      <td>5.0</td>\n",
       "    </tr>\n",
       "    <tr>\n",
       "      <th>109</th>\n",
       "      <td>200</td>\n",
       "      <td>127</td>\n",
       "      <td>5.0</td>\n",
       "    </tr>\n",
       "    <tr>\n",
       "      <th>562</th>\n",
       "      <td>200</td>\n",
       "      <td>12</td>\n",
       "      <td>5.0</td>\n",
       "    </tr>\n",
       "    <tr>\n",
       "      <th>212</th>\n",
       "      <td>200</td>\n",
       "      <td>169</td>\n",
       "      <td>5.0</td>\n",
       "    </tr>\n",
       "    <tr>\n",
       "      <th>54</th>\n",
       "      <td>200</td>\n",
       "      <td>603</td>\n",
       "      <td>5.0</td>\n",
       "    </tr>\n",
       "  </tbody>\n",
       "</table>\n",
       "</div>"
      ],
      "text/plain": [
       "     user_id  item_id  rating_pred\n",
       "378      200      318          5.0\n",
       "457      200      357          5.0\n",
       "388      200      408          5.0\n",
       "988      200     1449          5.0\n",
       "281      200      483          5.0\n",
       "790      200      114          5.0\n",
       "109      200      127          5.0\n",
       "562      200       12          5.0\n",
       "212      200      169          5.0\n",
       "54       200      603          5.0"
      ]
     },
     "execution_count": 5,
     "metadata": {},
     "output_type": "execute_result"
    }
   ],
   "source": [
    "baseline_model.recommend(user=200)"
   ]
  },
  {
   "cell_type": "markdown",
   "metadata": {},
   "source": [
    "## ALS"
   ]
  },
  {
   "cell_type": "code",
   "execution_count": 6,
   "metadata": {},
   "outputs": [
    {
     "name": "stdout",
     "output_type": "stream",
     "text": [
      "Epoch  1 / 20  -  train_rmse: 0.9312489364350157\n",
      "Epoch  2 / 20  -  train_rmse: 0.9144875214764501\n",
      "Epoch  3 / 20  -  train_rmse: 0.9134856911195807\n",
      "Epoch  4 / 20  -  train_rmse: 0.9133800448918423\n",
      "Epoch  5 / 20  -  train_rmse: 0.9133615794862777\n",
      "Epoch  6 / 20  -  train_rmse: 0.9133565857003941\n",
      "Epoch  7 / 20  -  train_rmse: 0.9133544601244424\n",
      "Epoch  8 / 20  -  train_rmse: 0.9133531004630441\n",
      "Epoch  9 / 20  -  train_rmse: 0.9133519902067218\n",
      "Epoch  10 / 20  -  train_rmse: 0.9133509792033206\n",
      "Epoch  11 / 20  -  train_rmse: 0.9133500175542733\n",
      "Epoch  12 / 20  -  train_rmse: 0.9133490869495551\n",
      "Epoch  13 / 20  -  train_rmse: 0.9133481801287349\n",
      "Epoch  14 / 20  -  train_rmse: 0.9133472939684136\n",
      "Epoch  15 / 20  -  train_rmse: 0.9133464269599311\n",
      "Epoch  16 / 20  -  train_rmse: 0.9133455782426871\n",
      "Epoch  17 / 20  -  train_rmse: 0.9133447472230197\n",
      "Epoch  18 / 20  -  train_rmse: 0.9133439334215674\n",
      "Epoch  19 / 20  -  train_rmse: 0.9133431364114416\n",
      "Epoch  20 / 20  -  train_rmse: 0.9133423557930989\n",
      "\n",
      "Test RMSE: 0.9294\n",
      "Wall time: 1.17 s\n"
     ]
    }
   ],
   "source": [
    "%%time\n",
    "\n",
    "baseline_model = BaselineModel(method='als', n_epochs = 20, reg = 0.5, verbose=1)\n",
    "baseline_model.fit(X_train, y_train)\n",
    "\n",
    "pred = baseline_model.predict(X_test)\n",
    "rmse = mean_squared_error(y_test, pred, squared = False)\n",
    "\n",
    "print(f'\\nTest RMSE: {rmse:.4f}')"
   ]
  },
  {
   "cell_type": "markdown",
   "metadata": {},
   "source": [
    "## Updating with new users"
   ]
  },
  {
   "cell_type": "code",
   "execution_count": 7,
   "metadata": {
    "tags": []
   },
   "outputs": [
    {
     "name": "stdout",
     "output_type": "stream",
     "text": [
      "Epoch  1 / 20  -  train_rmse: 0.9650236406922229\n",
      "Epoch  2 / 20  -  train_rmse: 0.9428226226596799\n",
      "Epoch  3 / 20  -  train_rmse: 0.9331705124882925\n",
      "Epoch  4 / 20  -  train_rmse: 0.9279749973416741\n",
      "Epoch  5 / 20  -  train_rmse: 0.9247974571263335\n",
      "Epoch  6 / 20  -  train_rmse: 0.9226517575035114\n",
      "Epoch  7 / 20  -  train_rmse: 0.920835039334346\n",
      "Epoch  8 / 20  -  train_rmse: 0.9197367786245378\n",
      "Epoch  9 / 20  -  train_rmse: 0.9189681287833118\n",
      "Epoch  10 / 20  -  train_rmse: 0.9181493468113285\n",
      "Epoch  11 / 20  -  train_rmse: 0.9177119438426637\n",
      "Epoch  12 / 20  -  train_rmse: 0.9172589415232193\n",
      "Epoch  13 / 20  -  train_rmse: 0.9168827001131301\n",
      "Epoch  14 / 20  -  train_rmse: 0.9164445680503323\n",
      "Epoch  15 / 20  -  train_rmse: 0.9164404466859075\n",
      "Epoch  16 / 20  -  train_rmse: 0.9160093360322635\n",
      "Epoch  17 / 20  -  train_rmse: 0.9158025569643043\n",
      "Epoch  18 / 20  -  train_rmse: 0.9157375955425434\n",
      "Epoch  19 / 20  -  train_rmse: 0.9156845197413601\n",
      "Epoch  20 / 20  -  train_rmse: 0.9153536272183195\n"
     ]
    },
    {
     "data": {
      "text/plain": [
       "BaselineModel(n_epochs=20, reg=0.05)"
      ]
     },
     "execution_count": 7,
     "metadata": {},
     "output_type": "execute_result"
    }
   ],
   "source": [
    "baseline_model = BaselineModel(method='sgd', n_epochs = 20, lr=0.01, reg = 0.05, verbose=1)\n",
    "baseline_model.fit(X_train_initial, y_train_initial)"
   ]
  },
  {
   "cell_type": "code",
   "execution_count": 8,
   "metadata": {
    "tags": []
   },
   "outputs": [
    {
     "name": "stdout",
     "output_type": "stream",
     "text": [
      "Epoch  1 / 20  -  train_rmse: 1.0192369838658015\n",
      "Epoch  2 / 20  -  train_rmse: 1.0025765882013635\n",
      "Epoch  3 / 20  -  train_rmse: 0.9901259692095271\n",
      "Epoch  4 / 20  -  train_rmse: 0.9807144030582827\n",
      "Epoch  5 / 20  -  train_rmse: 0.9734408997442995\n",
      "Epoch  6 / 20  -  train_rmse: 0.9677156773644434\n",
      "Epoch  7 / 20  -  train_rmse: 0.9631030982793267\n",
      "Epoch  8 / 20  -  train_rmse: 0.9593444020925831\n",
      "Epoch  9 / 20  -  train_rmse: 0.9562283345776661\n",
      "Epoch  10 / 20  -  train_rmse: 0.9536075629675317\n",
      "Epoch  11 / 20  -  train_rmse: 0.9513672180603409\n",
      "Epoch  12 / 20  -  train_rmse: 0.9494208315066158\n",
      "Epoch  13 / 20  -  train_rmse: 0.9477253749191763\n",
      "Epoch  14 / 20  -  train_rmse: 0.946229927618241\n",
      "Epoch  15 / 20  -  train_rmse: 0.9449080911468511\n",
      "Epoch  16 / 20  -  train_rmse: 0.943720843305453\n",
      "Epoch  17 / 20  -  train_rmse: 0.9426516413656599\n",
      "Epoch  18 / 20  -  train_rmse: 0.9416762680286268\n",
      "Epoch  19 / 20  -  train_rmse: 0.9407955983703769\n",
      "Epoch  20 / 20  -  train_rmse: 0.9399846956755161\n",
      "\n",
      "Test RMSE: 0.9484\n",
      "Wall time: 965 ms\n"
     ]
    }
   ],
   "source": [
    "%%time\n",
    "baseline_model.update_users(X_train_update, y_train_update, n_epochs=20, lr=0.001, verbose=1)\n",
    "pred = baseline_model.predict(X_test_update)\n",
    "rmse = mean_squared_error(y_test_update, pred, squared = False)\n",
    "\n",
    "print(f'\\nTest RMSE: {rmse:.4f}')"
   ]
  },
  {
   "cell_type": "markdown",
   "metadata": {},
   "source": [
    "# Matrix Factorization"
   ]
  },
  {
   "cell_type": "markdown",
   "metadata": {},
   "source": [
    "## Linear Kernel"
   ]
  },
  {
   "cell_type": "code",
   "execution_count": 9,
   "metadata": {},
   "outputs": [
    {
     "name": "stdout",
     "output_type": "stream",
     "text": [
      "Epoch  1 / 20  -  train_rmse: 1.0801330309911932\n",
      "Epoch  2 / 20  -  train_rmse: 1.0473476509450943\n",
      "Epoch  3 / 20  -  train_rmse: 1.0244646832888804\n",
      "Epoch  4 / 20  -  train_rmse: 1.0074920647400105\n",
      "Epoch  5 / 20  -  train_rmse: 0.994246835724601\n",
      "Epoch  6 / 20  -  train_rmse: 0.9835051043916838\n",
      "Epoch  7 / 20  -  train_rmse: 0.9745225390156432\n",
      "Epoch  8 / 20  -  train_rmse: 0.9668223717422572\n",
      "Epoch  9 / 20  -  train_rmse: 0.9600683414209181\n",
      "Epoch  10 / 20  -  train_rmse: 0.9540555205061302\n",
      "Epoch  11 / 20  -  train_rmse: 0.9486137679667849\n",
      "Epoch  12 / 20  -  train_rmse: 0.9436380921221055\n",
      "Epoch  13 / 20  -  train_rmse: 0.9390299858326666\n",
      "Epoch  14 / 20  -  train_rmse: 0.9347250023203936\n",
      "Epoch  15 / 20  -  train_rmse: 0.9306721252709302\n",
      "Epoch  16 / 20  -  train_rmse: 0.9268329678953544\n",
      "Epoch  17 / 20  -  train_rmse: 0.9231713443339361\n",
      "Epoch  18 / 20  -  train_rmse: 0.919660317751421\n",
      "Epoch  19 / 20  -  train_rmse: 0.9162775396770947\n",
      "Epoch  20 / 20  -  train_rmse: 0.9130048063578868\n",
      "\n",
      "Test RMSE: 0.9534\n",
      "Wall time: 15.7 s\n"
     ]
    }
   ],
   "source": [
    "%%time \n",
    "matrix_fact = KernelMF(n_epochs = 20, n_factors = 100, verbose = 1, lr = 0.001, reg = 0.005)\n",
    "matrix_fact.fit(X_train, y_train)\n",
    "\n",
    "pred = matrix_fact.predict(X_test)\n",
    "rmse = mean_squared_error(y_test, pred, squared = False)\n",
    "\n",
    "print(f'\\nTest RMSE: {rmse:.4f}')"
   ]
  },
  {
   "cell_type": "markdown",
   "metadata": {},
   "source": [
    "## Getting list of recommendations for a user"
   ]
  },
  {
   "cell_type": "code",
   "execution_count": 10,
   "metadata": {},
   "outputs": [
    {
     "data": {
      "text/html": [
       "<div>\n",
       "<style scoped>\n",
       "    .dataframe tbody tr th:only-of-type {\n",
       "        vertical-align: middle;\n",
       "    }\n",
       "\n",
       "    .dataframe tbody tr th {\n",
       "        vertical-align: top;\n",
       "    }\n",
       "\n",
       "    .dataframe thead th {\n",
       "        text-align: right;\n",
       "    }\n",
       "</style>\n",
       "<table border=\"1\" class=\"dataframe\">\n",
       "  <thead>\n",
       "    <tr style=\"text-align: right;\">\n",
       "      <th></th>\n",
       "      <th>user_id</th>\n",
       "      <th>item_id</th>\n",
       "      <th>rating_pred</th>\n",
       "    </tr>\n",
       "  </thead>\n",
       "  <tbody>\n",
       "    <tr>\n",
       "      <th>37</th>\n",
       "      <td>200</td>\n",
       "      <td>64</td>\n",
       "      <td>5.000000</td>\n",
       "    </tr>\n",
       "    <tr>\n",
       "      <th>242</th>\n",
       "      <td>200</td>\n",
       "      <td>357</td>\n",
       "      <td>4.953382</td>\n",
       "    </tr>\n",
       "    <tr>\n",
       "      <th>11</th>\n",
       "      <td>200</td>\n",
       "      <td>127</td>\n",
       "      <td>4.914760</td>\n",
       "    </tr>\n",
       "    <tr>\n",
       "      <th>61</th>\n",
       "      <td>200</td>\n",
       "      <td>272</td>\n",
       "      <td>4.904249</td>\n",
       "    </tr>\n",
       "    <tr>\n",
       "      <th>710</th>\n",
       "      <td>200</td>\n",
       "      <td>479</td>\n",
       "      <td>4.837060</td>\n",
       "    </tr>\n",
       "    <tr>\n",
       "      <th>395</th>\n",
       "      <td>200</td>\n",
       "      <td>480</td>\n",
       "      <td>4.836522</td>\n",
       "    </tr>\n",
       "    <tr>\n",
       "      <th>275</th>\n",
       "      <td>200</td>\n",
       "      <td>12</td>\n",
       "      <td>4.816657</td>\n",
       "    </tr>\n",
       "    <tr>\n",
       "      <th>655</th>\n",
       "      <td>200</td>\n",
       "      <td>427</td>\n",
       "      <td>4.808555</td>\n",
       "    </tr>\n",
       "    <tr>\n",
       "      <th>55</th>\n",
       "      <td>200</td>\n",
       "      <td>511</td>\n",
       "      <td>4.804192</td>\n",
       "    </tr>\n",
       "    <tr>\n",
       "      <th>144</th>\n",
       "      <td>200</td>\n",
       "      <td>285</td>\n",
       "      <td>4.797472</td>\n",
       "    </tr>\n",
       "  </tbody>\n",
       "</table>\n",
       "</div>"
      ],
      "text/plain": [
       "     user_id  item_id  rating_pred\n",
       "37       200       64     5.000000\n",
       "242      200      357     4.953382\n",
       "11       200      127     4.914760\n",
       "61       200      272     4.904249\n",
       "710      200      479     4.837060\n",
       "395      200      480     4.836522\n",
       "275      200       12     4.816657\n",
       "655      200      427     4.808555\n",
       "55       200      511     4.804192\n",
       "144      200      285     4.797472"
      ]
     },
     "execution_count": 10,
     "metadata": {},
     "output_type": "execute_result"
    }
   ],
   "source": [
    "user = 200\n",
    "items_known = X_train.query('user_id == @user')['item_id']\n",
    "matrix_fact.recommend(user=user, items_known=items_known)"
   ]
  },
  {
   "cell_type": "markdown",
   "metadata": {},
   "source": [
    "## Updating with new users"
   ]
  },
  {
   "cell_type": "code",
   "execution_count": 11,
   "metadata": {},
   "outputs": [
    {
     "name": "stdout",
     "output_type": "stream",
     "text": [
      "Epoch  1 / 20  -  train_rmse: 1.0706518319392073\n",
      "Epoch  2 / 20  -  train_rmse: 1.0382624779438394\n",
      "Epoch  3 / 20  -  train_rmse: 1.016232308328001\n",
      "Epoch  4 / 20  -  train_rmse: 0.9999366805279928\n",
      "Epoch  5 / 20  -  train_rmse: 0.9872308367922817\n",
      "Epoch  6 / 20  -  train_rmse: 0.9769357406601346\n",
      "Epoch  7 / 20  -  train_rmse: 0.9683129631342807\n",
      "Epoch  8 / 20  -  train_rmse: 0.9609022720622064\n",
      "Epoch  9 / 20  -  train_rmse: 0.9543972792347011\n",
      "Epoch  10 / 20  -  train_rmse: 0.9485809462916166\n",
      "Epoch  11 / 20  -  train_rmse: 0.9433059630075376\n",
      "Epoch  12 / 20  -  train_rmse: 0.9384619306949283\n",
      "Epoch  13 / 20  -  train_rmse: 0.9339642725110164\n",
      "Epoch  14 / 20  -  train_rmse: 0.9297503741854064\n",
      "Epoch  15 / 20  -  train_rmse: 0.9257711482478324\n",
      "Epoch  16 / 20  -  train_rmse: 0.921985910287917\n",
      "Epoch  17 / 20  -  train_rmse: 0.9183647974387779\n",
      "Epoch  18 / 20  -  train_rmse: 0.9148839852245906\n",
      "Epoch  19 / 20  -  train_rmse: 0.9115179356050906\n",
      "Epoch  20 / 20  -  train_rmse: 0.9082510051903396\n"
     ]
    },
    {
     "data": {
      "text/plain": [
       "KernelMF(gamma=0.01, lr=0.001, n_epochs=20, reg=0.005)"
      ]
     },
     "execution_count": 11,
     "metadata": {},
     "output_type": "execute_result"
    }
   ],
   "source": [
    "matrix_fact = KernelMF(n_epochs = 20, n_factors = 100, verbose = 1, lr = 0.001, reg = 0.005)\n",
    "matrix_fact.fit(X_train_initial, y_train_initial)"
   ]
  },
  {
   "cell_type": "code",
   "execution_count": 12,
   "metadata": {},
   "outputs": [
    {
     "name": "stdout",
     "output_type": "stream",
     "text": [
      "Epoch  1 / 20  -  train_rmse: 1.0397682004761137\n",
      "Epoch  2 / 20  -  train_rmse: 1.0204525249402976\n",
      "Epoch  3 / 20  -  train_rmse: 1.0058106710178145\n",
      "Epoch  4 / 20  -  train_rmse: 0.9945551189184298\n",
      "Epoch  5 / 20  -  train_rmse: 0.9856789782783212\n",
      "Epoch  6 / 20  -  train_rmse: 0.9785788434701258\n",
      "Epoch  7 / 20  -  train_rmse: 0.9727422998246427\n",
      "Epoch  8 / 20  -  train_rmse: 0.9678438078577599\n",
      "Epoch  9 / 20  -  train_rmse: 0.9636632891501984\n",
      "Epoch  10 / 20  -  train_rmse: 0.9600308660297464\n",
      "Epoch  11 / 20  -  train_rmse: 0.9568136464702428\n",
      "Epoch  12 / 20  -  train_rmse: 0.9539161652784045\n",
      "Epoch  13 / 20  -  train_rmse: 0.9512904364030054\n",
      "Epoch  14 / 20  -  train_rmse: 0.9488745417666238\n",
      "Epoch  15 / 20  -  train_rmse: 0.9466285136632905\n",
      "Epoch  16 / 20  -  train_rmse: 0.94452616338993\n",
      "Epoch  17 / 20  -  train_rmse: 0.9425492611358841\n",
      "Epoch  18 / 20  -  train_rmse: 0.9406751136767649\n",
      "Epoch  19 / 20  -  train_rmse: 0.9388943623139107\n",
      "Epoch  20 / 20  -  train_rmse: 0.9371880494897803\n",
      "\n",
      "Test RMSE: 0.9677\n",
      "Wall time: 2.01 s\n"
     ]
    }
   ],
   "source": [
    "%%time\n",
    "# Update model with new users\n",
    "matrix_fact.update_users(X_train_update, y_train_update, lr=0.001, n_epochs=20, verbose=1)\n",
    "pred = matrix_fact.predict(X_test_update)\n",
    "rmse = mean_squared_error(y_test_update, pred, squared = False)\n",
    "\n",
    "print(f'\\nTest RMSE: {rmse:.4f}')"
   ]
  },
  {
   "cell_type": "markdown",
   "metadata": {},
   "source": [
    "## Sigmoid kernel"
   ]
  },
  {
   "cell_type": "code",
   "execution_count": 13,
   "metadata": {},
   "outputs": [
    {
     "name": "stdout",
     "output_type": "stream",
     "text": [
      "Epoch  1 / 20  -  train_rmse: 1.7254842363611376\n",
      "Epoch  2 / 20  -  train_rmse: 1.700347578847924\n",
      "Epoch  3 / 20  -  train_rmse: 1.6622359141199023\n",
      "Epoch  4 / 20  -  train_rmse: 1.6210456578773018\n",
      "Epoch  5 / 20  -  train_rmse: 1.5756597449133936\n",
      "Epoch  6 / 20  -  train_rmse: 1.523379818791774\n",
      "Epoch  7 / 20  -  train_rmse: 1.4657317754887915\n",
      "Epoch  8 / 20  -  train_rmse: 1.4093479432787581\n",
      "Epoch  9 / 20  -  train_rmse: 1.358332738938575\n",
      "Epoch  10 / 20  -  train_rmse: 1.3133318818212163\n",
      "Epoch  11 / 20  -  train_rmse: 1.2739396811494321\n",
      "Epoch  12 / 20  -  train_rmse: 1.2393300382279362\n",
      "Epoch  13 / 20  -  train_rmse: 1.2087120677746743\n",
      "Epoch  14 / 20  -  train_rmse: 1.181458675550588\n",
      "Epoch  15 / 20  -  train_rmse: 1.1570300259298787\n",
      "Epoch  16 / 20  -  train_rmse: 1.1349358601708097\n",
      "Epoch  17 / 20  -  train_rmse: 1.114946996505043\n",
      "Epoch  18 / 20  -  train_rmse: 1.0966573702646067\n",
      "Epoch  19 / 20  -  train_rmse: 1.079843880247601\n",
      "Epoch  20 / 20  -  train_rmse: 1.0642701656384883\n",
      "\n",
      "Test RMSE: 1.1110\n",
      "Wall time: 1.77 s\n"
     ]
    }
   ],
   "source": [
    "%%time \n",
    "matrix_fact = KernelMF(n_epochs = 20, n_factors = 100, verbose = 1, lr = 0.01, reg = 0.005, kernel='sigmoid')\n",
    "matrix_fact.fit(X_train, y_train)\n",
    "\n",
    "pred = matrix_fact.predict(X_test)\n",
    "rmse = mean_squared_error(y_test, pred, squared = False)\n",
    "\n",
    "print(f'\\nTest RMSE: {rmse:.4f}')"
   ]
  },
  {
   "cell_type": "markdown",
   "metadata": {},
   "source": [
    "## RBF Kernel"
   ]
  },
  {
   "cell_type": "code",
   "execution_count": 14,
   "metadata": {},
   "outputs": [
    {
     "name": "stdout",
     "output_type": "stream",
     "text": [
      "Epoch  1 / 20  -  train_rmse: 1.261497709751721\n",
      "Epoch  2 / 20  -  train_rmse: 1.1098240081612984\n",
      "Epoch  3 / 20  -  train_rmse: 1.0469994987862579\n",
      "Epoch  4 / 20  -  train_rmse: 1.005181914551291\n",
      "Epoch  5 / 20  -  train_rmse: 0.9752579187861348\n",
      "Epoch  6 / 20  -  train_rmse: 0.9515686603321364\n",
      "Epoch  7 / 20  -  train_rmse: 0.9340638617221303\n",
      "Epoch  8 / 20  -  train_rmse: 0.9213238773972364\n",
      "Epoch  9 / 20  -  train_rmse: 0.9115143003092134\n",
      "Epoch  10 / 20  -  train_rmse: 0.9039437993331968\n",
      "Epoch  11 / 20  -  train_rmse: 0.899792715730062\n",
      "Epoch  12 / 20  -  train_rmse: 0.8949836709174682\n",
      "Epoch  13 / 20  -  train_rmse: 0.8934174679325033\n",
      "Epoch  14 / 20  -  train_rmse: 0.8897947618902249\n",
      "Epoch  15 / 20  -  train_rmse: 0.8861334672817339\n",
      "Epoch  16 / 20  -  train_rmse: 0.8850958002049469\n",
      "Epoch  17 / 20  -  train_rmse: 0.883513182070616\n",
      "Epoch  18 / 20  -  train_rmse: 0.8818590959179743\n",
      "Epoch  19 / 20  -  train_rmse: 0.8817834058789318\n",
      "Epoch  20 / 20  -  train_rmse: 0.8826416261286896\n",
      "\n",
      "Test RMSE: 0.9696\n",
      "Wall time: 3.55 s\n"
     ]
    }
   ],
   "source": [
    "%%time \n",
    "matrix_fact = KernelMF(n_epochs = 20, n_factors = 100, verbose = 1, lr = 0.5, reg = 0.005, kernel='rbf')\n",
    "matrix_fact.fit(X_train, y_train)\n",
    "\n",
    "pred = matrix_fact.predict(X_test)\n",
    "rmse = mean_squared_error(y_test, pred, squared = False)\n",
    "\n",
    "print(f'\\nTest RMSE: {rmse:.4f}')"
   ]
  },
  {
   "cell_type": "markdown",
   "metadata": {},
   "source": [
    "# Scikit-learn compatability"
   ]
  },
  {
   "cell_type": "code",
   "execution_count": 15,
   "metadata": {},
   "outputs": [
    {
     "name": "stdout",
     "output_type": "stream",
     "text": [
      "Fitting 5 folds for each of 81 candidates, totalling 405 fits\n"
     ]
    },
    {
     "name": "stderr",
     "output_type": "stream",
     "text": [
      "[Parallel(n_jobs=-1)]: Using backend LokyBackend with 4 concurrent workers.\n",
      "[Parallel(n_jobs=-1)]: Done  42 tasks      | elapsed:   36.8s\n",
      "[Parallel(n_jobs=-1)]: Done 192 tasks      | elapsed:  1.5min\n",
      "[Parallel(n_jobs=-1)]: Done 405 out of 405 | elapsed:  3.4min finished\n"
     ]
    },
    {
     "data": {
      "text/plain": [
       "GridSearchCV(cv=5, estimator=KernelMF(gamma=0.01, verbose=0), n_jobs=-1,\n",
       "             param_grid={'kernel': ['linear', 'sigmoid', 'rbf'],\n",
       "                         'n_epochs': [10, 20, 50], 'n_factors': [10, 20, 50],\n",
       "                         'reg': [0, 0.005, 0.1]},\n",
       "             scoring='neg_root_mean_squared_error', verbose=1)"
      ]
     },
     "execution_count": 15,
     "metadata": {},
     "output_type": "execute_result"
    }
   ],
   "source": [
    "from sklearn.model_selection import GridSearchCV, ParameterGrid\n",
    "\n",
    "param_grid = {\n",
    "    'kernel': ['linear', 'sigmoid', 'rbf'],\n",
    "    'n_factors': [10, 20, 50],\n",
    "    'n_epochs': [10, 20, 50],\n",
    "    'reg': [0, 0.005, 0.1]\n",
    "}\n",
    "\n",
    "grid_search = GridSearchCV(KernelMF(verbose=0), scoring = 'neg_root_mean_squared_error', param_grid=param_grid, n_jobs=-1, cv=5, verbose=1)\n",
    "grid_search.fit(X_train, y_train)"
   ]
  },
  {
   "cell_type": "code",
   "execution_count": 16,
   "metadata": {},
   "outputs": [
    {
     "data": {
      "text/plain": [
       "-0.9252872735695155"
      ]
     },
     "execution_count": 16,
     "metadata": {},
     "output_type": "execute_result"
    },
    {
     "data": {
      "text/plain": [
       "{'kernel': 'linear', 'n_epochs': 50, 'n_factors': 50, 'reg': 0.1}"
      ]
     },
     "execution_count": 16,
     "metadata": {},
     "output_type": "execute_result"
    }
   ],
   "source": [
    "grid_search.best_score_\n",
    "grid_search.best_params_"
   ]
  }
 ],
 "metadata": {
  "kernelspec": {
   "display_name": "Python [conda env:recommend]",
   "language": "python",
   "name": "conda-env-recommend-py"
  },
  "language_info": {
   "codemirror_mode": {
    "name": "ipython",
    "version": 3
   },
   "file_extension": ".py",
   "mimetype": "text/x-python",
   "name": "python",
   "nbconvert_exporter": "python",
   "pygments_lexer": "ipython3",
   "version": "3.7.7"
  },
  "toc-autonumbering": true,
  "toc-showcode": false,
  "toc-showmarkdowntxt": false,
  "toc-showtags": false
 },
 "nbformat": 4,
 "nbformat_minor": 4
}
