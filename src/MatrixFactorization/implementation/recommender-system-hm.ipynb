{
 "cells": [
  {
   "cell_type": "code",
   "execution_count": 70,
   "metadata": {
    "tags": []
   },
   "outputs": [
    {
     "name": "stdout",
     "output_type": "stream",
     "text": [
      "The autoreload extension is already loaded. To reload it, use:\n",
      "  %reload_ext autoreload\n"
     ]
    }
   ],
   "source": [
    "# Data manipulation\n",
    "import numpy as np\n",
    "import pandas as pd\n",
    "pd.options.display.max_rows = 100\n",
    "\n",
    "# Modeling\n",
    "from matrix_factorization import BaselineModel, KernelMF, train_update_test_split\n",
    "from sklearn.metrics import mean_squared_error\n",
    "from sklearn.model_selection import train_test_split\n",
    "\n",
    "# Other\n",
    "import os\n",
    "import random\n",
    "import sys\n",
    "\n",
    "# Reload imported code \n",
    "%load_ext autoreload\n",
    "%autoreload 2\n",
    "\n",
    "# Print all output\n",
    "from IPython.core.interactiveshell import InteractiveShell\n",
    "InteractiveShell.ast_node_interactivity = \"all\"\n",
    "    \n",
    "rand_seed = 2\n",
    "np.random.seed(rand_seed)\n",
    "random.seed(rand_seed)"
   ]
  },
  {
   "cell_type": "markdown",
   "metadata": {},
   "source": [
    "# Load data"
   ]
  },
  {
   "cell_type": "code",
   "execution_count": 80,
   "metadata": {},
   "outputs": [
    {
     "data": {
      "text/html": [
       "<div>\n",
       "<style scoped>\n",
       "    .dataframe tbody tr th:only-of-type {\n",
       "        vertical-align: middle;\n",
       "    }\n",
       "\n",
       "    .dataframe tbody tr th {\n",
       "        vertical-align: top;\n",
       "    }\n",
       "\n",
       "    .dataframe thead th {\n",
       "        text-align: right;\n",
       "    }\n",
       "</style>\n",
       "<table border=\"1\" class=\"dataframe\">\n",
       "  <thead>\n",
       "    <tr style=\"text-align: right;\">\n",
       "      <th></th>\n",
       "      <th>user_id</th>\n",
       "      <th>item_id</th>\n",
       "      <th>rating</th>\n",
       "      <th>category</th>\n",
       "      <th>color</th>\n",
       "    </tr>\n",
       "  </thead>\n",
       "  <tbody>\n",
       "    <tr>\n",
       "      <th>0</th>\n",
       "      <td>20221474</td>\n",
       "      <td>108775015</td>\n",
       "      <td>5</td>\n",
       "      <td>Vest top</td>\n",
       "      <td>Black</td>\n",
       "    </tr>\n",
       "    <tr>\n",
       "      <th>1</th>\n",
       "      <td>20221756</td>\n",
       "      <td>108775044</td>\n",
       "      <td>4</td>\n",
       "      <td>Vest top</td>\n",
       "      <td>White</td>\n",
       "    </tr>\n",
       "    <tr>\n",
       "      <th>2</th>\n",
       "      <td>20221715</td>\n",
       "      <td>108775051</td>\n",
       "      <td>4</td>\n",
       "      <td>Vest top</td>\n",
       "      <td>White</td>\n",
       "    </tr>\n",
       "    <tr>\n",
       "      <th>3</th>\n",
       "      <td>20221931</td>\n",
       "      <td>110065001</td>\n",
       "      <td>4</td>\n",
       "      <td>Bra</td>\n",
       "      <td>Black</td>\n",
       "    </tr>\n",
       "    <tr>\n",
       "      <th>4</th>\n",
       "      <td>20221219</td>\n",
       "      <td>110065002</td>\n",
       "      <td>1</td>\n",
       "      <td>Bra</td>\n",
       "      <td>White</td>\n",
       "    </tr>\n",
       "    <tr>\n",
       "      <th>5</th>\n",
       "      <td>20221489</td>\n",
       "      <td>110065011</td>\n",
       "      <td>3</td>\n",
       "      <td>Bra</td>\n",
       "      <td>Beige</td>\n",
       "    </tr>\n",
       "    <tr>\n",
       "      <th>6</th>\n",
       "      <td>20221859</td>\n",
       "      <td>111565001</td>\n",
       "      <td>2</td>\n",
       "      <td>Underwear Tights</td>\n",
       "      <td>Black</td>\n",
       "    </tr>\n",
       "    <tr>\n",
       "      <th>7</th>\n",
       "      <td>20221416</td>\n",
       "      <td>111565003</td>\n",
       "      <td>2</td>\n",
       "      <td>Socks</td>\n",
       "      <td>Beige</td>\n",
       "    </tr>\n",
       "    <tr>\n",
       "      <th>8</th>\n",
       "      <td>20221705</td>\n",
       "      <td>111586001</td>\n",
       "      <td>4</td>\n",
       "      <td>Leggings/Tights</td>\n",
       "      <td>Black</td>\n",
       "    </tr>\n",
       "    <tr>\n",
       "      <th>9</th>\n",
       "      <td>20221813</td>\n",
       "      <td>111593001</td>\n",
       "      <td>4</td>\n",
       "      <td>Underwear Tights</td>\n",
       "      <td>Black</td>\n",
       "    </tr>\n",
       "  </tbody>\n",
       "</table>\n",
       "</div>"
      ],
      "text/plain": [
       "    user_id    item_id  rating          category  color\n",
       "0  20221474  108775015       5          Vest top  Black\n",
       "1  20221756  108775044       4          Vest top  White\n",
       "2  20221715  108775051       4          Vest top  White\n",
       "3  20221931  110065001       4               Bra  Black\n",
       "4  20221219  110065002       1               Bra  White\n",
       "5  20221489  110065011       3               Bra  Beige\n",
       "6  20221859  111565001       2  Underwear Tights  Black\n",
       "7  20221416  111565003       2             Socks  Beige\n",
       "8  20221705  111586001       4   Leggings/Tights  Black\n",
       "9  20221813  111593001       4  Underwear Tights  Black"
      ]
     },
     "execution_count": 80,
     "metadata": {},
     "output_type": "execute_result"
    }
   ],
   "source": [
    "from os import sep\n",
    "from pathlib import Path\n",
    "\n",
    "cols = ['user_id', 'item_id', 'rating', 'category','color']\n",
    "# movie_data = pd.read_csv('../data/ml-1m/ratings.dat', names = cols, sep = '::', usecols=[0, 1, 2], engine='python')\n",
    "def get_project_root() -> Path:\n",
    "    return Path(sys.path[5]).parent.parent.parent.parent\n",
    "\n",
    "# Data location\n",
    "ROOT_DIR = get_project_root()\n",
    "DATA_DIR = os.path.join(ROOT_DIR, 'GitHub/Recommender-System-for-AR-Glasses/data/articles.csv')\n",
    "\n",
    "articles_data = pd.read_csv(DATA_DIR, names = cols, sep=',', usecols=[0, 1, 2, 6, 15], engine='python')\n",
    "\n",
    "X = articles_data[['user_id', 'item_id']]\n",
    "y = articles_data['rating']\n",
    "\n",
    "# Prepare data\n",
    "X_train, X_test, y_train, y_test = train_test_split(X, y, test_size=0.2)\n",
    "\n",
    "# Prepare data for online learning\n",
    "X_train_initial, y_train_initial, X_train_update, y_train_update, X_test_update, y_test_update = train_update_test_split(articles_data, frac_new_users=0.2)\n",
    "\n",
    "articles_data.head(10)"
   ]
  },
  {
   "cell_type": "markdown",
   "metadata": {},
   "source": [
    "# Simple model with global mean"
   ]
  },
  {
   "cell_type": "markdown",
   "metadata": {},
   "source": [
    "This is similar to just the global standard deviation"
   ]
  },
  {
   "cell_type": "code",
   "execution_count": 81,
   "metadata": {
    "tags": []
   },
   "outputs": [
    {
     "name": "stdout",
     "output_type": "stream",
     "text": [
      "\n",
      "Test RMSE: 1.423924\n"
     ]
    }
   ],
   "source": [
    "global_mean = y_train.mean()\n",
    "pred = [global_mean for _ in range(y_test.shape[0])]\n",
    "\n",
    "rmse = mean_squared_error(y_test, pred, squared = False)\n",
    "\n",
    "print(f'\\nTest RMSE: {rmse:4f}')"
   ]
  },
  {
   "cell_type": "markdown",
   "metadata": {},
   "source": [
    "## SGD"
   ]
  },
  {
   "cell_type": "code",
   "execution_count": 82,
   "metadata": {},
   "outputs": [
    {
     "name": "stdout",
     "output_type": "stream",
     "text": [
      "Epoch  1 / 20  -  train_rmse: 1.3917176001731084\n",
      "Epoch  2 / 20  -  train_rmse: 1.3765741433761645\n",
      "Epoch  3 / 20  -  train_rmse: 1.3625070841745093\n",
      "Epoch  4 / 20  -  train_rmse: 1.3488047511707293\n",
      "Epoch  5 / 20  -  train_rmse: 1.3352652439761206\n",
      "Epoch  6 / 20  -  train_rmse: 1.3218372715311013\n",
      "Epoch  7 / 20  -  train_rmse: 1.308584731198995\n",
      "Epoch  8 / 20  -  train_rmse: 1.2954557704418903\n",
      "Epoch  9 / 20  -  train_rmse: 1.2824616179594772\n",
      "Epoch  10 / 20  -  train_rmse: 1.2695845153891694\n",
      "Epoch  11 / 20  -  train_rmse: 1.2568509508855892\n",
      "Epoch  12 / 20  -  train_rmse: 1.244235985660842\n",
      "Epoch  13 / 20  -  train_rmse: 1.2317455603018233\n",
      "Epoch  14 / 20  -  train_rmse: 1.2193974912510825\n",
      "Epoch  15 / 20  -  train_rmse: 1.2071664786520357\n",
      "Epoch  16 / 20  -  train_rmse: 1.195063596671153\n",
      "Epoch  17 / 20  -  train_rmse: 1.1830676115419185\n",
      "Epoch  18 / 20  -  train_rmse: 1.1711942559648247\n",
      "Epoch  19 / 20  -  train_rmse: 1.1594672018304757\n",
      "Epoch  20 / 20  -  train_rmse: 1.1478448067389277\n",
      "\n",
      "Test RMSE: 1.4329\n",
      "CPU times: user 745 ms, sys: 164 µs, total: 745 ms\n",
      "Wall time: 747 ms\n"
     ]
    }
   ],
   "source": [
    "%%time\n",
    "\n",
    "baseline_model = BaselineModel(method='sgd', n_epochs = 20, reg = 0.005, lr = 0.01, verbose=1)\n",
    "baseline_model.fit(X_train, y_train)\n",
    "\n",
    "pred = baseline_model.predict(X_test)\n",
    "rmse = mean_squared_error(y_test, pred, squared = False)\n",
    "\n",
    "print(f'\\nTest RMSE: {rmse:.4f}')"
   ]
  },
  {
   "cell_type": "code",
   "execution_count": 83,
   "metadata": {},
   "outputs": [
    {
     "data": {
      "text/html": [
       "<div>\n",
       "<style scoped>\n",
       "    .dataframe tbody tr th:only-of-type {\n",
       "        vertical-align: middle;\n",
       "    }\n",
       "\n",
       "    .dataframe tbody tr th {\n",
       "        vertical-align: top;\n",
       "    }\n",
       "\n",
       "    .dataframe thead th {\n",
       "        text-align: right;\n",
       "    }\n",
       "</style>\n",
       "<table border=\"1\" class=\"dataframe\">\n",
       "  <thead>\n",
       "    <tr style=\"text-align: right;\">\n",
       "      <th></th>\n",
       "      <th>user_id</th>\n",
       "      <th>item_id</th>\n",
       "      <th>rating_pred</th>\n",
       "    </tr>\n",
       "  </thead>\n",
       "  <tbody>\n",
       "    <tr>\n",
       "      <th>81968</th>\n",
       "      <td>20221000</td>\n",
       "      <td>880118006</td>\n",
       "      <td>3.594119</td>\n",
       "    </tr>\n",
       "    <tr>\n",
       "      <th>39831</th>\n",
       "      <td>20221000</td>\n",
       "      <td>593829004</td>\n",
       "      <td>3.593001</td>\n",
       "    </tr>\n",
       "    <tr>\n",
       "      <th>44568</th>\n",
       "      <td>20221000</td>\n",
       "      <td>751546003</td>\n",
       "      <td>3.592753</td>\n",
       "    </tr>\n",
       "    <tr>\n",
       "      <th>13625</th>\n",
       "      <td>20221000</td>\n",
       "      <td>834893001</td>\n",
       "      <td>3.592751</td>\n",
       "    </tr>\n",
       "    <tr>\n",
       "      <th>54389</th>\n",
       "      <td>20221000</td>\n",
       "      <td>948997001</td>\n",
       "      <td>3.592577</td>\n",
       "    </tr>\n",
       "    <tr>\n",
       "      <th>54228</th>\n",
       "      <td>20221000</td>\n",
       "      <td>880599002</td>\n",
       "      <td>3.592236</td>\n",
       "    </tr>\n",
       "    <tr>\n",
       "      <th>56532</th>\n",
       "      <td>20221000</td>\n",
       "      <td>717879017</td>\n",
       "      <td>3.592104</td>\n",
       "    </tr>\n",
       "    <tr>\n",
       "      <th>7874</th>\n",
       "      <td>20221000</td>\n",
       "      <td>856551005</td>\n",
       "      <td>3.591765</td>\n",
       "    </tr>\n",
       "    <tr>\n",
       "      <th>66171</th>\n",
       "      <td>20221000</td>\n",
       "      <td>902069001</td>\n",
       "      <td>3.591263</td>\n",
       "    </tr>\n",
       "    <tr>\n",
       "      <th>82420</th>\n",
       "      <td>20221000</td>\n",
       "      <td>825986001</td>\n",
       "      <td>3.591257</td>\n",
       "    </tr>\n",
       "  </tbody>\n",
       "</table>\n",
       "</div>"
      ],
      "text/plain": [
       "        user_id    item_id  rating_pred\n",
       "81968  20221000  880118006     3.594119\n",
       "39831  20221000  593829004     3.593001\n",
       "44568  20221000  751546003     3.592753\n",
       "13625  20221000  834893001     3.592751\n",
       "54389  20221000  948997001     3.592577\n",
       "54228  20221000  880599002     3.592236\n",
       "56532  20221000  717879017     3.592104\n",
       "7874   20221000  856551005     3.591765\n",
       "66171  20221000  902069001     3.591263\n",
       "82420  20221000  825986001     3.591257"
      ]
     },
     "execution_count": 83,
     "metadata": {},
     "output_type": "execute_result"
    }
   ],
   "source": [
    "baseline_model.recommend(user=20221000)"
   ]
  },
  {
   "cell_type": "markdown",
   "metadata": {},
   "source": [
    "## ALS"
   ]
  },
  {
   "cell_type": "code",
   "execution_count": 84,
   "metadata": {},
   "outputs": [
    {
     "name": "stdout",
     "output_type": "stream",
     "text": [
      "Epoch  1 / 20  -  train_rmse: 0.4680386271586314\n",
      "Epoch  2 / 20  -  train_rmse: 0.468038805196324\n",
      "Epoch  3 / 20  -  train_rmse: 0.46803897197540284\n",
      "Epoch  4 / 20  -  train_rmse: 0.4680391039145932\n",
      "Epoch  5 / 20  -  train_rmse: 0.4680392007475082\n",
      "Epoch  6 / 20  -  train_rmse: 0.4680392690408556\n",
      "Epoch  7 / 20  -  train_rmse: 0.4680393161063982\n",
      "Epoch  8 / 20  -  train_rmse: 0.468039348088808\n",
      "Epoch  9 / 20  -  train_rmse: 0.4680393696303135\n",
      "Epoch  10 / 20  -  train_rmse: 0.46803938405744383\n",
      "Epoch  11 / 20  -  train_rmse: 0.4680393936844379\n",
      "Epoch  12 / 20  -  train_rmse: 0.4680394000929458\n",
      "Epoch  13 / 20  -  train_rmse: 0.4680394043523275\n",
      "Epoch  14 / 20  -  train_rmse: 0.4680394071803224\n",
      "Epoch  15 / 20  -  train_rmse: 0.4680394090567067\n",
      "Epoch  16 / 20  -  train_rmse: 0.4680394103011187\n",
      "Epoch  17 / 20  -  train_rmse: 0.46803941112616104\n",
      "Epoch  18 / 20  -  train_rmse: 0.46803941167306384\n",
      "Epoch  19 / 20  -  train_rmse: 0.4680394120355338\n",
      "Epoch  20 / 20  -  train_rmse: 0.4680394122757578\n",
      "\n",
      "Test RMSE: 1.4327\n",
      "CPU times: user 239 ms, sys: 0 ns, total: 239 ms\n",
      "Wall time: 238 ms\n"
     ]
    }
   ],
   "source": [
    "%%time\n",
    "\n",
    "baseline_model = BaselineModel(method='als', n_epochs = 20, reg = 0.5, verbose=1)\n",
    "baseline_model.fit(X_train, y_train)\n",
    "\n",
    "pred = baseline_model.predict(X_test)\n",
    "rmse = mean_squared_error(y_test, pred, squared = False)\n",
    "\n",
    "print(f'\\nTest RMSE: {rmse:.4f}')"
   ]
  },
  {
   "cell_type": "markdown",
   "metadata": {},
   "source": [
    "# Matrix Factorization"
   ]
  },
  {
   "cell_type": "markdown",
   "metadata": {},
   "source": [
    "## Linear Kernel"
   ]
  },
  {
   "cell_type": "code",
   "execution_count": 85,
   "metadata": {},
   "outputs": [
    {
     "name": "stdout",
     "output_type": "stream",
     "text": [
      "Epoch  1 / 20  -  train_rmse: 1.4105634751311078\n",
      "Epoch  2 / 20  -  train_rmse: 1.405234183865558\n",
      "Epoch  3 / 20  -  train_rmse: 1.400102468083455\n",
      "Epoch  4 / 20  -  train_rmse: 1.3951402166229465\n",
      "Epoch  5 / 20  -  train_rmse: 1.3903178300930894\n",
      "Epoch  6 / 20  -  train_rmse: 1.385615275692687\n",
      "Epoch  7 / 20  -  train_rmse: 1.3810129462483451\n",
      "Epoch  8 / 20  -  train_rmse: 1.3764956821182521\n",
      "Epoch  9 / 20  -  train_rmse: 1.3720477490868785\n",
      "Epoch  10 / 20  -  train_rmse: 1.3676590924956045\n",
      "Epoch  11 / 20  -  train_rmse: 1.3633196478931153\n",
      "Epoch  12 / 20  -  train_rmse: 1.359019937920508\n",
      "Epoch  13 / 20  -  train_rmse: 1.354752692207398\n",
      "Epoch  14 / 20  -  train_rmse: 1.3505108398405956\n",
      "Epoch  15 / 20  -  train_rmse: 1.3462897298570455\n",
      "Epoch  16 / 20  -  train_rmse: 1.342084156502831\n",
      "Epoch  17 / 20  -  train_rmse: 1.337889346267785\n",
      "Epoch  18 / 20  -  train_rmse: 1.3337009584057575\n",
      "Epoch  19 / 20  -  train_rmse: 1.3295163192270203\n",
      "Epoch  20 / 20  -  train_rmse: 1.3253316890366194\n",
      "\n",
      "Test RMSE: 1.4297\n",
      "CPU times: user 2.72 s, sys: 19.6 ms, total: 2.74 s\n",
      "Wall time: 2.73 s\n"
     ]
    }
   ],
   "source": [
    "%%time \n",
    "matrix_fact = KernelMF(n_epochs = 20, n_factors = 100, verbose = 1, lr = 0.001, reg = 0.005)\n",
    "matrix_fact.fit(X_train, y_train)\n",
    "\n",
    "pred = matrix_fact.predict(X_test)\n",
    "rmse = mean_squared_error(y_test, pred, squared = False)\n",
    "\n",
    "print(f'\\nTest RMSE: {rmse:.4f}')"
   ]
  },
  {
   "cell_type": "markdown",
   "metadata": {},
   "source": [
    "## Getting list of recommendations for a user"
   ]
  },
  {
   "cell_type": "code",
   "execution_count": 86,
   "metadata": {},
   "outputs": [
    {
     "data": {
      "text/html": [
       "<div>\n",
       "<style scoped>\n",
       "    .dataframe tbody tr th:only-of-type {\n",
       "        vertical-align: middle;\n",
       "    }\n",
       "\n",
       "    .dataframe tbody tr th {\n",
       "        vertical-align: top;\n",
       "    }\n",
       "\n",
       "    .dataframe thead th {\n",
       "        text-align: right;\n",
       "    }\n",
       "</style>\n",
       "<table border=\"1\" class=\"dataframe\">\n",
       "  <thead>\n",
       "    <tr style=\"text-align: right;\">\n",
       "      <th></th>\n",
       "      <th>user_id</th>\n",
       "      <th>item_id</th>\n",
       "      <th>rating_pred</th>\n",
       "    </tr>\n",
       "  </thead>\n",
       "  <tbody>\n",
       "    <tr>\n",
       "      <th>61706</th>\n",
       "      <td>20222000</td>\n",
       "      <td>613781003</td>\n",
       "      <td>3.276323</td>\n",
       "    </tr>\n",
       "    <tr>\n",
       "      <th>50661</th>\n",
       "      <td>20222000</td>\n",
       "      <td>665722001</td>\n",
       "      <td>3.237811</td>\n",
       "    </tr>\n",
       "    <tr>\n",
       "      <th>60821</th>\n",
       "      <td>20222000</td>\n",
       "      <td>776781001</td>\n",
       "      <td>3.232709</td>\n",
       "    </tr>\n",
       "    <tr>\n",
       "      <th>78588</th>\n",
       "      <td>20222000</td>\n",
       "      <td>877522003</td>\n",
       "      <td>3.229571</td>\n",
       "    </tr>\n",
       "    <tr>\n",
       "      <th>3062</th>\n",
       "      <td>20222000</td>\n",
       "      <td>659208003</td>\n",
       "      <td>3.226029</td>\n",
       "    </tr>\n",
       "    <tr>\n",
       "      <th>69811</th>\n",
       "      <td>20222000</td>\n",
       "      <td>555622003</td>\n",
       "      <td>3.225628</td>\n",
       "    </tr>\n",
       "    <tr>\n",
       "      <th>76398</th>\n",
       "      <td>20222000</td>\n",
       "      <td>698877001</td>\n",
       "      <td>3.225293</td>\n",
       "    </tr>\n",
       "    <tr>\n",
       "      <th>51914</th>\n",
       "      <td>20222000</td>\n",
       "      <td>710667001</td>\n",
       "      <td>3.219278</td>\n",
       "    </tr>\n",
       "    <tr>\n",
       "      <th>26224</th>\n",
       "      <td>20222000</td>\n",
       "      <td>679687026</td>\n",
       "      <td>3.218313</td>\n",
       "    </tr>\n",
       "    <tr>\n",
       "      <th>79374</th>\n",
       "      <td>20222000</td>\n",
       "      <td>803070006</td>\n",
       "      <td>3.211188</td>\n",
       "    </tr>\n",
       "  </tbody>\n",
       "</table>\n",
       "</div>"
      ],
      "text/plain": [
       "        user_id    item_id  rating_pred\n",
       "61706  20222000  613781003     3.276323\n",
       "50661  20222000  665722001     3.237811\n",
       "60821  20222000  776781001     3.232709\n",
       "78588  20222000  877522003     3.229571\n",
       "3062   20222000  659208003     3.226029\n",
       "69811  20222000  555622003     3.225628\n",
       "76398  20222000  698877001     3.225293\n",
       "51914  20222000  710667001     3.219278\n",
       "26224  20222000  679687026     3.218313\n",
       "79374  20222000  803070006     3.211188"
      ]
     },
     "execution_count": 86,
     "metadata": {},
     "output_type": "execute_result"
    }
   ],
   "source": [
    "user = 20222000\n",
    "items_known = X_train.query('user_id == @user')['item_id']\n",
    "matrix_fact.recommend(user=user, items_known=items_known)"
   ]
  },
  {
   "cell_type": "markdown",
   "metadata": {},
   "source": [
    "## Sigmoid kernel"
   ]
  },
  {
   "cell_type": "code",
   "execution_count": 32,
   "metadata": {},
   "outputs": [
    {
     "name": "stdout",
     "output_type": "stream",
     "text": [
      "Epoch  1 / 20  -  train_rmse: 2.034817956838736\n",
      "Epoch  2 / 20  -  train_rmse: 1.5263551071137147\n",
      "Epoch  3 / 20  -  train_rmse: 1.4032789295442796\n",
      "Epoch  4 / 20  -  train_rmse: 1.3890578138330538\n",
      "Epoch  5 / 20  -  train_rmse: 1.378604524755767\n",
      "Epoch  6 / 20  -  train_rmse: 1.3688567318940805\n",
      "Epoch  7 / 20  -  train_rmse: 1.3586792672025598\n",
      "Epoch  8 / 20  -  train_rmse: 1.3484580652286358\n",
      "Epoch  9 / 20  -  train_rmse: 1.337836468306542\n",
      "Epoch  10 / 20  -  train_rmse: 1.326897341985218\n",
      "Epoch  11 / 20  -  train_rmse: 1.315147598137661\n",
      "Epoch  12 / 20  -  train_rmse: 1.3027353715144516\n",
      "Epoch  13 / 20  -  train_rmse: 1.2895141597240152\n",
      "Epoch  14 / 20  -  train_rmse: 1.2754253590874913\n",
      "Epoch  15 / 20  -  train_rmse: 1.260425641090361\n",
      "Epoch  16 / 20  -  train_rmse: 1.2438950967386315\n",
      "Epoch  17 / 20  -  train_rmse: 1.2269820165574754\n",
      "Epoch  18 / 20  -  train_rmse: 1.2084137423972772\n",
      "Epoch  19 / 20  -  train_rmse: 1.1886975410947411\n",
      "Epoch  20 / 20  -  train_rmse: 1.1676851959750638\n",
      "\n",
      "Test RMSE: 1.4178\n",
      "CPU times: user 2.5 s, sys: 12 ms, total: 2.51 s\n",
      "Wall time: 2.5 s\n"
     ]
    }
   ],
   "source": [
    "%%time \n",
    "matrix_fact = KernelMF(n_epochs = 20, n_factors = 100, verbose = 1, lr = 0.01, reg = 0.005, kernel='sigmoid')\n",
    "matrix_fact.fit(X_train, y_train)\n",
    "\n",
    "pred = matrix_fact.predict(X_test)\n",
    "rmse = mean_squared_error(y_test, pred, squared = False)\n",
    "\n",
    "print(f'\\nTest RMSE: {rmse:.4f}')"
   ]
  },
  {
   "cell_type": "markdown",
   "metadata": {},
   "source": [
    "## RBF Kernel"
   ]
  },
  {
   "cell_type": "code",
   "execution_count": 33,
   "metadata": {},
   "outputs": [
    {
     "name": "stdout",
     "output_type": "stream",
     "text": [
      "Epoch  1 / 20  -  train_rmse: 1.4413356532514567\n",
      "Epoch  2 / 20  -  train_rmse: 1.4154050770262954\n",
      "Epoch  3 / 20  -  train_rmse: 1.392121538131348\n",
      "Epoch  4 / 20  -  train_rmse: 1.3740825408844348\n",
      "Epoch  5 / 20  -  train_rmse: 1.351693120215384\n",
      "Epoch  6 / 20  -  train_rmse: 1.32244456718193\n",
      "Epoch  7 / 20  -  train_rmse: 1.2979135920417963\n",
      "Epoch  8 / 20  -  train_rmse: 1.2804791523446284\n",
      "Epoch  9 / 20  -  train_rmse: 1.258898521265899\n",
      "Epoch  10 / 20  -  train_rmse: 1.2362757367776251\n",
      "Epoch  11 / 20  -  train_rmse: 1.2120430136670712\n",
      "Epoch  12 / 20  -  train_rmse: 1.1947973631923807\n",
      "Epoch  13 / 20  -  train_rmse: 1.1736099599162642\n",
      "Epoch  14 / 20  -  train_rmse: 1.157576679020673\n",
      "Epoch  15 / 20  -  train_rmse: 1.1385495787523745\n",
      "Epoch  16 / 20  -  train_rmse: 1.124833637549907\n",
      "Epoch  17 / 20  -  train_rmse: 1.1017896713304083\n",
      "Epoch  18 / 20  -  train_rmse: 1.088208391594635\n",
      "Epoch  19 / 20  -  train_rmse: 1.071778958957508\n",
      "Epoch  20 / 20  -  train_rmse: 1.0535579166256774\n",
      "\n",
      "Test RMSE: 1.5017\n",
      "CPU times: user 3.2 s, sys: 11.9 ms, total: 3.21 s\n",
      "Wall time: 3.2 s\n"
     ]
    }
   ],
   "source": [
    "%%time \n",
    "matrix_fact = KernelMF(n_epochs = 20, n_factors = 100, verbose = 1, lr = 0.5, reg = 0.005, kernel='rbf')\n",
    "matrix_fact.fit(X_train, y_train)\n",
    "\n",
    "pred = matrix_fact.predict(X_test)\n",
    "rmse = mean_squared_error(y_test, pred, squared = False)\n",
    "\n",
    "print(f'\\nTest RMSE: {rmse:.4f}')"
   ]
  },
  {
   "cell_type": "markdown",
   "metadata": {},
   "source": [
    "# Scikit-learn compatability"
   ]
  },
  {
   "cell_type": "code",
   "execution_count": 34,
   "metadata": {},
   "outputs": [
    {
     "name": "stdout",
     "output_type": "stream",
     "text": [
      "Fitting 5 folds for each of 81 candidates, totalling 405 fits\n"
     ]
    },
    {
     "data": {
      "text/plain": [
       "GridSearchCV(cv=5, estimator=KernelMF(gamma=0.01, verbose=0), n_jobs=-1,\n",
       "             param_grid={'kernel': ['linear', 'sigmoid', 'rbf'],\n",
       "                         'n_epochs': [10, 20, 50], 'n_factors': [10, 20, 50],\n",
       "                         'reg': [0, 0.005, 0.1]},\n",
       "             scoring='neg_root_mean_squared_error', verbose=1)"
      ]
     },
     "execution_count": 34,
     "metadata": {},
     "output_type": "execute_result"
    }
   ],
   "source": [
    "from sklearn.model_selection import GridSearchCV, ParameterGrid\n",
    "\n",
    "param_grid = {\n",
    "    'kernel': ['linear', 'sigmoid', 'rbf'],\n",
    "    'n_factors': [10, 20, 50],\n",
    "    'n_epochs': [10, 20, 50],\n",
    "    'reg': [0, 0.005, 0.1]\n",
    "}\n",
    "\n",
    "grid_search = GridSearchCV(KernelMF(verbose=0), scoring = 'neg_root_mean_squared_error', param_grid=param_grid, n_jobs=-1, cv=5, verbose=1)\n",
    "grid_search.fit(X_train, y_train)"
   ]
  },
  {
   "cell_type": "code",
   "execution_count": 35,
   "metadata": {},
   "outputs": [
    {
     "data": {
      "text/plain": [
       "-1.4151348248236668"
      ]
     },
     "execution_count": 35,
     "metadata": {},
     "output_type": "execute_result"
    },
    {
     "data": {
      "text/plain": [
       "{'kernel': 'linear', 'n_epochs': 50, 'n_factors': 50, 'reg': 0.1}"
      ]
     },
     "execution_count": 35,
     "metadata": {},
     "output_type": "execute_result"
    }
   ],
   "source": [
    "grid_search.best_score_\n",
    "grid_search.best_params_"
   ]
  }
 ],
 "metadata": {
  "interpreter": {
   "hash": "916dbcbb3f70747c44a77c7bcd40155683ae19c65e1c03b4aa3499c5328201f1"
  },
  "kernelspec": {
   "display_name": "Python [conda env:recommend]",
   "language": "python",
   "name": "python3"
  },
  "language_info": {
   "codemirror_mode": {
    "name": "ipython",
    "version": 3
   },
   "file_extension": ".py",
   "mimetype": "text/x-python",
   "name": "python",
   "nbconvert_exporter": "python",
   "pygments_lexer": "ipython3",
   "version": "3.8.10"
  },
  "toc-autonumbering": true,
  "toc-showcode": false,
  "toc-showmarkdowntxt": false,
  "toc-showtags": false
 },
 "nbformat": 4,
 "nbformat_minor": 4
}
